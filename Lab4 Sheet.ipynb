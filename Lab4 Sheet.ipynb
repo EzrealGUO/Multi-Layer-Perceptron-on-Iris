{
 "cells": [
  {
   "cell_type": "markdown",
   "id": "33734441",
   "metadata": {},
   "source": [
    "# Part 1: Introducing MNIST"
   ]
  },
  {
   "cell_type": "code",
   "execution_count": 1,
   "id": "dfbd612f",
   "metadata": {},
   "outputs": [
    {
     "name": "stdout",
     "output_type": "stream",
     "text": [
      "Collecting torchbearer\n",
      "  Downloading torchbearer-0.5.3-py3-none-any.whl (138 kB)\n",
      "Requirement already satisfied: tqdm in c:\\users\\asus\\anaconda3\\lib\\site-packages (from torchbearer) (4.59.0)\n",
      "Requirement already satisfied: torch>=1.0.0 in c:\\users\\asus\\anaconda3\\lib\\site-packages (from torchbearer) (1.10.2)\n",
      "Requirement already satisfied: numpy in c:\\users\\asus\\anaconda3\\lib\\site-packages (from torchbearer) (1.20.1)\n",
      "Requirement already satisfied: typing_extensions in c:\\users\\asus\\anaconda3\\lib\\site-packages (from torch>=1.0.0->torchbearer) (3.7.4.3)\n",
      "Installing collected packages: torchbearer\n",
      "Successfully installed torchbearer-0.5.3\n"
     ]
    }
   ],
   "source": [
    "# Execute this code block to install dependencies when running on colab\n",
    "try:\n",
    "    import torch\n",
    "except:\n",
    "    from os.path import exists\n",
    "    from wheel.pep425tags import get_abbr_impl, get_impl_ver, get_abi_tag\n",
    "    platform = '{}{}-{}'.format(get_abbr_impl(), get_impl_ver(), get_abi_tag())\n",
    "    cuda_output = !ldconfig -p|grep cudart.so|sed -e 's/.*\\.\\([0-9]*\\)\\.\\([0-9]*\\)$/cu\\1\\2/'\n",
    "    accelerator = cuda_output[0] if exists('/dev/nvidia0') else 'cpu'\n",
    "\n",
    "    !pip install -q http://download.pytorch.org/whl/{accelerator}/torch-1.0.0-{platform}-linux_x86_64.whl torchvision\n",
    "\n",
    "try: \n",
    "    import torchbearer\n",
    "except:\n",
    "    !pip install torchbearer"
   ]
  },
  {
   "cell_type": "markdown",
   "id": "c47bd8cd",
   "metadata": {},
   "source": [
    "## The MNIST Dataset\n",
    "\n",
    "MNIST is a dataset developed by Yann LeCun, Corinna Cortes and Christopher Burges for evaluating machine learning models on the handwritten digit classification problem.\n",
    "\n",
    "The dataset was constructed from a number of scanned document dataset available from the National Institute of Standards and Technology (NIST). This is where the name for the dataset comes from, as the Modified NIST or MNIST dataset.\n",
    "\n",
    "Images of digits were taken from a variety of scanned documents, normalized in size and centred. This makes it an excellent dataset for evaluating models, allowing the developer to focus on the machine learning with very little data cleaning or preparation required.\n",
    "\n",
    "Each image is a 28 by 28 pixel square (784 pixels total). A standard spit of the dataset is used to evaluate and compare models, where 60,000 images are used to train a model and a separate set of 10,000 images are used to test it.\n",
    "\n",
    "It is a digit recognition task. As such there are 10 digits (0 to 9) or 10 classes to predict. Results are reported using prediction error, which is nothing more than the inverted classification accuracy.\n",
    "\n",
    "Excellent results achieve a prediction error of less than 1%. State-of-the-art prediction error of approximately 0.2% can be achieved with large Convolutional Neural Networks. There is a listing of the state-of-the-art results and links to the relevant papers on the MNIST and other datasets on [Rodrigo Benenson’s webpage](http://rodrigob.github.io/are_we_there_yet/build/classification_datasets_results.html#4d4e495354)."
   ]
  },
  {
   "cell_type": "markdown",
   "id": "75bebc1b",
   "metadata": {},
   "source": [
    "## Loading the MNIST dataset in PyTorch and torchvision\n",
    "\n",
    "The `torchvision` library provides a convenience method for loading the MNIST dataset. The dataset can be downloaded automatically the first time this function is called and is stored in a location of your choice. This is very handy for developing and testing deep learning models.\n",
    "\n",
    "To demonstrate how easy it is to load the MNIST dataset, we will first write a little script to download and visualize the first 4 images in the training dataset. __Read through the following code and then go-ahead and run it__."
   ]
  },
  {
   "cell_type": "code",
   "execution_count": 4,
   "id": "c64a02c3",
   "metadata": {},
   "outputs": [
    {
     "data": {
      "image/png": "[encoded data removed]",
      "text/plain": [
       "<Figure size 432x288 with 4 Axes>"
      ]
     },
     "metadata": {
      "needs_background": "light"
     },
     "output_type": "display_data"
    }
   ],
   "source": [
    "%matplotlib inline\n",
    "\n",
    "# Plot ad hoc mnist instances\n",
    "from torchvision.datasets import MNIST\n",
    "import matplotlib.pyplot as plt\n",
    "\n",
    "# load (download if needed) the MNIST dataset\n",
    "mnist_train = MNIST(\".\", train=True, download=True)\n",
    "\n",
    "# plot 4 images as gray scale\n",
    "plt.subplot(221)\n",
    "plt.imshow(mnist_train.train_data[0], cmap=plt.get_cmap('gray'))\n",
    "plt.subplot(222)\n",
    "plt.imshow(mnist_train.train_data[1], cmap=plt.get_cmap('gray'))\n",
    "plt.subplot(223)\n",
    "plt.imshow(mnist_train.train_data[2], cmap=plt.get_cmap('gray'))\n",
    "plt.subplot(224)\n",
    "plt.imshow(mnist_train.train_data[3], cmap=plt.get_cmap('gray'))\n",
    "\n",
    "# show the plot\n",
    "plt.show()"
   ]
  },
  {
   "cell_type": "markdown",
   "id": "d8d83d7d",
   "metadata": {},
   "source": [
    "You can see that downloading and loading the MNIST dataset is as easy as constructing an `MNIST` object. The `MNIST` object is a subclass of a PyTorch [`torch.utils.data.Dataset`](https://pytorch.org/docs/stable/data.html#torch.utils.data.Dataset) class, which as we'll see later can be used with a `DataLoader` object to provide streaming access to batches of data. The `MNIST` object loads all of the data in memory because it is so small; other datasets will load the data from disk (or elsewhere) on demand."
   ]
  },
  {
   "cell_type": "markdown",
   "id": "07fb9b14",
   "metadata": {},
   "source": [
    "__Use the following code block to explore the `mnist_train` object, then answer the questions that follow.__"
   ]
  },
  {
   "cell_type": "code",
   "execution_count": 7,
   "id": "878224b8",
   "metadata": {},
   "outputs": [
    {
     "name": "stdout",
     "output_type": "stream",
     "text": [
      "tensor([[[0, 0, 0,  ..., 0, 0, 0],\n",
      "         [0, 0, 0,  ..., 0, 0, 0],\n",
      "         [0, 0, 0,  ..., 0, 0, 0],\n",
      "         ...,\n",
      "         [0, 0, 0,  ..., 0, 0, 0],\n",
      "         [0, 0, 0,  ..., 0, 0, 0],\n",
      "         [0, 0, 0,  ..., 0, 0, 0]],\n",
      "\n",
      "        [[0, 0, 0,  ..., 0, 0, 0],\n",
      "         [0, 0, 0,  ..., 0, 0, 0],\n",
      "         [0, 0, 0,  ..., 0, 0, 0],\n",
      "         ...,\n",
      "         [0, 0, 0,  ..., 0, 0, 0],\n",
      "         [0, 0, 0,  ..., 0, 0, 0],\n",
      "         [0, 0, 0,  ..., 0, 0, 0]],\n",
      "\n",
      "        [[0, 0, 0,  ..., 0, 0, 0],\n",
      "         [0, 0, 0,  ..., 0, 0, 0],\n",
      "         [0, 0, 0,  ..., 0, 0, 0],\n",
      "         ...,\n",
      "         [0, 0, 0,  ..., 0, 0, 0],\n",
      "         [0, 0, 0,  ..., 0, 0, 0],\n",
      "         [0, 0, 0,  ..., 0, 0, 0]],\n",
      "\n",
      "        ...,\n",
      "\n",
      "        [[0, 0, 0,  ..., 0, 0, 0],\n",
      "         [0, 0, 0,  ..., 0, 0, 0],\n",
      "         [0, 0, 0,  ..., 0, 0, 0],\n",
      "         ...,\n",
      "         [0, 0, 0,  ..., 0, 0, 0],\n",
      "         [0, 0, 0,  ..., 0, 0, 0],\n",
      "         [0, 0, 0,  ..., 0, 0, 0]],\n",
      "\n",
      "        [[0, 0, 0,  ..., 0, 0, 0],\n",
      "         [0, 0, 0,  ..., 0, 0, 0],\n",
      "         [0, 0, 0,  ..., 0, 0, 0],\n",
      "         ...,\n",
      "         [0, 0, 0,  ..., 0, 0, 0],\n",
      "         [0, 0, 0,  ..., 0, 0, 0],\n",
      "         [0, 0, 0,  ..., 0, 0, 0]],\n",
      "\n",
      "        [[0, 0, 0,  ..., 0, 0, 0],\n",
      "         [0, 0, 0,  ..., 0, 0, 0],\n",
      "         [0, 0, 0,  ..., 0, 0, 0],\n",
      "         ...,\n",
      "         [0, 0, 0,  ..., 0, 0, 0],\n",
      "         [0, 0, 0,  ..., 0, 0, 0],\n",
      "         [0, 0, 0,  ..., 0, 0, 0]]], dtype=torch.uint8)\n",
      "torch.Size([60000, 28, 28])\n",
      "tensor([[  0,   0,   0,   0,   0,   0,   0,   0,   0,   0,   0,   0,   0,   0,\n",
      "           0,   0,   0,   0,   0,   0,   0,   0,   0,   0,   0,   0,   0,   0],\n",
      "        [  0,   0,   0,   0,   0,   0,   0,   0,   0,   0,   0,   0,   0,   0,\n",
      "           0,   0,   0,   0,   0,   0,   0,   0,   0,   0,   0,   0,   0,   0],\n",
      "        [  0,   0,   0,   0,   0,   0,   0,   0,   0,   0,   0,   0,   0,   0,\n",
      "           0,   0,   0,   0,   0,   0,   0,   0,   0,   0,   0,   0,   0,   0],\n",
      "        [  0,   0,   0,   0,   0,   0,   0,   0,   0,   0,   0,   0,   0,   0,\n",
      "           0,   0,   0,   0,   0,   0,   0,   0,   0,   0,   0,   0,   0,   0],\n",
      "        [  0,   0,   0,   0,   0,   0,   0,   0,   0,   0,   0,   0,   0,   0,\n",
      "           0,   0,   0,   0,   0,   0,   0,   0,   0,   0,   0,   0,   0,   0],\n",
      "        [  0,   0,   0,   0,   0,   0,   0,   0,   0,   0,   0,   0,   3,  18,\n",
      "          18,  18, 126, 136, 175,  26, 166, 255, 247, 127,   0,   0,   0,   0],\n",
      "        [  0,   0,   0,   0,   0,   0,   0,   0,  30,  36,  94, 154, 170, 253,\n",
      "         253, 253, 253, 253, 225, 172, 253, 242, 195,  64,   0,   0,   0,   0],\n",
      "        [  0,   0,   0,   0,   0,   0,   0,  49, 238, 253, 253, 253, 253, 253,\n",
      "         253, 253, 253, 251,  93,  82,  82,  56,  39,   0,   0,   0,   0,   0],\n",
      "        [  0,   0,   0,   0,   0,   0,   0,  18, 219, 253, 253, 253, 253, 253,\n",
      "         198, 182, 247, 241,   0,   0,   0,   0,   0,   0,   0,   0,   0,   0],\n",
      "        [  0,   0,   0,   0,   0,   0,   0,   0,  80, 156, 107, 253, 253, 205,\n",
      "          11,   0,  43, 154,   0,   0,   0,   0,   0,   0,   0,   0,   0,   0],\n",
      "        [  0,   0,   0,   0,   0,   0,   0,   0,   0,  14,   1, 154, 253,  90,\n",
      "           0,   0,   0,   0,   0,   0,   0,   0,   0,   0,   0,   0,   0,   0],\n",
      "        [  0,   0,   0,   0,   0,   0,   0,   0,   0,   0,   0, 139, 253, 190,\n",
      "           2,   0,   0,   0,   0,   0,   0,   0,   0,   0,   0,   0,   0,   0],\n",
      "        [  0,   0,   0,   0,   0,   0,   0,   0,   0,   0,   0,  11, 190, 253,\n",
      "          70,   0,   0,   0,   0,   0,   0,   0,   0,   0,   0,   0,   0,   0],\n",
      "        [  0,   0,   0,   0,   0,   0,   0,   0,   0,   0,   0,   0,  35, 241,\n",
      "         225, 160, 108,   1,   0,   0,   0,   0,   0,   0,   0,   0,   0,   0],\n",
      "        [  0,   0,   0,   0,   0,   0,   0,   0,   0,   0,   0,   0,   0,  81,\n",
      "         240, 253, 253, 119,  25,   0,   0,   0,   0,   0,   0,   0,   0,   0],\n",
      "        [  0,   0,   0,   0,   0,   0,   0,   0,   0,   0,   0,   0,   0,   0,\n",
      "          45, 186, 253, 253, 150,  27,   0,   0,   0,   0,   0,   0,   0,   0],\n",
      "        [  0,   0,   0,   0,   0,   0,   0,   0,   0,   0,   0,   0,   0,   0,\n",
      "           0,  16,  93, 252, 253, 187,   0,   0,   0,   0,   0,   0,   0,   0],\n",
      "        [  0,   0,   0,   0,   0,   0,   0,   0,   0,   0,   0,   0,   0,   0,\n",
      "           0,   0,   0, 249, 253, 249,  64,   0,   0,   0,   0,   0,   0,   0],\n",
      "        [  0,   0,   0,   0,   0,   0,   0,   0,   0,   0,   0,   0,   0,   0,\n",
      "          46, 130, 183, 253, 253, 207,   2,   0,   0,   0,   0,   0,   0,   0],\n",
      "        [  0,   0,   0,   0,   0,   0,   0,   0,   0,   0,   0,   0,  39, 148,\n",
      "         229, 253, 253, 253, 250, 182,   0,   0,   0,   0,   0,   0,   0,   0],\n",
      "        [  0,   0,   0,   0,   0,   0,   0,   0,   0,   0,  24, 114, 221, 253,\n",
      "         253, 253, 253, 201,  78,   0,   0,   0,   0,   0,   0,   0,   0,   0],\n",
      "        [  0,   0,   0,   0,   0,   0,   0,   0,  23,  66, 213, 253, 253, 253,\n",
      "         253, 198,  81,   2,   0,   0,   0,   0,   0,   0,   0,   0,   0,   0],\n",
      "        [  0,   0,   0,   0,   0,   0,  18, 171, 219, 253, 253, 253, 253, 195,\n",
      "          80,   9,   0,   0,   0,   0,   0,   0,   0,   0,   0,   0,   0,   0],\n",
      "        [  0,   0,   0,   0,  55, 172, 226, 253, 253, 253, 253, 244, 133,  11,\n",
      "           0,   0,   0,   0,   0,   0,   0,   0,   0,   0,   0,   0,   0,   0],\n",
      "        [  0,   0,   0,   0, 136, 253, 253, 253, 212, 135, 132,  16,   0,   0,\n",
      "           0,   0,   0,   0,   0,   0,   0,   0,   0,   0,   0,   0,   0,   0],\n",
      "        [  0,   0,   0,   0,   0,   0,   0,   0,   0,   0,   0,   0,   0,   0,\n",
      "           0,   0,   0,   0,   0,   0,   0,   0,   0,   0,   0,   0,   0,   0],\n",
      "        [  0,   0,   0,   0,   0,   0,   0,   0,   0,   0,   0,   0,   0,   0,\n",
      "           0,   0,   0,   0,   0,   0,   0,   0,   0,   0,   0,   0,   0,   0],\n",
      "        [  0,   0,   0,   0,   0,   0,   0,   0,   0,   0,   0,   0,   0,   0,\n",
      "           0,   0,   0,   0,   0,   0,   0,   0,   0,   0,   0,   0,   0,   0]],\n",
      "       dtype=torch.uint8)\n"
     ]
    }
   ],
   "source": [
    "print(mnist_train.train_data)\n",
    "print(mnist_train.train_data.size())\n",
    "print(mnist_train.train_data[59999])"
   ]
  },
  {
   "cell_type": "markdown",
   "id": "5b0221c5",
   "metadata": {},
   "source": [
    "__Answer the following questions (enter the answer in the box below each one):__\n",
    "\n",
    "__1.__ What type of object is the `mnist_train.train_data`?"
   ]
  },
  {
   "cell_type": "markdown",
   "id": "065d0f8b",
   "metadata": {},
   "source": [
    "Tensor object"
   ]
  },
  {
   "cell_type": "markdown",
   "id": "54be0640",
   "metadata": {},
   "source": [
    "__2.__ What is the shape of `mnist_train.train_data`?`"
   ]
  },
  {
   "cell_type": "markdown",
   "id": "40b5ebdd",
   "metadata": {},
   "source": [
    "60000 * 28 * 28"
   ]
  },
  {
   "cell_type": "markdown",
   "id": "dadbd1e7",
   "metadata": {},
   "source": [
    "__3.__ How is the label of each image stored in `mnist_train`?"
   ]
  },
  {
   "cell_type": "markdown",
   "id": "1531764f",
   "metadata": {},
   "source": [
    "Integers from {0,1,2,3,4,5,6,7,8,9}"
   ]
  },
  {
   "cell_type": "markdown",
   "id": "266c674e",
   "metadata": {},
   "source": [
    "# Part 2: Implementing an MLP classifier"
   ]
  },
  {
   "cell_type": "code",
   "execution_count": 9,
   "id": "6b97c170",
   "metadata": {},
   "outputs": [],
   "source": [
    "# Execute this code block to install dependencies when running on colab\n",
    "try:\n",
    "    import torch\n",
    "except:\n",
    "    from os.path import exists\n",
    "    from wheel.pep425tags import get_abbr_impl, get_impl_ver, get_abi_tag\n",
    "    platform = '{}{}-{}'.format(get_abbr_impl(), get_impl_ver(), get_abi_tag())\n",
    "    cuda_output = !ldconfig -p|grep cudart.so|sed -e 's/.*\\.\\([0-9]*\\)\\.\\([0-9]*\\)$/cu\\1\\2/'\n",
    "    accelerator = cuda_output[0] if exists('/dev/nvidia0') else 'cpu'\n",
    "\n",
    "    !pip install -q http://download.pytorch.org/whl/{accelerator}/torch-1.0.0-{platform}-linux_x86_64.whl torchvision\n",
    "\n",
    "try: \n",
    "    import torchbearer\n",
    "except:\n",
    "    !pip install torchbearer"
   ]
  },
  {
   "cell_type": "markdown",
   "id": "99d6b061",
   "metadata": {},
   "source": [
    "## Getting Started with a Baseline Multi-Layer Perceptron Model\n",
    "\n",
    "In addition to being a defacto tensor processing and automatic differentiation library, PyTorch provides a general purpose neural network toolbox. Before we start to look at deep convolutional architectures, we can start with something much simpler - a basic multilayer perceptron. Because the MNIST images are relatively small, a fully connected MLP network will have relatively few weights to train; with bigger images, an MLP might not be practical due to the number of weights.\n",
    "\n",
    "In this section we will create a simple multi-layer perceptron model with a single hidden layer that achieves an error rate of 1.88%. We will use this as a baseline for comparing more complex convolutional neural network models later.\n",
    "\n",
    "Let's start off by importing the classes and functions we will need."
   ]
  },
  {
   "cell_type": "code",
   "execution_count": 10,
   "id": "88693db3",
   "metadata": {},
   "outputs": [],
   "source": [
    "import torch\n",
    "import torch.nn.functional as F\n",
    "import torchvision.transforms as transforms\n",
    "from torch import nn\n",
    "from torch import optim\n",
    "from torch.utils.data import DataLoader\n",
    "from torchvision.datasets import MNIST"
   ]
  },
  {
   "cell_type": "markdown",
   "id": "b0ba648c",
   "metadata": {},
   "source": [
    "When developing, it is always a good idea to initialize the random number generator to a constant to ensure that the results of your script are reproducible each time you run it. Once the model is implemented and tested we might remove this to enable variance to be captured over multiple training runs."
   ]
  },
  {
   "cell_type": "code",
   "execution_count": 11,
   "id": "513843b3",
   "metadata": {},
   "outputs": [],
   "source": [
    "# fix random seed for reproducibility\n",
    "seed = 7\n",
    "torch.manual_seed(seed)\n",
    "torch.backends.cudnn.deterministic = True\n",
    "torch.backends.cudnn.benchmark = False\n",
    "import numpy as np\n",
    "np.random.seed(seed)"
   ]
  },
  {
   "cell_type": "markdown",
   "id": "bd5503d9",
   "metadata": {},
   "source": [
    "## Loading the MNIST data\n",
    "\n",
    "For the MLP network that we'll shortly define, we need to define a transformation to the data provided by the `MNIST` object that flattens each images into a vector. Before that happens, our transformation must also convert each image from a PIL image to a PyTorch `Tensor`. We can use the classes provided by the `torchvision.transforms` package to compose a set of transforms that given a PIL image will convert the input image to a `Tensor` and reshape that tensor into a vector:"
   ]
  },
  {
   "cell_type": "code",
   "execution_count": 17,
   "id": "ede0a1fe",
   "metadata": {},
   "outputs": [],
   "source": [
    "# flatten 28*28 images to a 784 vector for each image\n",
    "transform = transforms.Compose([\n",
    "    transforms.ToTensor(),  # convert to tensor\n",
    "    transforms.Lambda(lambda x: x.view(-1))  # flatten into vector\n",
    "])"
   ]
  },
  {
   "cell_type": "markdown",
   "id": "aaa31c4c",
   "metadata": {},
   "source": [
    "Note that for the latter part of the transform we use `Lambda` which allows us to construct a custom transform (rather than use one provided by torchvision). In this case our lambda function returns a new view of the input tensor which is a vector of length equal to the product of the input tensor's dimensions. In this particular case the input tensor had shape `[28, 28]`, so the output will have shape `[784]`. Passing `-1` as the input to the `view` method makes it automatically compute the output shape on the basis of the input.\n",
    "\n",
    "Now we can load the training and test splits of the MNIST dataset using the torchvision `MNIST` utility class. We can also provide our `transform` object so that it will be applied automatically when the data loads."
   ]
  },
  {
   "cell_type": "code",
   "execution_count": 13,
   "id": "39731902",
   "metadata": {},
   "outputs": [],
   "source": [
    "trainset = MNIST(\".\", train=True, download=True, transform=transform)\n",
    "testset = MNIST(\".\", train=False, download=True, transform=transform)"
   ]
  },
  {
   "cell_type": "markdown",
   "id": "53d9f68f",
   "metadata": {},
   "source": [
    "When we train and evaluate our model, we will require batches of data to be provided. As previously mentioned, the `DataLoader` class can automatically provide batches fetched from a `Dataset` object. The `DataLoader` has the ability to fetch batches in the background (using multiple threads if required) to optimise throughput to the deep network model. It also supports shuffling of the data order (very useful for gradient-based learning!)."
   ]
  },
  {
   "cell_type": "code",
   "execution_count": 14,
   "id": "7453963a",
   "metadata": {},
   "outputs": [],
   "source": [
    "# create data loaders\n",
    "trainloader = DataLoader(trainset, batch_size=128, shuffle=True)\n",
    "testloader = DataLoader(testset, batch_size=128, shuffle=True)"
   ]
  },
  {
   "cell_type": "markdown",
   "id": "598b294b",
   "metadata": {},
   "source": [
    "DataLoaders are iterable and can be used within a loop to fetch batches of data. Each batch is a tuple containing the images in the first element and the labels in the second. __Complete the following code block to calculate the number of instances of each class by iterating over the training data__:"
   ]
  },
  {
   "cell_type": "code",
   "execution_count": 42,
   "id": "4ecb8097",
   "metadata": {},
   "outputs": [
    {
     "name": "stdout",
     "output_type": "stream",
     "text": [
      "tensor([0, 0, 0, 0, 0, 0, 0, 0, 0, 0], dtype=torch.int32)\n",
      "tensor([5923, 6742, 5958, 6131, 5842, 5421, 5918, 6265, 5851, 5949],\n",
      "       dtype=torch.int32)\n"
     ]
    }
   ],
   "source": [
    "class_counts = torch.zeros(10, dtype=torch.int32)\n",
    "print(class_counts)\n",
    "for (images,labels) in trainloader:\n",
    "    for i in range(labels.size()[0]):\n",
    "#         print(i)\n",
    "#         print(labels[i])\n",
    "        for j in range(10):\n",
    "            if labels[i] == j:\n",
    "                class_counts[j] += 1\n",
    "\n",
    "print(class_counts)"
   ]
  },
  {
   "cell_type": "code",
   "execution_count": 43,
   "id": "231571ad",
   "metadata": {},
   "outputs": [],
   "source": [
    "assert class_counts.sum()==60000"
   ]
  },
  {
   "cell_type": "markdown",
   "id": "dff098b1",
   "metadata": {},
   "source": [
    "__Answer the following questions (enter the answer in the box below each one):__\n",
    "\n",
    "__1.__ Do all of the batches have the same size?"
   ]
  },
  {
   "cell_type": "markdown",
   "id": "a986c85d",
   "metadata": {},
   "source": [
    "468 * 128 + 1 * 96"
   ]
  },
  {
   "cell_type": "markdown",
   "id": "beca606c",
   "metadata": {},
   "source": [
    "__2.__ How can we configure `DataLoader` to control this?"
   ]
  },
  {
   "cell_type": "markdown",
   "id": "7f8afcf0",
   "metadata": {},
   "source": [
    "YOUR ANSWER HERE"
   ]
  },
  {
   "cell_type": "markdown",
   "id": "ce510209",
   "metadata": {},
   "source": [
    "## Defining the MLP Model\n",
    "\n",
    "We are now ready to create our simple neural network model. We will define our model in a class that extends `nn.Module`. `nn.Module` subclasses must do a minimum of one thing: implement the `forward` method which takes a batch of data and performs the forward-pass. PyTorch's autograd system will take care of computing the gradients of the forward pass for us. In the code below we'll also make use of the constructor of our model to instantiate the hidden and output layers."
   ]
  },
  {
   "cell_type": "code",
   "execution_count": 47,
   "id": "74b631b5",
   "metadata": {},
   "outputs": [],
   "source": [
    "# define baseline model\n",
    "class BaselineModel(nn.Module):\n",
    "    def __init__(self, input_size, hidden_size, num_classes):\n",
    "        super(BaselineModel, self).__init__()\n",
    "        self.fc1 = nn.Linear(input_size, hidden_size) \n",
    "        self.fc2 = nn.Linear(hidden_size, num_classes)  \n",
    "    \n",
    "    def forward(self, x):\n",
    "        out = self.fc1(x)\n",
    "        out = torch.nn.functional.relu(out)\n",
    "        out = self.fc2(out)\n",
    "        if not self.training:\n",
    "            out = torch.nn.functional.softmax(out, dim=1)\n",
    "        return out"
   ]
  },
  {
   "cell_type": "markdown",
   "id": "8a3e9ca3",
   "metadata": {},
   "source": [
    "The model is a simple neural network with one hidden layer. A rectifier linear unit (ReLU) activation function is used for the neurons in the hidden layer. Note how we use the PyTorch 'Functional API' for stateless operations like applying the ReLU; we could construct a `torch.nn.ReLU` in the constructor and save it in an instance variable instead, but ultimately this would lead to more lines of code.\n",
    "\n",
    "The `nn.Module` class defines a instance variable called `training` that is set to `True` when the model is being trained and `False` when it is being evaluated after being trained. In our model definition we've used a softmax activation function on the output layer to turn the outputs into probability-like values, but have only set this to be enabled when we are not training the model. We've done this because we will use PyTorch's implementation of Cross Entropy Loss (`nn.CrossEntropyLoss`) during training which implicitly adds a softmax before a logarithmic loss (technically it adds a log-softmax activation followed by a negative log-likelihood loss as this has much better numerical properties). If you've used a library like Keras before you should note that this approach is different to the one taken there - Keras expects you to explicitly add a `Softmax` layer to use with its `categorical_crossentropy` loss.\n",
    "\n",
    "In our case the softmax isn't actually necessary for model evaluation if we're only interested in the most likely class; the _logits_ (unscaled log probabilities) provided by the final fully connected layer before the softmax can be used directly as the largest logit will correspond to the most likely class.\n",
    "\n",
    "## Training and Evaluating the Model\n",
    "We can now fit and evaluate the model. One of the design decisions of PyTorch is that everything should be explicit so we have full control over our models and the training process. This means that we actually need to write the model training loop by hand, and perform each of the various operations (perform the forward-pass, compute the loss, perform the backward-pass, and update the weights). In the code below we'll fit the model to the data over 10 epochs using batches of 128 images provided by the `DataLoader` defined previously. We'll make use of the ADAM optimiser as it broadly tends to work well practically despite its limitations. Running the code below should take just a couple of minutes to complete the training."
   ]
  },
  {
   "cell_type": "code",
   "execution_count": 45,
   "id": "8e102f5c",
   "metadata": {},
   "outputs": [
    {
     "name": "stdout",
     "output_type": "stream",
     "text": [
      "Epoch 0, loss 136.85\n",
      "Epoch 1, loss 53.27\n",
      "Epoch 2, loss 34.41\n",
      "Epoch 3, loss 24.25\n",
      "Epoch 4, loss 17.19\n",
      "Epoch 5, loss 13.10\n",
      "Epoch 6, loss 9.59\n",
      "Epoch 7, loss 6.89\n",
      "Epoch 8, loss 6.16\n",
      "Epoch 9, loss 4.60\n",
      "**** Finished Training ****\n"
     ]
    }
   ],
   "source": [
    "# build the model \n",
    "model = BaselineModel(784, 784, 10)\n",
    "\n",
    "# define the loss function and the optimiser\n",
    "loss_function = nn.CrossEntropyLoss()\n",
    "optimiser = optim.Adam(model.parameters())\n",
    "\n",
    "# the epoch loop\n",
    "for epoch in range(10):\n",
    "    running_loss = 0.0\n",
    "    for data in trainloader:\n",
    "        # get the inputs\n",
    "        inputs, labels = data\n",
    "\n",
    "        # zero the parameter gradients\n",
    "        optimiser.zero_grad()\n",
    "\n",
    "        # forward + loss + backward + optimise (update weights)\n",
    "        outputs = model(inputs)\n",
    "        loss = loss_function(outputs, labels)\n",
    "        loss.backward()\n",
    "        optimiser.step()\n",
    "\n",
    "        # keep track of the loss this epoch\n",
    "        running_loss += loss.item()\n",
    "    print(\"Epoch %d, loss %4.2f\" % (epoch, running_loss))\n",
    "print('**** Finished Training ****')"
   ]
  },
  {
   "cell_type": "markdown",
   "id": "fa45a586",
   "metadata": {},
   "source": [
    "In the above we added a crude indicator of progress by printing the total loss at the end of each epoch. Hopefully the loss went down as the model learned! \n",
    "\n",
    "At this point it would be good to compute the overall accuracy of the test set. __Use the following code block to finish implementation of the accuracy computation.__ Note that before the code you'll implement we've made a call to `model.eval()` - this sets the model into evaluation mode and supresses non-training things (gradients, and things such as dropout being applied/computed)."
   ]
  },
  {
   "cell_type": "code",
   "execution_count": 76,
   "id": "a4aa0080",
   "metadata": {},
   "outputs": [
    {
     "name": "stdout",
     "output_type": "stream",
     "text": [
      "tensor([0, 9, 1, 6, 3, 9, 2, 8, 6, 9, 3, 6, 2, 3, 2, 2, 8, 1, 8, 7, 2, 6, 8, 5,\n",
      "        9, 7, 0, 4, 4, 8, 7, 2, 8, 1, 2, 9, 1, 4, 1, 6, 0, 7, 9, 9, 4, 4, 3, 6,\n",
      "        4, 9, 6, 7, 0, 1, 3, 4, 4, 3, 6, 3, 8, 3, 7, 0, 3, 0, 1, 9, 2, 1, 0, 9,\n",
      "        3, 8, 3, 7, 1, 5, 1, 0, 4, 1, 0, 0, 9, 0, 1, 0, 4, 8, 4, 5, 5, 1, 7, 8,\n",
      "        7, 6, 4, 4, 2, 2, 8, 6, 7, 9, 6, 4, 1, 6, 2, 7, 5, 1, 6, 3, 2, 9, 0, 4,\n",
      "        1, 1, 2, 0, 3, 3, 2, 8])\n",
      "tensor([0, 9, 1, 6, 3, 9, 2, 8, 6, 9, 3, 6, 6, 3, 2, 7, 8, 1, 8, 7, 2, 6, 8, 5,\n",
      "        9, 7, 0, 4, 4, 8, 7, 2, 8, 1, 2, 9, 1, 4, 1, 6, 0, 7, 9, 9, 4, 4, 3, 6,\n",
      "        4, 9, 6, 7, 0, 1, 3, 4, 4, 3, 6, 3, 8, 3, 7, 0, 3, 0, 1, 9, 2, 1, 0, 9,\n",
      "        3, 8, 3, 7, 1, 5, 1, 0, 4, 1, 0, 0, 9, 0, 1, 0, 4, 8, 4, 5, 5, 1, 7, 8,\n",
      "        7, 6, 4, 4, 2, 2, 8, 6, 7, 3, 6, 4, 1, 6, 2, 7, 5, 1, 6, 3, 2, 9, 0, 4,\n",
      "        1, 1, 2, 0, 3, 3, 2, 8])\n",
      "tensor([7, 1, 2, 0, 0, 2, 9, 4, 0, 9, 7, 0, 4, 4, 9, 0, 2, 6, 4, 6, 3, 1, 7, 7,\n",
      "        3, 1, 6, 1, 2, 4, 9, 4, 5, 0, 0, 5, 5, 4, 9, 3, 0, 8, 9, 1, 7, 8, 1, 8,\n",
      "        6, 7, 4, 1, 9, 0, 4, 3, 9, 8, 8, 1, 6, 9, 9, 6, 4, 1, 2, 1, 6, 6, 3, 3,\n",
      "        5, 6, 1, 0, 9, 1, 1, 8, 9, 9, 1, 5, 3, 1, 8, 0, 2, 6, 4, 7, 9, 1, 9, 0,\n",
      "        2, 1, 1, 4, 5, 3, 6, 6, 8, 7, 9, 7, 6, 5, 5, 0, 9, 8, 8, 6, 8, 0, 0, 5,\n",
      "        3, 2, 8, 4, 8, 6, 4, 2])\n",
      "tensor([7, 7, 2, 0, 0, 2, 9, 4, 0, 9, 7, 0, 4, 4, 9, 0, 2, 6, 4, 6, 5, 2, 7, 7,\n",
      "        3, 1, 6, 1, 2, 4, 9, 4, 5, 0, 0, 5, 5, 4, 9, 3, 0, 8, 9, 1, 7, 8, 1, 8,\n",
      "        6, 7, 4, 1, 9, 0, 4, 3, 9, 8, 8, 1, 6, 9, 9, 6, 4, 1, 2, 1, 6, 6, 3, 3,\n",
      "        5, 6, 1, 0, 9, 1, 1, 8, 9, 9, 1, 5, 3, 1, 8, 0, 2, 6, 4, 7, 9, 1, 9, 0,\n",
      "        2, 1, 1, 8, 5, 3, 6, 6, 8, 7, 9, 7, 6, 5, 5, 0, 9, 8, 8, 6, 8, 0, 0, 5,\n",
      "        3, 2, 8, 4, 2, 6, 4, 2])\n",
      "tensor([4, 8, 7, 0, 0, 5, 8, 2, 7, 3, 6, 4, 0, 1, 0, 1, 7, 0, 2, 7, 0, 9, 3, 4,\n",
      "        6, 7, 2, 9, 1, 6, 2, 3, 2, 0, 5, 7, 0, 2, 7, 4, 7, 6, 3, 9, 9, 9, 9, 8,\n",
      "        2, 7, 3, 5, 6, 5, 7, 7, 3, 5, 1, 8, 3, 0, 5, 4, 7, 8, 2, 8, 4, 8, 9, 7,\n",
      "        8, 5, 7, 1, 1, 7, 5, 4, 2, 6, 1, 7, 3, 7, 7, 1, 5, 2, 0, 2, 1, 8, 9, 8,\n",
      "        1, 3, 3, 3, 1, 7, 1, 1, 1, 8, 6, 0, 4, 4, 4, 8, 1, 2, 6, 8, 5, 6, 7, 2,\n",
      "        2, 1, 2, 6, 8, 2, 6, 6])\n",
      "tensor([4, 8, 7, 0, 0, 5, 8, 2, 7, 3, 6, 9, 0, 1, 0, 1, 7, 0, 2, 7, 0, 9, 3, 4,\n",
      "        5, 7, 2, 9, 1, 6, 2, 3, 2, 0, 5, 7, 0, 2, 7, 4, 7, 6, 3, 9, 9, 9, 9, 8,\n",
      "        2, 7, 3, 5, 6, 5, 7, 7, 3, 5, 1, 8, 3, 0, 5, 4, 7, 8, 2, 8, 4, 8, 9, 7,\n",
      "        8, 5, 7, 1, 1, 7, 5, 4, 2, 6, 1, 7, 3, 7, 7, 1, 5, 2, 0, 2, 1, 8, 9, 8,\n",
      "        1, 3, 3, 3, 1, 7, 1, 1, 1, 8, 6, 0, 4, 4, 4, 8, 1, 2, 6, 8, 5, 6, 7, 2,\n",
      "        2, 1, 2, 6, 8, 2, 6, 6])\n",
      "tensor([6, 3, 4, 3, 6, 2, 0, 3, 5, 8, 5, 8, 2, 3, 7, 2, 8, 6, 2, 8, 0, 2, 9, 8,\n",
      "        4, 0, 6, 3, 9, 9, 2, 8, 3, 5, 2, 6, 4, 6, 5, 7, 5, 6, 3, 0, 5, 1, 8, 1,\n",
      "        3, 3, 3, 8, 3, 8, 2, 7, 1, 4, 0, 6, 0, 9, 2, 7, 7, 6, 8, 0, 5, 6, 2, 4,\n",
      "        5, 1, 1, 8, 3, 9, 9, 5, 1, 3, 3, 3, 2, 0, 7, 2, 2, 3, 0, 4, 5, 1, 6, 2,\n",
      "        2, 3, 7, 3, 6, 3, 9, 0, 3, 8, 8, 3, 7, 7, 1, 1, 7, 9, 5, 7, 2, 8, 1, 6,\n",
      "        1, 3, 1, 0, 5, 0, 8, 9])\n",
      "tensor([6, 3, 6, 3, 6, 2, 0, 3, 5, 8, 5, 8, 2, 3, 7, 2, 8, 6, 2, 8, 2, 2, 9, 8,\n",
      "        4, 0, 6, 3, 9, 9, 2, 2, 3, 5, 2, 6, 4, 6, 5, 7, 5, 6, 3, 5, 5, 1, 8, 1,\n",
      "        3, 3, 5, 8, 3, 8, 2, 7, 1, 4, 0, 6, 0, 9, 2, 7, 7, 6, 8, 0, 5, 6, 2, 4,\n",
      "        5, 1, 1, 8, 3, 9, 9, 5, 1, 3, 3, 3, 2, 0, 7, 6, 2, 3, 0, 4, 5, 1, 6, 2,\n",
      "        2, 3, 7, 3, 6, 3, 4, 0, 3, 8, 8, 3, 7, 7, 1, 1, 7, 9, 5, 7, 2, 8, 1, 6,\n",
      "        1, 3, 1, 0, 5, 0, 8, 9])\n",
      "tensor([9, 2, 9, 2, 2, 1, 7, 6, 8, 0, 1, 2, 7, 9, 6, 7, 3, 9, 0, 1, 9, 9, 7, 5,\n",
      "        1, 4, 4, 3, 7, 7, 4, 6, 2, 1, 6, 9, 5, 7, 5, 8, 5, 0, 5, 8, 5, 7, 2, 3,\n",
      "        3, 6, 1, 4, 7, 3, 9, 9, 1, 3, 9, 0, 6, 9, 2, 6, 8, 6, 4, 0, 5, 0, 9, 3,\n",
      "        4, 6, 6, 0, 3, 2, 7, 2, 1, 3, 4, 8, 8, 4, 4, 2, 5, 0, 0, 1, 9, 5, 8, 9,\n",
      "        1, 4, 4, 9, 2, 9, 3, 3, 4, 9, 0, 6, 8, 1, 4, 4, 1, 3, 3, 2, 8, 3, 0, 3,\n",
      "        1, 9, 8, 3, 0, 2, 0, 1])\n",
      "tensor([9, 2, 9, 2, 2, 1, 7, 6, 8, 0, 1, 2, 7, 9, 6, 7, 3, 9, 0, 1, 9, 9, 7, 5,\n",
      "        1, 4, 4, 3, 7, 7, 4, 6, 2, 1, 6, 9, 5, 7, 5, 8, 5, 0, 5, 8, 5, 7, 2, 3,\n",
      "        3, 6, 1, 4, 7, 3, 9, 9, 1, 3, 9, 0, 6, 9, 2, 6, 8, 6, 4, 0, 5, 0, 7, 3,\n",
      "        4, 6, 6, 0, 3, 2, 7, 2, 1, 3, 4, 8, 8, 4, 4, 2, 5, 0, 0, 1, 9, 5, 8, 9,\n",
      "        1, 4, 4, 9, 2, 9, 3, 3, 4, 9, 0, 6, 8, 1, 4, 4, 1, 3, 3, 2, 8, 3, 0, 3,\n",
      "        1, 9, 8, 3, 0, 2, 0, 1])\n",
      "tensor([7, 1, 6, 3, 4, 2, 4, 1, 9, 5, 0, 8, 1, 1, 2, 9, 0, 2, 8, 7, 3, 7, 6, 7,\n",
      "        0, 9, 6, 4, 4, 7, 1, 6, 1, 1, 9, 5, 8, 7, 0, 2, 8, 7, 8, 6, 9, 1, 7, 1,\n",
      "        2, 5, 9, 1, 3, 9, 6, 5, 1, 6, 8, 2, 1, 6, 9, 4, 9, 8, 3, 0, 6, 9, 8, 3,\n",
      "        4, 1, 0, 7, 5, 2, 9, 7, 8, 5, 8, 7, 6, 6, 1, 6, 5, 6, 6, 5, 6, 7, 8, 8,\n",
      "        7, 5, 5, 4, 5, 0, 5, 9, 6, 4, 6, 5, 6, 8, 7, 1, 8, 3, 1, 4, 9, 7, 7, 0,\n",
      "        5, 2, 5, 7, 0, 0, 8, 5])\n",
      "tensor([7, 1, 6, 3, 4, 2, 4, 1, 9, 5, 0, 8, 1, 1, 2, 9, 0, 2, 8, 7, 3, 7, 6, 7,\n",
      "        0, 9, 6, 4, 4, 7, 1, 6, 1, 1, 9, 5, 8, 7, 0, 2, 8, 7, 8, 6, 9, 1, 7, 1,\n",
      "        2, 5, 9, 1, 3, 9, 6, 5, 1, 6, 8, 2, 1, 6, 9, 4, 9, 8, 3, 0, 6, 9, 8, 3,\n",
      "        4, 1, 0, 7, 5, 2, 9, 7, 8, 5, 8, 7, 6, 6, 1, 6, 5, 6, 6, 5, 6, 7, 8, 8,\n",
      "        7, 5, 5, 4, 5, 0, 5, 9, 6, 4, 6, 5, 6, 8, 7, 3, 8, 3, 1, 4, 9, 7, 7, 0,\n",
      "        5, 2, 5, 7, 0, 0, 8, 5])\n",
      "tensor([5, 6, 4, 8, 0, 4, 1, 3, 9, 4, 8, 2, 7, 5, 8, 7, 2, 0, 5, 5, 2, 7, 4, 6,\n",
      "        8, 5, 9, 8, 2, 6, 5, 1, 4, 1, 7, 5, 0, 9, 0, 2, 2, 5, 6, 3, 3, 8, 7, 2,\n",
      "        3, 9, 8, 1, 9, 9, 7, 5, 2, 3, 7, 0, 4, 4, 4, 0, 9, 4, 9, 9, 9, 7, 5, 3,\n",
      "        8, 4, 7, 0, 8, 2, 3, 0, 8, 1, 4, 7, 1, 9, 7, 6, 9, 0, 2, 5, 8, 0, 9, 1,\n",
      "        0, 7, 3, 8, 4, 3, 0, 8, 7, 0, 0, 9, 5, 3, 9, 7, 1, 8, 0, 7, 7, 7, 1, 7,\n",
      "        1, 9, 9, 0, 2, 9, 2, 1])\n",
      "tensor([5, 6, 4, 8, 0, 4, 1, 3, 9, 4, 8, 2, 7, 5, 8, 7, 2, 0, 5, 5, 2, 7, 4, 6,\n",
      "        8, 5, 9, 8, 2, 6, 5, 1, 4, 1, 7, 5, 0, 9, 0, 2, 2, 5, 6, 3, 3, 8, 7, 2,\n",
      "        3, 9, 8, 1, 9, 9, 7, 5, 2, 3, 7, 0, 4, 4, 4, 0, 9, 4, 9, 9, 9, 7, 5, 3,\n",
      "        8, 4, 7, 0, 8, 2, 3, 0, 8, 1, 4, 7, 1, 9, 7, 6, 9, 0, 2, 5, 8, 0, 9, 1,\n",
      "        0, 7, 3, 8, 4, 3, 0, 8, 7, 0, 0, 9, 5, 3, 9, 7, 1, 8, 0, 7, 7, 7, 1, 7,\n",
      "        1, 9, 9, 0, 2, 9, 2, 1])\n",
      "tensor([9, 5, 0, 0, 9, 9, 5, 9, 9, 1, 8, 6, 9, 1, 5, 8, 0, 5, 1, 0, 4, 3, 2, 1,\n",
      "        2, 6, 1, 2, 4, 3, 9, 9, 4, 3, 5, 3, 3, 8, 9, 0, 0, 3, 3, 1, 9, 0, 0, 7,\n",
      "        0, 4, 9, 0, 6, 6, 3, 3, 9, 9, 7, 2, 9, 3, 4, 8, 4, 6, 7, 8, 3, 2, 2, 4,\n",
      "        0, 9, 6, 0, 7, 6, 4, 4, 9, 4, 8, 4, 0, 9, 3, 0, 9, 6, 6, 0, 6, 7, 7, 3,\n",
      "        6, 4, 8, 1, 2, 8, 5, 0, 8, 1, 5, 6, 6, 7, 9, 2, 4, 9, 8, 1, 6, 1, 3, 0,\n",
      "        2, 3, 6, 5, 7, 0, 1, 6])\n",
      "tensor([9, 5, 0, 0, 9, 9, 5, 9, 9, 1, 8, 6, 9, 1, 5, 8, 0, 5, 1, 0, 4, 3, 2, 1,\n",
      "        2, 6, 1, 2, 4, 3, 9, 9, 6, 3, 5, 3, 3, 8, 9, 0, 0, 3, 3, 1, 9, 0, 0, 7,\n",
      "        0, 4, 9, 0, 6, 6, 3, 3, 9, 9, 7, 2, 9, 3, 4, 8, 4, 6, 7, 8, 3, 2, 2, 4,\n",
      "        0, 9, 6, 0, 7, 6, 4, 4, 9, 4, 8, 4, 0, 9, 3, 0, 9, 6, 6, 0, 6, 7, 7, 3,\n",
      "        6, 4, 8, 1, 2, 8, 5, 0, 8, 1, 5, 6, 6, 7, 9, 2, 9, 9, 8, 1, 6, 1, 3, 0,\n",
      "        2, 3, 6, 5, 7, 0, 1, 6])\n",
      "tensor([5, 2, 5, 0, 7, 2, 4, 7, 2, 9, 1, 2, 4, 4, 8, 3, 8, 5, 6, 5, 6, 6, 8, 4,\n",
      "        2, 1, 2, 4, 2, 1, 7, 4, 7, 4, 5, 1, 4, 2, 5, 7, 4, 5, 2, 8, 0, 3, 4, 9,\n",
      "        1, 9, 8, 2, 2, 3, 5, 6, 6, 5, 6, 6, 3, 3, 6, 4, 9, 2, 5, 8, 9, 9, 9, 1,\n",
      "        6, 9, 3, 8, 0, 3, 8, 7, 9, 4, 6, 1, 9, 1, 9, 9, 1, 1, 4, 1, 6, 8, 0, 8,\n",
      "        7, 8, 1, 8, 6, 3, 0, 6, 0, 2, 8, 7, 0, 4, 3, 5, 5, 2, 7, 3, 4, 5, 2, 7,\n",
      "        3, 7, 9, 7, 3, 7, 3, 6])\n",
      "tensor([5, 2, 5, 0, 7, 2, 4, 7, 2, 9, 1, 2, 4, 4, 8, 3, 8, 5, 6, 5, 6, 6, 8, 4,\n",
      "        2, 1, 2, 4, 2, 1, 7, 4, 7, 4, 5, 1, 4, 2, 5, 7, 4, 5, 2, 8, 0, 3, 4, 9,\n",
      "        1, 9, 7, 2, 2, 3, 5, 6, 6, 5, 6, 6, 3, 3, 6, 4, 9, 2, 5, 8, 9, 9, 9, 1,\n",
      "        6, 9, 3, 8, 8, 3, 8, 7, 9, 4, 6, 1, 9, 1, 9, 9, 1, 1, 4, 1, 6, 8, 0, 7,\n",
      "        7, 8, 1, 8, 6, 3, 0, 6, 0, 2, 8, 7, 0, 4, 3, 5, 5, 2, 9, 3, 4, 5, 2, 7,\n",
      "        3, 7, 9, 7, 3, 7, 3, 6])\n",
      "tensor([2, 2, 5, 0, 8, 2, 1, 2, 3, 4, 1, 3, 8, 9, 8, 6, 4, 5, 7, 3, 7, 9, 3, 6,\n",
      "        4, 5, 7, 2, 8, 0, 6, 5, 6, 9, 4, 9, 0, 4, 1, 9, 0, 8, 2, 8, 2, 0, 7, 4,\n",
      "        6, 3, 0, 3, 6, 1, 6, 0, 7, 7, 6, 6, 7, 1, 4, 2, 0, 5, 0, 4, 7, 8, 1, 3,\n",
      "        2, 9, 2, 4, 3, 8, 7, 2, 7, 5, 6, 2, 4, 6, 3, 1, 1, 4, 9, 4, 4, 7, 1, 6,\n",
      "        4, 1, 4, 1, 8, 0, 3, 2, 7, 8, 9, 2, 6, 3, 0, 7, 1, 1, 3, 1, 8, 6, 0, 5,\n",
      "        3, 2, 2, 4, 6, 0, 6, 2])\n",
      "tensor([2, 2, 5, 0, 8, 2, 1, 2, 3, 4, 1, 3, 8, 9, 8, 6, 4, 5, 7, 3, 7, 9, 3, 6,\n",
      "        4, 5, 7, 2, 8, 0, 6, 5, 6, 9, 4, 9, 0, 4, 1, 9, 0, 8, 2, 8, 2, 0, 7, 4,\n",
      "        6, 3, 0, 3, 6, 1, 6, 0, 7, 7, 6, 6, 7, 1, 4, 2, 0, 5, 0, 4, 7, 8, 1, 3,\n",
      "        2, 9, 2, 4, 3, 8, 7, 2, 8, 5, 6, 2, 4, 6, 3, 1, 1, 4, 9, 4, 4, 7, 1, 6,\n",
      "        4, 1, 4, 1, 8, 0, 3, 2, 7, 8, 9, 2, 6, 3, 0, 7, 1, 1, 3, 1, 8, 6, 0, 5,\n",
      "        3, 2, 2, 4, 6, 0, 6, 2])\n",
      "tensor([5, 0, 4, 9, 7, 2, 8, 1, 2, 4, 3, 2, 1, 3, 4, 8, 3, 3, 6, 0, 7, 0, 6, 1,\n",
      "        1, 7, 4, 9, 9, 0, 0, 0, 4, 3, 1, 7, 1, 4, 7, 7, 1, 3, 5, 2, 5, 8, 8, 7,\n",
      "        1, 1, 2, 9, 3, 8, 3, 8, 8, 5, 1, 3, 3, 7, 6, 7, 1, 1, 8, 4, 7, 8, 0, 3,\n",
      "        6, 1, 7, 7, 4, 9, 5, 4, 7, 5, 3, 5, 8, 1, 1, 9, 3, 8, 0, 2, 3, 3, 4, 6,\n",
      "        6, 6, 5, 3, 2, 3, 7, 6, 1, 4, 1, 2, 8, 9, 8, 1, 9, 0, 1, 9, 1, 5, 2, 6,\n",
      "        5, 1, 0, 9, 7, 0, 5, 4])\n"
     ]
    },
    {
     "name": "stdout",
     "output_type": "stream",
     "text": [
      "tensor([5, 0, 4, 9, 7, 2, 8, 1, 2, 4, 3, 2, 1, 3, 4, 8, 3, 3, 6, 0, 7, 0, 6, 1,\n",
      "        1, 7, 4, 9, 9, 0, 0, 0, 4, 3, 1, 7, 1, 4, 7, 7, 1, 3, 5, 2, 5, 8, 8, 7,\n",
      "        1, 1, 2, 9, 3, 8, 3, 8, 8, 5, 1, 9, 3, 7, 6, 7, 1, 1, 8, 4, 7, 8, 0, 3,\n",
      "        6, 1, 7, 7, 4, 9, 5, 4, 7, 5, 3, 5, 8, 1, 1, 9, 3, 8, 0, 2, 0, 3, 4, 6,\n",
      "        6, 4, 5, 3, 2, 3, 7, 6, 1, 4, 1, 2, 8, 9, 8, 1, 9, 0, 1, 9, 1, 5, 2, 6,\n",
      "        5, 1, 0, 9, 7, 0, 5, 4])\n",
      "tensor([5, 8, 6, 1, 2, 7, 9, 6, 8, 4, 7, 5, 7, 6, 3, 3, 1, 2, 9, 8, 8, 1, 5, 5,\n",
      "        7, 2, 6, 3, 7, 8, 2, 9, 7, 3, 1, 6, 7, 9, 3, 4, 0, 5, 1, 5, 7, 2, 4, 1,\n",
      "        7, 2, 0, 2, 8, 8, 2, 9, 5, 5, 4, 1, 2, 4, 5, 4, 1, 4, 1, 8, 1, 9, 0, 0,\n",
      "        3, 9, 9, 0, 1, 8, 0, 7, 1, 3, 0, 0, 8, 6, 4, 0, 2, 6, 1, 8, 4, 7, 3, 6,\n",
      "        9, 8, 7, 1, 2, 9, 7, 7, 6, 7, 3, 0, 9, 5, 8, 2, 0, 5, 0, 9, 8, 3, 1, 0,\n",
      "        9, 9, 0, 3, 5, 3, 1, 5])\n",
      "tensor([5, 8, 6, 1, 2, 7, 9, 6, 8, 4, 7, 5, 7, 6, 3, 3, 1, 2, 9, 8, 8, 1, 5, 5,\n",
      "        7, 2, 6, 3, 7, 8, 2, 9, 7, 8, 1, 6, 7, 9, 3, 4, 0, 5, 1, 5, 7, 2, 4, 1,\n",
      "        7, 2, 6, 2, 8, 8, 2, 9, 5, 5, 5, 1, 2, 4, 5, 4, 1, 4, 1, 8, 1, 9, 0, 0,\n",
      "        3, 9, 9, 0, 1, 8, 0, 7, 1, 3, 0, 0, 8, 6, 4, 0, 2, 6, 1, 8, 4, 7, 3, 6,\n",
      "        9, 8, 7, 1, 2, 9, 7, 7, 6, 7, 3, 0, 9, 5, 8, 2, 0, 5, 0, 9, 8, 3, 1, 0,\n",
      "        9, 9, 0, 3, 5, 3, 1, 5])\n",
      "tensor([9, 3, 4, 4, 8, 9, 9, 1, 2, 1, 4, 9, 4, 2, 7, 3, 1, 3, 9, 5, 4, 4, 0, 6,\n",
      "        0, 8, 2, 5, 2, 5, 1, 9, 9, 3, 9, 0, 2, 6, 8, 4, 1, 8, 7, 2, 5, 5, 0, 8,\n",
      "        1, 6, 9, 2, 1, 7, 2, 1, 2, 7, 1, 1, 3, 3, 5, 3, 6, 3, 7, 4, 0, 1, 1, 8,\n",
      "        7, 8, 3, 7, 0, 2, 1, 0, 0, 2, 3, 7, 0, 8, 6, 6, 6, 5, 9, 7, 0, 0, 7, 3,\n",
      "        5, 4, 2, 1, 4, 7, 9, 4, 2, 6, 1, 9, 6, 1, 7, 4, 3, 1, 0, 2, 6, 0, 1, 8,\n",
      "        6, 9, 6, 2, 1, 5, 9, 4])\n",
      "tensor([9, 3, 4, 4, 8, 9, 9, 1, 2, 1, 4, 9, 4, 2, 7, 3, 1, 3, 9, 5, 4, 9, 0, 6,\n",
      "        0, 8, 2, 5, 2, 5, 1, 9, 9, 3, 9, 0, 2, 6, 8, 4, 1, 8, 7, 2, 5, 5, 0, 8,\n",
      "        1, 6, 9, 2, 1, 7, 2, 1, 2, 7, 1, 1, 3, 3, 5, 3, 6, 3, 7, 4, 0, 1, 1, 8,\n",
      "        3, 8, 3, 7, 0, 2, 1, 0, 0, 2, 3, 7, 0, 8, 6, 6, 6, 5, 9, 7, 0, 0, 7, 3,\n",
      "        5, 4, 2, 1, 4, 7, 9, 4, 2, 6, 1, 9, 6, 1, 7, 4, 3, 1, 0, 2, 6, 0, 1, 8,\n",
      "        6, 9, 6, 2, 1, 5, 9, 4])\n",
      "tensor([9, 7, 7, 1, 3, 7, 2, 4, 8, 1, 3, 3, 2, 0, 9, 9, 2, 1, 5, 5, 1, 5, 2, 2,\n",
      "        2, 1, 8, 8, 4, 1, 8, 4, 4, 3, 9, 4, 0, 5, 9, 8, 4, 0, 3, 7, 7, 4, 2, 7,\n",
      "        9, 7, 1, 2, 6, 9, 3, 6, 2, 0, 8, 9, 9, 8, 0, 0, 1, 3, 7, 5, 2, 4, 2, 7,\n",
      "        4, 8, 3, 2, 8, 0, 7, 5, 9, 6, 9, 3, 4, 3, 2, 1, 3, 0, 7, 3, 5, 2, 3, 3,\n",
      "        4, 7, 3, 3, 0, 5, 8, 3, 3, 1, 6, 2, 2, 9, 9, 0, 0, 1, 7, 5, 6, 3, 1, 0,\n",
      "        9, 1, 5, 2, 3, 1, 4, 7])\n",
      "tensor([9, 7, 7, 2, 3, 7, 2, 4, 8, 1, 3, 3, 2, 0, 9, 9, 2, 1, 5, 5, 1, 5, 2, 2,\n",
      "        2, 1, 8, 8, 4, 1, 8, 4, 4, 3, 9, 4, 0, 5, 9, 8, 4, 0, 3, 7, 7, 4, 2, 7,\n",
      "        9, 7, 1, 2, 6, 9, 3, 6, 2, 0, 8, 9, 9, 8, 0, 0, 1, 3, 7, 5, 2, 4, 2, 7,\n",
      "        4, 8, 3, 2, 8, 0, 7, 5, 9, 6, 9, 3, 4, 3, 2, 1, 3, 0, 7, 3, 5, 2, 3, 3,\n",
      "        4, 9, 3, 3, 0, 5, 8, 0, 3, 1, 6, 2, 2, 9, 9, 0, 0, 1, 7, 5, 6, 3, 1, 0,\n",
      "        9, 1, 5, 2, 3, 1, 4, 7])\n",
      "tensor([0, 8, 8, 5, 2, 5, 3, 5, 6, 0, 0, 8, 9, 7, 8, 8, 6, 5, 6, 8, 3, 4, 1, 9,\n",
      "        6, 2, 5, 8, 2, 2, 4, 5, 8, 3, 8, 4, 3, 1, 5, 8, 3, 8, 5, 2, 3, 8, 3, 5,\n",
      "        1, 6, 2, 1, 3, 1, 4, 8, 1, 3, 8, 1, 3, 6, 5, 2, 2, 7, 0, 5, 9, 9, 9, 1,\n",
      "        6, 8, 8, 6, 9, 5, 1, 7, 2, 2, 3, 7, 1, 2, 9, 0, 0, 1, 4, 2, 4, 2, 7, 8,\n",
      "        4, 7, 7, 0, 5, 3, 5, 8, 7, 7, 6, 9, 0, 3, 0, 4, 0, 7, 5, 6, 2, 3, 7, 6,\n",
      "        0, 3, 9, 9, 3, 8, 2, 8])\n",
      "tensor([0, 8, 8, 5, 2, 5, 3, 5, 6, 0, 0, 8, 9, 7, 8, 8, 6, 5, 6, 8, 3, 4, 1, 9,\n",
      "        6, 2, 5, 8, 2, 2, 4, 5, 8, 3, 8, 4, 3, 1, 5, 8, 3, 8, 5, 3, 3, 8, 3, 5,\n",
      "        1, 6, 2, 1, 3, 1, 4, 8, 1, 3, 8, 1, 3, 6, 5, 2, 2, 7, 0, 5, 9, 9, 9, 1,\n",
      "        6, 8, 8, 6, 9, 5, 1, 7, 2, 2, 3, 7, 1, 2, 9, 0, 0, 1, 4, 2, 4, 2, 7, 8,\n",
      "        4, 7, 7, 0, 5, 3, 5, 8, 7, 7, 6, 9, 0, 3, 0, 4, 0, 7, 5, 6, 2, 3, 7, 6,\n",
      "        0, 3, 9, 9, 3, 8, 2, 8])\n",
      "tensor([2, 5, 6, 2, 2, 0, 8, 1, 6, 9, 4, 8, 7, 5, 0, 2, 6, 4, 7, 8, 8, 5, 8, 8,\n",
      "        0, 9, 3, 1, 8, 7, 6, 1, 2, 8, 1, 4, 3, 4, 6, 1, 9, 6, 2, 4, 4, 0, 0, 3,\n",
      "        4, 3, 2, 9, 9, 5, 1, 4, 5, 6, 9, 9, 7, 2, 3, 8, 0, 1, 7, 0, 0, 3, 0, 1,\n",
      "        9, 6, 2, 6, 6, 1, 0, 3, 6, 1, 0, 2, 4, 8, 3, 6, 7, 0, 3, 8, 2, 6, 4, 5,\n",
      "        5, 9, 1, 9, 5, 1, 9, 9, 1, 6, 4, 6, 6, 2, 8, 3, 2, 7, 0, 0, 5, 8, 3, 8,\n",
      "        4, 9, 1, 4, 8, 0, 1, 4])\n",
      "tensor([2, 5, 6, 2, 2, 0, 8, 1, 6, 7, 4, 8, 7, 5, 0, 2, 6, 4, 7, 8, 8, 5, 8, 8,\n",
      "        0, 9, 3, 1, 8, 7, 6, 1, 2, 8, 1, 4, 3, 4, 6, 1, 9, 6, 2, 4, 4, 0, 0, 3,\n",
      "        4, 3, 2, 9, 9, 5, 1, 4, 5, 6, 9, 9, 7, 2, 3, 8, 4, 1, 7, 0, 0, 3, 0, 1,\n",
      "        9, 6, 2, 6, 6, 1, 0, 3, 6, 1, 0, 2, 4, 8, 3, 6, 7, 0, 3, 8, 2, 6, 4, 5,\n",
      "        5, 9, 1, 9, 5, 1, 9, 9, 1, 6, 4, 6, 6, 2, 8, 3, 2, 7, 0, 0, 5, 8, 3, 8,\n",
      "        4, 9, 1, 4, 8, 0, 1, 4])\n",
      "tensor([1, 4, 5, 0, 3, 8, 6, 0, 5, 0, 2, 1, 7, 7, 0, 7, 6, 2, 9, 6, 9, 8, 2, 3,\n",
      "        7, 3, 3, 2, 4, 9, 1, 6, 1, 6, 2, 2, 7, 8, 2, 7, 4, 3, 5, 2, 1, 7, 3, 6,\n",
      "        6, 5, 9, 1, 5, 9, 1, 9, 6, 8, 9, 1, 7, 1, 8, 1, 0, 1, 6, 8, 3, 1, 0, 1,\n",
      "        2, 9, 8, 8, 9, 4, 7, 8, 2, 8, 5, 1, 8, 0, 5, 0, 9, 8, 2, 6, 5, 6, 4, 7,\n",
      "        4, 7, 9, 2, 4, 0, 9, 4, 4, 4, 9, 5, 3, 3, 6, 1, 5, 4, 1, 3, 9, 2, 9, 4,\n",
      "        5, 0, 9, 7, 5, 7, 8, 6])\n",
      "tensor([1, 4, 5, 0, 3, 8, 6, 0, 5, 0, 2, 1, 7, 7, 0, 7, 6, 2, 9, 6, 9, 8, 2, 3,\n",
      "        7, 2, 3, 2, 4, 9, 1, 6, 1, 6, 2, 2, 7, 8, 2, 7, 4, 3, 5, 2, 1, 7, 3, 6,\n",
      "        6, 5, 9, 1, 5, 9, 1, 9, 6, 8, 9, 1, 7, 1, 8, 1, 0, 1, 6, 8, 3, 1, 0, 1,\n",
      "        2, 9, 8, 8, 9, 4, 7, 8, 2, 8, 5, 1, 8, 0, 5, 0, 9, 8, 2, 6, 5, 6, 9, 7,\n",
      "        4, 7, 9, 2, 4, 0, 9, 4, 4, 4, 9, 5, 3, 3, 6, 1, 5, 4, 1, 3, 9, 2, 9, 4,\n",
      "        5, 6, 9, 7, 5, 7, 8, 6])\n",
      "tensor([1, 5, 8, 9, 2, 0, 5, 1, 5, 8, 7, 3, 3, 2, 8, 9, 2, 4, 2, 3, 8, 7, 1, 9,\n",
      "        3, 8, 6, 0, 1, 3, 7, 3, 1, 3, 1, 2, 0, 7, 2, 6, 8, 7, 9, 0, 9, 3, 3, 6,\n",
      "        1, 0, 0, 3, 2, 8, 9, 9, 6, 6, 7, 4, 5, 6, 7, 0, 7, 7, 9, 2, 3, 1, 4, 8,\n",
      "        3, 3, 5, 6, 1, 2, 1, 0, 1, 1, 7, 3, 0, 9, 5, 1, 6, 0, 9, 4, 9, 4, 1, 5,\n",
      "        9, 2, 5, 0, 9, 9, 3, 4, 7, 3, 6, 4, 6, 7, 4, 8, 7, 4, 0, 2, 0, 7, 7, 1,\n",
      "        4, 5, 9, 3, 1, 6, 4, 0])\n",
      "tensor([1, 5, 8, 9, 2, 0, 5, 1, 5, 8, 7, 3, 3, 2, 8, 9, 2, 4, 2, 3, 8, 7, 1, 9,\n",
      "        3, 8, 6, 0, 1, 3, 7, 3, 1, 3, 1, 2, 0, 7, 2, 6, 8, 7, 9, 0, 9, 3, 3, 6,\n",
      "        1, 0, 0, 3, 2, 8, 9, 9, 6, 6, 7, 4, 5, 6, 7, 0, 7, 7, 9, 2, 3, 1, 4, 2,\n",
      "        3, 3, 5, 6, 1, 2, 1, 6, 1, 1, 7, 3, 0, 9, 5, 1, 6, 0, 9, 4, 9, 4, 1, 5,\n",
      "        9, 2, 5, 0, 9, 9, 3, 4, 7, 3, 6, 4, 6, 7, 4, 8, 7, 4, 0, 2, 0, 7, 7, 1,\n",
      "        4, 5, 9, 3, 1, 6, 4, 0])\n",
      "tensor([9, 9, 5, 2, 0, 9, 1, 3, 2, 1, 9, 4, 5, 2, 1, 2, 5, 8, 8, 9, 3, 1, 2, 8,\n",
      "        9, 4, 9, 7, 7, 5, 8, 9, 4, 8, 7, 2, 0, 7, 7, 0, 9, 4, 1, 0, 6, 4, 7, 5,\n",
      "        6, 9, 3, 9, 0, 9, 3, 9, 3, 8, 6, 0, 1, 3, 8, 5, 9, 7, 3, 6, 7, 7, 8, 5,\n",
      "        1, 2, 1, 5, 0, 1, 3, 4, 6, 7, 5, 8, 7, 4, 7, 4, 3, 6, 2, 4, 5, 1, 5, 3,\n",
      "        6, 7, 4, 8, 4, 0, 9, 9, 3, 3, 9, 9, 1, 6, 1, 4, 4, 7, 4, 2, 0, 8, 3, 1,\n",
      "        2, 2, 7, 3, 8, 5, 9, 8])\n",
      "tensor([9, 9, 5, 2, 0, 9, 1, 3, 2, 1, 9, 4, 5, 2, 1, 2, 5, 8, 8, 9, 3, 1, 2, 8,\n",
      "        9, 4, 9, 7, 7, 5, 8, 9, 4, 8, 7, 2, 0, 7, 7, 0, 9, 4, 1, 0, 6, 4, 7, 5,\n",
      "        6, 9, 3, 9, 0, 9, 3, 9, 3, 8, 6, 0, 1, 3, 8, 5, 9, 7, 3, 6, 7, 7, 8, 5,\n",
      "        1, 2, 1, 5, 0, 1, 3, 4, 6, 7, 5, 5, 7, 4, 7, 4, 3, 6, 2, 4, 5, 1, 5, 3,\n",
      "        6, 7, 4, 8, 4, 0, 9, 9, 3, 3, 9, 9, 1, 6, 1, 4, 4, 7, 4, 2, 0, 8, 3, 1,\n",
      "        2, 2, 7, 3, 8, 5, 9, 8])\n",
      "tensor([9, 8, 2, 1, 3, 3, 0, 5, 5, 5, 3, 4, 0, 8, 4, 3, 6, 7, 2, 0, 9, 1, 6, 1,\n",
      "        9, 4, 4, 1, 0, 3, 4, 5, 1, 3, 6, 3, 3, 0, 1, 9, 5, 6, 7, 8, 6, 6, 7, 5,\n",
      "        5, 7, 2, 7, 8, 3, 2, 0, 2, 1, 5, 3, 3, 8, 0, 4, 6, 9, 9, 4, 7, 3, 7, 2,\n",
      "        1, 2, 5, 7, 5, 4, 6, 5, 2, 3, 5, 2, 5, 8, 8, 3, 1, 7, 9, 2, 6, 2, 8, 4,\n",
      "        1, 8, 0, 0, 8, 1, 6, 7, 2, 8, 2, 6, 4, 3, 5, 8, 7, 7, 8, 4, 4, 1, 4, 8,\n",
      "        3, 9, 4, 4, 5, 3, 1, 7])\n",
      "tensor([9, 7, 2, 1, 3, 3, 0, 5, 5, 5, 3, 4, 0, 8, 4, 3, 6, 7, 2, 0, 9, 1, 6, 1,\n",
      "        9, 4, 4, 1, 0, 3, 4, 5, 1, 3, 6, 3, 3, 0, 1, 9, 5, 6, 7, 8, 6, 6, 7, 5,\n",
      "        5, 7, 2, 7, 8, 3, 2, 0, 2, 1, 5, 3, 3, 8, 0, 4, 6, 9, 9, 4, 7, 3, 7, 2,\n",
      "        1, 2, 5, 7, 5, 4, 6, 5, 2, 3, 5, 2, 5, 8, 8, 3, 1, 7, 9, 2, 6, 2, 8, 4,\n",
      "        1, 8, 0, 0, 8, 1, 6, 7, 2, 8, 7, 6, 4, 3, 5, 8, 7, 7, 8, 4, 4, 1, 4, 8,\n",
      "        3, 9, 4, 4, 5, 3, 1, 7])\n",
      "tensor([0, 3, 3, 4, 7, 3, 7, 4, 6, 1, 9, 0, 7, 5, 1, 6, 9, 0, 4, 9, 5, 4, 9, 3,\n",
      "        9, 2, 3, 7, 4, 0, 4, 5, 7, 3, 5, 7, 5, 7, 5, 3, 6, 3, 0, 0, 7, 6, 0, 2,\n",
      "        5, 6, 2, 4, 1, 6, 9, 3, 2, 3, 3, 2, 1, 8, 9, 9, 7, 5, 2, 5, 6, 4, 0, 8,\n",
      "        4, 9, 3, 6, 4, 1, 4, 8, 1, 9, 6, 2, 2, 1, 8, 1, 9, 0, 2, 8, 3, 6, 0, 1,\n",
      "        8, 6, 6, 4, 2, 0, 9, 0, 8, 6, 5, 6, 0, 6, 3, 8, 8, 5, 7, 1, 5, 2, 7, 2,\n",
      "        2, 5, 2, 7, 7, 7, 1, 6])\n"
     ]
    },
    {
     "name": "stdout",
     "output_type": "stream",
     "text": [
      "tensor([0, 3, 3, 4, 7, 3, 7, 4, 6, 1, 9, 0, 7, 5, 1, 6, 9, 0, 4, 9, 5, 4, 9, 3,\n",
      "        9, 2, 3, 7, 4, 0, 4, 5, 7, 3, 5, 7, 5, 7, 5, 3, 6, 3, 0, 0, 7, 6, 0, 2,\n",
      "        5, 6, 2, 4, 1, 6, 9, 3, 2, 3, 3, 2, 1, 8, 9, 9, 7, 5, 2, 5, 6, 4, 0, 8,\n",
      "        4, 9, 3, 6, 4, 1, 4, 8, 1, 9, 6, 2, 2, 1, 8, 1, 9, 0, 2, 2, 3, 6, 0, 1,\n",
      "        8, 6, 6, 4, 2, 0, 9, 0, 8, 6, 5, 6, 0, 6, 3, 8, 8, 5, 7, 1, 5, 2, 7, 2,\n",
      "        2, 5, 2, 2, 7, 7, 1, 6])\n",
      "tensor([1, 2, 9, 1, 6, 6, 0, 7, 7, 1, 3, 9, 5, 7, 6, 7, 9, 2, 1, 1, 8, 5, 5, 8,\n",
      "        1, 5, 5, 9, 3, 0, 5, 8, 9, 4, 3, 5, 3, 7, 2, 3, 6, 8, 0, 4, 8, 2, 4, 8,\n",
      "        9, 1, 9, 6, 1, 0, 3, 0, 3, 5, 9, 8, 0, 4, 8, 4, 0, 4, 6, 7, 4, 6, 6, 8,\n",
      "        1, 5, 2, 4, 0, 8, 0, 5, 6, 3, 3, 4, 8, 9, 2, 1, 7, 7, 1, 2, 8, 9, 0, 2,\n",
      "        9, 3, 1, 7, 4, 0, 7, 8, 2, 9, 9, 0, 6, 5, 5, 8, 5, 6, 2, 0, 5, 5, 6, 7,\n",
      "        7, 2, 7, 4, 5, 4, 9, 0])\n",
      "tensor([1, 2, 9, 1, 6, 6, 0, 7, 7, 1, 3, 9, 5, 7, 6, 7, 9, 2, 1, 1, 8, 5, 5, 8,\n",
      "        1, 5, 5, 9, 3, 0, 5, 8, 4, 4, 3, 5, 3, 7, 2, 3, 6, 8, 0, 4, 8, 2, 4, 8,\n",
      "        9, 1, 9, 6, 1, 0, 3, 0, 3, 5, 9, 8, 0, 4, 8, 4, 0, 4, 6, 7, 4, 6, 6, 8,\n",
      "        1, 5, 2, 4, 0, 5, 0, 5, 6, 3, 3, 4, 8, 9, 2, 1, 7, 7, 1, 2, 7, 9, 0, 2,\n",
      "        9, 3, 1, 7, 4, 0, 7, 8, 2, 9, 9, 0, 6, 5, 5, 8, 5, 6, 2, 0, 5, 5, 6, 7,\n",
      "        7, 2, 7, 4, 5, 4, 9, 0])\n",
      "tensor([6, 5, 1, 7, 6, 0, 4, 3, 5, 0, 4, 3, 6, 5, 1, 3, 6, 6, 3, 1, 1, 5, 8, 4,\n",
      "        6, 0, 4, 0, 5, 1, 2, 8, 7, 4, 2, 1, 7, 9, 0, 3, 4, 7, 4, 5, 4, 4, 8, 9,\n",
      "        8, 8, 4, 6, 4, 7, 5, 7, 9, 5, 6, 9, 9, 4, 3, 5, 9, 7, 2, 1, 1, 2, 6, 6,\n",
      "        6, 5, 2, 8, 1, 0, 3, 7, 6, 8, 9, 1, 8, 1, 6, 6, 5, 4, 1, 0, 3, 5, 5, 1,\n",
      "        5, 3, 4, 8, 1, 8, 6, 9, 2, 9, 7, 9, 5, 7, 4, 1, 4, 5, 1, 2, 4, 0, 5, 4,\n",
      "        5, 1, 4, 0, 1, 0, 3, 0])\n",
      "tensor([6, 5, 1, 7, 6, 0, 4, 3, 5, 0, 4, 3, 6, 5, 1, 3, 6, 6, 3, 1, 1, 5, 8, 4,\n",
      "        6, 0, 4, 0, 5, 1, 2, 8, 7, 4, 2, 1, 7, 9, 0, 3, 4, 7, 4, 5, 4, 4, 8, 9,\n",
      "        8, 8, 4, 6, 4, 7, 5, 7, 9, 5, 6, 9, 9, 4, 3, 5, 9, 7, 2, 1, 1, 2, 6, 6,\n",
      "        6, 5, 2, 8, 9, 0, 3, 7, 6, 8, 9, 1, 8, 1, 6, 6, 5, 4, 1, 0, 3, 5, 5, 1,\n",
      "        5, 3, 4, 8, 1, 8, 6, 9, 2, 9, 7, 9, 5, 7, 4, 1, 4, 5, 1, 2, 4, 0, 5, 4,\n",
      "        5, 1, 4, 0, 1, 0, 3, 0])\n",
      "tensor([3, 9, 3, 9, 3, 0, 5, 7, 0, 0, 0, 7, 6, 2, 7, 0, 2, 6, 7, 1, 3, 9, 5, 1,\n",
      "        2, 0, 4, 4, 4, 6, 6, 3, 2, 0, 9, 6, 1, 7, 0, 7, 6, 3, 8, 8, 6, 3, 6, 8,\n",
      "        2, 0, 6, 5, 4, 6, 1, 0, 6, 1, 7, 9, 4, 2, 1, 7, 9, 9, 9, 7, 5, 5, 1, 2,\n",
      "        5, 0, 1, 4, 0, 4, 4, 7, 8, 7, 2, 5, 2, 6, 3, 5, 2, 7, 2, 7, 1, 2, 6, 4,\n",
      "        4, 1, 3, 0, 5, 8, 1, 0, 0, 2, 9, 0, 4, 9, 4, 1, 3, 6, 6, 2, 4, 2, 5, 3,\n",
      "        8, 6, 4, 1, 7, 0, 9, 6])\n",
      "tensor([3, 9, 3, 9, 3, 0, 5, 7, 0, 0, 0, 7, 6, 2, 7, 0, 2, 6, 7, 1, 3, 9, 5, 1,\n",
      "        2, 0, 4, 4, 4, 6, 6, 3, 2, 0, 9, 6, 1, 7, 0, 7, 6, 3, 8, 5, 6, 3, 6, 8,\n",
      "        2, 0, 6, 5, 4, 6, 1, 0, 6, 1, 7, 9, 4, 2, 1, 7, 9, 9, 9, 7, 5, 5, 1, 2,\n",
      "        5, 0, 1, 4, 0, 4, 4, 7, 8, 7, 2, 5, 2, 8, 3, 5, 2, 7, 2, 7, 1, 2, 6, 4,\n",
      "        4, 7, 5, 0, 5, 8, 1, 0, 0, 2, 9, 0, 4, 9, 4, 1, 3, 6, 6, 2, 4, 2, 5, 3,\n",
      "        8, 6, 4, 1, 7, 0, 9, 6])\n",
      "tensor([1, 2, 8, 3, 4, 8, 5, 6, 1, 9, 4, 4, 2, 2, 2, 0, 0, 0, 1, 1, 4, 7, 5, 5,\n",
      "        5, 2, 0, 3, 8, 7, 0, 8, 4, 0, 8, 0, 5, 5, 2, 8, 0, 8, 4, 7, 6, 7, 8, 7,\n",
      "        8, 1, 6, 6, 0, 6, 1, 8, 3, 0, 9, 3, 3, 7, 1, 6, 1, 1, 2, 9, 0, 4, 8, 6,\n",
      "        4, 3, 5, 2, 6, 4, 6, 8, 4, 0, 5, 5, 8, 7, 6, 2, 5, 4, 2, 7, 4, 2, 4, 1,\n",
      "        3, 2, 7, 4, 8, 5, 0, 5, 4, 8, 4, 6, 1, 2, 6, 2, 6, 9, 1, 4, 4, 5, 7, 7,\n",
      "        4, 1, 2, 6, 6, 0, 2, 8])\n",
      "tensor([1, 2, 8, 3, 4, 8, 5, 6, 1, 9, 4, 4, 2, 2, 2, 0, 0, 0, 1, 1, 4, 7, 5, 5,\n",
      "        5, 2, 0, 3, 8, 7, 0, 8, 4, 0, 8, 0, 5, 5, 2, 8, 0, 8, 4, 7, 6, 7, 8, 7,\n",
      "        8, 1, 6, 6, 0, 6, 1, 8, 3, 0, 9, 3, 3, 7, 1, 6, 1, 1, 2, 9, 0, 4, 8, 6,\n",
      "        4, 3, 6, 2, 6, 4, 6, 8, 4, 0, 5, 5, 2, 7, 6, 2, 5, 4, 2, 7, 4, 2, 4, 1,\n",
      "        3, 2, 7, 4, 8, 5, 0, 5, 4, 8, 4, 6, 1, 2, 6, 2, 6, 9, 1, 4, 4, 5, 7, 7,\n",
      "        4, 1, 2, 6, 6, 0, 2, 8])\n",
      "tensor([3, 0, 4, 3, 2, 6, 2, 6, 8, 6, 1, 7, 3, 7, 0, 4, 9, 7, 9, 3, 0, 8, 2, 2,\n",
      "        7, 1, 5, 2, 8, 9, 9, 1, 8, 0, 3, 1, 5, 2, 3, 7, 6, 0, 5, 7, 3, 1, 5, 4,\n",
      "        6, 6, 9, 2, 5, 4, 1, 3, 8, 8, 3, 7, 3, 6, 2, 3, 5, 5, 9, 9, 7, 4, 4, 9,\n",
      "        1, 2, 1, 9, 2, 2, 7, 2, 8, 4, 7, 1, 7, 5, 3, 1, 0, 3, 7, 0, 5, 3, 4, 7,\n",
      "        1, 5, 0, 7, 6, 0, 1, 7, 8, 8, 0, 5, 9, 5, 4, 8, 6, 3, 8, 7, 2, 5, 4, 9,\n",
      "        9, 7, 2, 7, 5, 5, 4, 7])\n",
      "tensor([3, 0, 4, 3, 2, 6, 2, 6, 8, 6, 1, 7, 3, 7, 0, 4, 9, 7, 9, 3, 0, 8, 2, 2,\n",
      "        7, 1, 5, 2, 8, 9, 9, 1, 8, 0, 3, 1, 5, 2, 3, 7, 6, 0, 5, 7, 3, 1, 5, 4,\n",
      "        4, 6, 9, 2, 5, 4, 1, 3, 8, 8, 3, 7, 3, 6, 2, 3, 5, 5, 9, 9, 7, 4, 4, 9,\n",
      "        1, 2, 1, 9, 2, 2, 7, 2, 8, 4, 7, 1, 7, 5, 3, 1, 0, 3, 7, 0, 5, 3, 4, 7,\n",
      "        1, 5, 0, 7, 6, 0, 1, 7, 8, 8, 0, 5, 9, 5, 4, 8, 6, 3, 8, 7, 2, 5, 4, 9,\n",
      "        9, 7, 2, 7, 5, 5, 9, 7])\n",
      "tensor([6, 3, 7, 1, 6, 1, 0, 3, 4, 4, 8, 3, 4, 2, 7, 4, 6, 9, 3, 1, 6, 8, 4, 3,\n",
      "        6, 2, 2, 2, 8, 3, 3, 3, 9, 6, 7, 1, 4, 2, 3, 3, 0, 1, 3, 3, 3, 1, 6, 7,\n",
      "        0, 6, 8, 8, 8, 8, 4, 4, 0, 7, 6, 4, 4, 2, 7, 6, 5, 8, 9, 8, 3, 5, 4, 5,\n",
      "        0, 1, 1, 4, 9, 6, 8, 0, 2, 2, 4, 1, 2, 6, 5, 7, 1, 3, 1, 8, 1, 1, 7, 6,\n",
      "        4, 7, 4, 2, 0, 5, 4, 4, 3, 6, 7, 3, 8, 5, 9, 9, 6, 7, 0, 2, 7, 4, 0, 9,\n",
      "        4, 0, 1, 2, 6, 8, 7, 4])\n",
      "tensor([6, 3, 7, 1, 6, 1, 0, 5, 4, 4, 8, 3, 4, 2, 7, 4, 4, 9, 3, 1, 6, 8, 4, 3,\n",
      "        6, 2, 2, 2, 8, 3, 3, 3, 9, 6, 7, 1, 4, 2, 3, 3, 8, 1, 3, 3, 3, 1, 6, 7,\n",
      "        0, 6, 8, 8, 8, 8, 4, 4, 0, 7, 6, 4, 4, 2, 7, 6, 5, 4, 9, 8, 3, 5, 4, 5,\n",
      "        0, 1, 1, 4, 9, 6, 8, 0, 2, 2, 4, 1, 2, 6, 5, 7, 1, 3, 1, 8, 1, 1, 7, 6,\n",
      "        4, 7, 4, 2, 0, 5, 4, 4, 3, 6, 7, 5, 8, 5, 9, 9, 6, 7, 0, 2, 7, 4, 0, 9,\n",
      "        4, 0, 1, 2, 6, 8, 7, 4])\n",
      "tensor([5, 4, 0, 5, 1, 0, 5, 4, 0, 4, 3, 0, 2, 4, 4, 8, 7, 8, 1, 3, 6, 4, 5, 2,\n",
      "        8, 7, 2, 7, 0, 9, 3, 8, 7, 6, 9, 0, 5, 9, 4, 6, 5, 4, 1, 3, 2, 4, 2, 1,\n",
      "        7, 5, 8, 2, 0, 8, 9, 0, 4, 5, 9, 7, 4, 2, 1, 8, 4, 4, 4, 1, 2, 7, 1, 5,\n",
      "        0, 6, 2, 1, 1, 0, 1, 0, 7, 6, 2, 8, 7, 1, 7, 9, 1, 2, 9, 5, 0, 9, 5, 8,\n",
      "        1, 3, 0, 5, 7, 8, 5, 3, 9, 1, 4, 5, 8, 9, 2, 0, 5, 5, 2, 1, 4, 1, 0, 1,\n",
      "        3, 0, 7, 4, 4, 6, 7, 3])\n",
      "tensor([5, 4, 0, 5, 1, 0, 5, 4, 0, 4, 3, 0, 2, 4, 4, 8, 7, 8, 1, 3, 6, 8, 5, 2,\n",
      "        8, 7, 2, 7, 0, 9, 3, 8, 7, 6, 9, 0, 5, 9, 4, 6, 5, 4, 1, 3, 2, 4, 2, 1,\n",
      "        7, 5, 8, 2, 0, 8, 9, 0, 4, 5, 9, 7, 4, 2, 1, 8, 4, 4, 4, 1, 2, 7, 1, 5,\n",
      "        0, 6, 2, 1, 1, 0, 1, 0, 7, 6, 2, 8, 7, 1, 7, 9, 1, 2, 9, 5, 0, 9, 5, 8,\n",
      "        1, 3, 0, 5, 7, 8, 5, 3, 9, 1, 4, 5, 8, 9, 2, 0, 5, 5, 2, 1, 4, 1, 0, 1,\n",
      "        3, 0, 7, 4, 4, 6, 7, 3])\n",
      "tensor([4, 7, 5, 7, 7, 8, 1, 1, 7, 2, 6, 7, 7, 4, 3, 4, 8, 7, 3, 8, 5, 5, 8, 1,\n",
      "        6, 0, 9, 7, 1, 0, 3, 0, 9, 7, 2, 9, 2, 3, 9, 9, 0, 0, 9, 0, 2, 4, 9, 6,\n",
      "        9, 5, 9, 7, 4, 9, 0, 7, 5, 3, 3, 6, 5, 3, 3, 7, 3, 1, 2, 4, 0, 9, 4, 3,\n",
      "        1, 9, 7, 3, 6, 1, 7, 6, 7, 9, 8, 8, 9, 7, 4, 8, 6, 3, 8, 5, 9, 8, 9, 4,\n",
      "        1, 1, 0, 1, 8, 2, 0, 8, 8, 5, 3, 1, 8, 1, 7, 6, 6, 3, 2, 9, 1, 8, 5, 5,\n",
      "        1, 0, 1, 8, 8, 8, 1, 3])\n",
      "tensor([4, 7, 5, 7, 7, 3, 1, 1, 7, 2, 6, 7, 7, 4, 3, 4, 8, 7, 3, 8, 5, 5, 9, 1,\n",
      "        6, 0, 9, 7, 1, 0, 3, 0, 9, 7, 2, 9, 2, 3, 9, 9, 0, 0, 9, 0, 2, 4, 9, 6,\n",
      "        9, 5, 9, 7, 4, 9, 0, 7, 5, 3, 3, 6, 5, 3, 9, 7, 3, 1, 2, 4, 0, 9, 4, 3,\n",
      "        1, 9, 7, 3, 6, 1, 7, 6, 7, 9, 8, 8, 9, 7, 4, 8, 6, 3, 8, 5, 9, 8, 9, 4,\n",
      "        1, 1, 0, 1, 8, 2, 0, 8, 8, 5, 3, 1, 8, 1, 7, 6, 6, 3, 2, 9, 1, 8, 5, 5,\n",
      "        1, 0, 1, 8, 8, 8, 1, 3])\n",
      "tensor([5, 9, 4, 5, 6, 0, 3, 5, 9, 2, 6, 8, 1, 2, 1, 2, 4, 7, 9, 1, 4, 7, 6, 5,\n",
      "        4, 1, 5, 9, 8, 1, 2, 4, 2, 5, 9, 0, 3, 7, 5, 0, 9, 5, 4, 1, 1, 7, 4, 8,\n",
      "        7, 3, 0, 1, 8, 3, 5, 6, 0, 0, 9, 9, 4, 2, 0, 0, 7, 8, 8, 3, 1, 1, 0, 0,\n",
      "        2, 1, 3, 9, 9, 4, 4, 9, 7, 5, 8, 6, 5, 5, 0, 9, 7, 3, 8, 4, 3, 7, 3, 0,\n",
      "        4, 6, 2, 5, 1, 5, 8, 6, 0, 4, 6, 5, 7, 7, 0, 4, 7, 8, 2, 9, 6, 3, 6, 7,\n",
      "        7, 7, 6, 5, 4, 7, 0, 7])\n",
      "tensor([5, 9, 4, 5, 6, 0, 3, 5, 9, 2, 6, 8, 1, 2, 1, 2, 4, 7, 9, 1, 9, 7, 6, 5,\n",
      "        4, 1, 5, 9, 8, 1, 2, 4, 2, 5, 9, 0, 3, 7, 5, 0, 9, 5, 4, 1, 1, 7, 4, 8,\n",
      "        7, 3, 0, 1, 8, 3, 5, 6, 0, 0, 9, 9, 4, 2, 0, 0, 7, 8, 8, 3, 1, 1, 0, 0,\n",
      "        2, 1, 3, 9, 9, 4, 4, 9, 7, 5, 8, 6, 5, 9, 0, 9, 7, 3, 8, 4, 3, 7, 3, 0,\n",
      "        4, 6, 2, 5, 1, 5, 8, 6, 0, 4, 6, 5, 7, 7, 0, 4, 7, 8, 2, 9, 6, 3, 6, 7,\n",
      "        9, 7, 6, 5, 4, 7, 0, 7])\n",
      "tensor([5, 1, 9, 9, 0, 2, 0, 1, 0, 4, 0, 7, 6, 4, 1, 4, 6, 3, 0, 5, 5, 8, 3, 5,\n",
      "        6, 0, 6, 7, 9, 2, 7, 5, 8, 3, 5, 9, 2, 0, 4, 0, 7, 8, 6, 2, 3, 5, 5, 6,\n",
      "        2, 4, 0, 9, 9, 7, 6, 6, 1, 2, 7, 4, 7, 9, 8, 4, 0, 2, 4, 3, 2, 2, 8, 1,\n",
      "        0, 1, 5, 8, 7, 2, 9, 1, 5, 9, 2, 0, 2, 1, 2, 9, 0, 2, 0, 4, 0, 7, 2, 3,\n",
      "        1, 5, 0, 6, 2, 6, 3, 9, 0, 4, 1, 9, 2, 9, 8, 8, 0, 3, 7, 0, 9, 1, 0, 9,\n",
      "        7, 6, 8, 2, 4, 3, 5, 1])\n"
     ]
    },
    {
     "name": "stdout",
     "output_type": "stream",
     "text": [
      "tensor([5, 1, 9, 9, 0, 2, 0, 1, 0, 4, 0, 7, 6, 4, 1, 4, 6, 3, 0, 5, 5, 8, 3, 5,\n",
      "        6, 0, 6, 7, 9, 2, 7, 5, 8, 3, 5, 9, 2, 0, 4, 0, 7, 8, 6, 2, 3, 5, 5, 6,\n",
      "        2, 4, 0, 9, 9, 7, 6, 6, 1, 2, 7, 4, 7, 9, 8, 4, 0, 2, 4, 3, 2, 2, 8, 1,\n",
      "        0, 1, 5, 8, 7, 2, 9, 1, 5, 9, 2, 0, 2, 1, 2, 9, 0, 2, 0, 4, 0, 7, 2, 3,\n",
      "        1, 5, 0, 6, 2, 6, 3, 9, 0, 4, 1, 9, 2, 9, 8, 8, 0, 3, 7, 0, 9, 1, 0, 9,\n",
      "        7, 6, 8, 2, 4, 3, 5, 1])\n",
      "tensor([1, 5, 3, 5, 6, 2, 3, 4, 7, 3, 1, 7, 1, 5, 4, 2, 9, 8, 0, 4, 6, 7, 3, 7,\n",
      "        7, 1, 4, 5, 4, 2, 5, 0, 3, 6, 1, 8, 4, 2, 2, 8, 0, 8, 2, 3, 8, 8, 8, 1,\n",
      "        7, 0, 9, 4, 9, 2, 6, 3, 0, 9, 5, 0, 6, 0, 7, 9, 1, 2, 2, 0, 9, 1, 2, 1,\n",
      "        7, 4, 8, 4, 3, 7, 4, 5, 8, 0, 1, 9, 7, 6, 7, 7, 0, 9, 3, 3, 3, 7, 6, 7,\n",
      "        3, 8, 8, 6, 1, 4, 4, 2, 7, 8, 2, 1, 3, 6, 9, 5, 8, 2, 0, 5, 3, 0, 3, 0,\n",
      "        0, 6, 5, 6, 1, 4, 6, 1])\n",
      "tensor([1, 5, 3, 5, 6, 2, 3, 4, 7, 3, 1, 7, 1, 5, 4, 2, 9, 8, 0, 4, 6, 7, 3, 7,\n",
      "        7, 1, 4, 5, 4, 2, 5, 0, 3, 6, 1, 8, 4, 2, 2, 8, 0, 8, 2, 3, 8, 8, 8, 1,\n",
      "        7, 0, 9, 4, 9, 2, 6, 3, 0, 9, 5, 0, 6, 0, 7, 9, 1, 7, 2, 0, 9, 1, 2, 1,\n",
      "        7, 4, 8, 4, 3, 7, 4, 5, 8, 0, 1, 9, 7, 6, 7, 7, 0, 9, 3, 3, 3, 7, 6, 7,\n",
      "        3, 8, 8, 6, 1, 4, 4, 2, 7, 8, 2, 1, 3, 6, 9, 5, 8, 2, 0, 5, 3, 0, 3, 0,\n",
      "        0, 6, 5, 6, 1, 4, 6, 1])\n",
      "tensor([0, 0, 2, 9, 3, 6, 7, 8, 8, 6, 9, 1, 3, 0, 9, 0, 2, 5, 0, 7, 0, 2, 8, 5,\n",
      "        7, 4, 4, 8, 5, 3, 2, 3, 1, 1, 1, 5, 2, 0, 7, 4, 4, 4, 3, 1, 1, 4, 0, 5,\n",
      "        9, 2, 1, 8, 7, 2, 4, 1, 0, 5, 4, 3, 5, 2, 4, 6, 4, 3, 4, 7, 5, 9, 8, 6,\n",
      "        7, 0, 4, 6, 5, 1, 2, 8, 0, 5, 5, 5, 0, 3, 3, 5, 4, 6, 0, 6, 7, 0, 7, 7,\n",
      "        6, 1, 3, 6, 0, 1, 0, 2, 2, 6, 8, 3, 2, 2, 3, 4, 4, 3, 7, 8, 0, 9, 9, 3,\n",
      "        1, 6, 4, 0, 9, 7, 9, 3])\n",
      "tensor([0, 0, 2, 9, 3, 6, 7, 8, 8, 6, 9, 1, 3, 0, 9, 0, 2, 5, 0, 7, 0, 2, 8, 5,\n",
      "        7, 4, 4, 8, 5, 3, 2, 3, 1, 1, 1, 5, 2, 0, 7, 4, 4, 4, 3, 1, 1, 4, 0, 5,\n",
      "        9, 2, 1, 8, 7, 2, 4, 1, 0, 5, 4, 3, 5, 2, 4, 6, 6, 3, 4, 7, 5, 9, 8, 6,\n",
      "        7, 0, 4, 6, 5, 1, 2, 8, 0, 5, 5, 5, 0, 3, 3, 5, 4, 6, 0, 6, 7, 0, 7, 7,\n",
      "        6, 1, 3, 6, 5, 1, 0, 2, 2, 6, 8, 3, 2, 2, 3, 4, 4, 3, 7, 8, 0, 9, 9, 3,\n",
      "        7, 6, 9, 0, 9, 7, 9, 3])\n",
      "tensor([5, 9, 6, 1, 8, 8, 3, 0, 0, 4, 3, 6, 3, 6, 9, 4, 5, 2, 7, 2, 9, 6, 5, 8,\n",
      "        2, 4, 9, 3, 1, 8, 0, 6, 6, 0, 7, 8, 6, 1, 8, 3, 3, 2, 5, 1, 4, 6, 1, 3,\n",
      "        4, 0, 0, 9, 7, 7, 3, 2, 8, 0, 0, 9, 4, 9, 2, 8, 3, 2, 2, 0, 6, 7, 1, 6,\n",
      "        4, 6, 4, 9, 5, 2, 5, 1, 1, 4, 2, 6, 2, 7, 9, 6, 0, 6, 0, 2, 9, 2, 1, 6,\n",
      "        1, 1, 5, 0, 9, 4, 4, 4, 7, 1, 5, 9, 7, 4, 4, 5, 1, 8, 1, 0, 1, 3, 4, 6,\n",
      "        1, 2, 3, 6, 4, 4, 9, 7])\n",
      "tensor([5, 9, 6, 1, 8, 8, 3, 0, 0, 4, 3, 6, 3, 6, 9, 4, 5, 2, 7, 2, 9, 6, 5, 8,\n",
      "        2, 4, 9, 3, 1, 8, 0, 6, 6, 0, 7, 8, 6, 1, 8, 3, 3, 8, 5, 1, 4, 6, 1, 3,\n",
      "        4, 0, 0, 9, 7, 7, 3, 2, 8, 0, 0, 9, 9, 9, 2, 8, 3, 2, 2, 0, 9, 7, 1, 6,\n",
      "        4, 6, 4, 9, 5, 2, 5, 1, 1, 4, 2, 6, 2, 7, 9, 6, 0, 2, 0, 2, 9, 0, 1, 6,\n",
      "        1, 1, 5, 0, 9, 4, 4, 4, 7, 1, 5, 9, 7, 4, 4, 5, 1, 2, 1, 4, 1, 3, 4, 6,\n",
      "        1, 2, 5, 6, 4, 4, 9, 7])\n",
      "tensor([1, 7, 4, 6, 3, 3, 5, 8, 9, 1, 5, 5, 4, 9, 0, 1, 0, 6, 2, 9, 1, 7, 9, 2,\n",
      "        6, 7, 3, 3, 8, 7, 7, 5, 7, 1, 7, 9, 3, 0, 6, 8, 4, 0, 1, 1, 8, 1, 5, 6,\n",
      "        6, 7, 1, 2, 5, 1, 2, 9, 8, 8, 6, 4, 6, 4, 5, 7, 3, 1, 0, 4, 0, 4, 0, 8,\n",
      "        2, 3, 0, 7, 3, 6, 2, 7, 5, 8, 2, 2, 5, 1, 0, 2, 2, 8, 0, 9, 9, 9, 1, 7,\n",
      "        0, 4, 0, 5, 9, 1, 0, 1, 6, 3, 5, 1, 4, 3, 8, 2, 3, 8, 5, 7, 8, 4, 0, 8,\n",
      "        9, 7, 7, 5, 9, 4, 5, 7])\n",
      "tensor([1, 7, 4, 5, 3, 3, 5, 8, 9, 1, 5, 5, 4, 9, 0, 1, 0, 6, 2, 9, 1, 7, 9, 2,\n",
      "        6, 7, 3, 3, 8, 7, 7, 5, 7, 1, 7, 9, 3, 0, 6, 8, 4, 0, 1, 1, 8, 1, 5, 6,\n",
      "        6, 7, 1, 2, 5, 1, 2, 9, 8, 8, 6, 4, 6, 4, 5, 7, 3, 1, 0, 4, 0, 4, 0, 8,\n",
      "        2, 3, 0, 7, 3, 6, 2, 7, 5, 8, 2, 2, 5, 1, 0, 2, 2, 8, 0, 9, 9, 9, 1, 7,\n",
      "        0, 4, 0, 5, 7, 1, 0, 1, 6, 3, 5, 1, 4, 3, 8, 2, 3, 8, 5, 7, 8, 4, 0, 8,\n",
      "        9, 7, 7, 5, 9, 4, 5, 7])\n",
      "tensor([9, 1, 7, 0, 3, 8, 1, 3, 1, 9, 8, 3, 4, 5, 4, 1, 7, 9, 3, 2, 4, 5, 9, 1,\n",
      "        5, 5, 0, 1, 9, 6, 9, 7, 7, 1, 7, 3, 1, 9, 2, 0, 4, 8, 8, 2, 9, 0, 2, 9,\n",
      "        4, 0, 4, 9, 3, 0, 4, 8, 4, 1, 3, 4, 3, 4, 0, 8, 4, 7, 8, 6, 5, 0, 1, 9,\n",
      "        5, 0, 0, 6, 8, 1, 0, 1, 9, 4, 7, 4, 1, 9, 6, 7, 4, 9, 8, 2, 1, 3, 9, 1,\n",
      "        9, 0, 6, 1, 9, 1, 4, 7, 7, 4, 1, 4, 7, 7, 3, 2, 1, 3, 5, 4, 2, 5, 3, 7,\n",
      "        0, 4, 5, 3, 9, 7, 7, 9])\n",
      "tensor([9, 1, 7, 0, 3, 8, 1, 3, 1, 9, 8, 3, 4, 5, 4, 1, 7, 9, 3, 2, 4, 5, 9, 1,\n",
      "        5, 5, 0, 1, 9, 6, 9, 7, 7, 1, 7, 3, 1, 9, 2, 0, 4, 8, 8, 2, 9, 0, 2, 9,\n",
      "        4, 0, 4, 9, 3, 0, 4, 8, 4, 1, 3, 4, 3, 4, 0, 8, 4, 7, 8, 6, 5, 0, 1, 9,\n",
      "        5, 0, 0, 6, 8, 1, 0, 1, 9, 4, 7, 4, 1, 9, 6, 7, 4, 9, 8, 2, 1, 3, 9, 1,\n",
      "        9, 0, 6, 1, 9, 1, 4, 7, 7, 4, 1, 4, 7, 7, 3, 2, 2, 3, 5, 4, 2, 5, 3, 7,\n",
      "        0, 4, 5, 3, 9, 7, 7, 9])\n",
      "tensor([6, 0, 2, 3, 3, 9, 5, 0, 9, 5, 5, 1, 3, 2, 6, 0, 1, 5, 4, 8, 3, 3, 2, 4,\n",
      "        3, 1, 9, 9, 2, 3, 6, 8, 6, 7, 4, 3, 7, 0, 7, 2, 8, 4, 1, 3, 3, 6, 6, 9,\n",
      "        8, 6, 9, 6, 7, 4, 2, 2, 7, 0, 5, 6, 6, 1, 4, 8, 4, 4, 7, 8, 4, 0, 8, 2,\n",
      "        9, 3, 8, 2, 9, 3, 5, 8, 1, 1, 2, 3, 0, 6, 6, 3, 3, 7, 4, 4, 3, 9, 8, 7,\n",
      "        2, 1, 6, 3, 9, 3, 0, 6, 2, 3, 0, 7, 8, 3, 5, 3, 7, 5, 2, 1, 3, 8, 9, 9,\n",
      "        8, 4, 6, 4, 9, 8, 9, 9])\n",
      "tensor([6, 0, 2, 3, 3, 9, 5, 0, 9, 5, 5, 6, 3, 2, 6, 0, 1, 5, 4, 8, 3, 3, 2, 4,\n",
      "        3, 1, 9, 9, 2, 3, 6, 8, 6, 7, 4, 3, 7, 0, 7, 2, 8, 6, 1, 3, 3, 6, 6, 9,\n",
      "        8, 6, 9, 2, 7, 4, 2, 2, 7, 0, 5, 6, 6, 1, 4, 8, 4, 4, 7, 8, 4, 0, 8, 2,\n",
      "        9, 3, 8, 2, 9, 3, 5, 8, 1, 1, 2, 3, 0, 6, 6, 3, 3, 7, 4, 4, 3, 9, 8, 7,\n",
      "        2, 1, 6, 3, 9, 3, 0, 6, 2, 3, 0, 7, 8, 3, 5, 3, 7, 5, 2, 1, 3, 8, 9, 9,\n",
      "        8, 4, 6, 4, 9, 8, 9, 9])\n",
      "tensor([4, 4, 0, 8, 6, 3, 2, 4, 1, 0, 6, 9, 9, 8, 0, 8, 8, 4, 3, 2, 9, 7, 0, 1,\n",
      "        8, 2, 6, 6, 1, 2, 1, 1, 5, 9, 5, 8, 6, 1, 8, 0, 7, 6, 4, 1, 1, 1, 1, 8,\n",
      "        9, 4, 7, 4, 8, 0, 9, 7, 3, 6, 4, 0, 0, 9, 3, 6, 2, 8, 9, 3, 6, 7, 7, 5,\n",
      "        1, 9, 0, 1, 0, 0, 1, 0, 1, 9, 1, 1, 0, 6, 7, 5, 5, 8, 3, 5, 4, 6, 0, 8,\n",
      "        1, 4, 7, 7, 1, 0, 4, 9, 0, 8, 9, 1, 3, 5, 1, 2, 9, 8, 7, 2, 1, 8, 0, 3,\n",
      "        8, 1, 4, 4, 9, 3, 4, 9])\n",
      "tensor([4, 4, 0, 8, 6, 3, 2, 4, 1, 0, 6, 9, 9, 8, 0, 8, 8, 4, 3, 2, 9, 7, 0, 1,\n",
      "        8, 2, 6, 6, 1, 2, 1, 1, 5, 9, 5, 8, 6, 1, 8, 0, 7, 6, 4, 1, 1, 1, 1, 8,\n",
      "        9, 4, 7, 4, 8, 0, 9, 3, 3, 6, 4, 0, 0, 9, 3, 6, 2, 8, 9, 3, 6, 7, 7, 5,\n",
      "        1, 9, 0, 1, 0, 0, 1, 0, 1, 9, 1, 1, 0, 6, 7, 5, 5, 8, 3, 5, 4, 6, 0, 8,\n",
      "        1, 4, 7, 7, 1, 0, 4, 9, 0, 8, 9, 1, 3, 5, 1, 2, 9, 8, 7, 2, 1, 8, 0, 3,\n",
      "        8, 1, 9, 4, 9, 3, 4, 9])\n",
      "tensor([7, 0, 4, 5, 1, 8, 1, 7, 3, 3, 3, 5, 2, 1, 3, 2, 2, 6, 8, 1, 1, 5, 5, 4,\n",
      "        2, 5, 7, 9, 1, 4, 8, 8, 2, 6, 2, 8, 0, 5, 8, 4, 2, 8, 2, 7, 3, 9, 3, 7,\n",
      "        4, 2, 0, 0, 7, 3, 1, 5, 7, 1, 6, 3, 8, 2, 1, 5, 3, 1, 3, 9, 6, 2, 9, 8,\n",
      "        2, 7, 9, 4, 4, 0, 8, 8, 1, 4, 3, 0, 7, 8, 1, 2, 9, 7, 0, 7, 1, 9, 7, 9,\n",
      "        2, 6, 9, 3, 3, 4, 5, 8, 0, 9, 6, 3, 8, 1, 2, 5, 7, 7, 8, 3, 3, 4, 2, 8,\n",
      "        0, 7, 1, 1, 6, 0, 0, 0])\n",
      "tensor([7, 0, 4, 5, 1, 8, 1, 7, 3, 3, 3, 5, 2, 1, 3, 2, 2, 6, 8, 1, 1, 5, 5, 4,\n",
      "        2, 5, 7, 9, 1, 4, 8, 8, 2, 6, 2, 8, 0, 5, 8, 9, 2, 6, 2, 7, 3, 9, 3, 7,\n",
      "        4, 2, 0, 0, 7, 6, 1, 5, 7, 1, 6, 3, 8, 2, 1, 5, 3, 1, 3, 9, 6, 2, 9, 8,\n",
      "        2, 7, 9, 4, 4, 0, 8, 8, 1, 4, 3, 0, 7, 8, 1, 2, 9, 7, 0, 7, 1, 9, 7, 9,\n",
      "        2, 6, 9, 3, 3, 4, 5, 8, 0, 9, 6, 3, 8, 1, 2, 5, 7, 7, 8, 9, 8, 4, 2, 8,\n",
      "        0, 7, 1, 1, 6, 0, 0, 0])\n",
      "tensor([8, 2, 8, 8, 7, 3, 3, 3, 4, 4, 5, 2, 3, 5, 2, 2, 1, 3, 8, 4, 8, 1, 6, 5,\n",
      "        4, 5, 2, 9, 9, 9, 9, 6, 2, 1, 2, 1, 7, 8, 0, 8, 1, 8, 4, 1, 4, 6, 2, 9,\n",
      "        2, 1, 1, 9, 3, 1, 9, 2, 0, 4, 5, 3, 0, 3, 1, 0, 7, 0, 4, 6, 7, 3, 8, 9,\n",
      "        5, 2, 7, 0, 2, 6, 0, 7, 8, 7, 1, 8, 8, 6, 3, 8, 4, 5, 6, 5, 9, 5, 9, 6,\n",
      "        9, 9, 5, 5, 9, 6, 0, 7, 5, 8, 4, 6, 8, 1, 1, 9, 9, 2, 2, 4, 9, 6, 9, 7,\n",
      "        2, 1, 6, 8, 5, 4, 1, 1])\n",
      "tensor([8, 2, 8, 8, 7, 3, 3, 3, 4, 4, 5, 2, 3, 5, 2, 2, 1, 3, 8, 4, 8, 1, 6, 5,\n",
      "        9, 5, 2, 9, 9, 9, 9, 6, 2, 1, 2, 1, 7, 8, 0, 8, 1, 8, 4, 1, 9, 6, 2, 9,\n",
      "        2, 1, 1, 9, 3, 1, 9, 2, 0, 4, 5, 3, 0, 3, 1, 0, 7, 0, 4, 6, 7, 3, 8, 9,\n",
      "        5, 2, 7, 0, 2, 6, 0, 7, 8, 7, 1, 8, 8, 6, 3, 8, 4, 5, 6, 5, 9, 5, 9, 6,\n",
      "        9, 9, 5, 5, 9, 6, 0, 2, 5, 8, 4, 6, 8, 1, 1, 9, 9, 2, 2, 4, 9, 6, 9, 7,\n",
      "        2, 1, 6, 8, 5, 4, 1, 1])\n"
     ]
    },
    {
     "name": "stdout",
     "output_type": "stream",
     "text": [
      "tensor([1, 4, 6, 7, 7, 0, 2, 6, 8, 8, 9, 2, 4, 3, 6, 4, 3, 7, 7, 5, 1, 6, 4, 3,\n",
      "        4, 8, 1, 0, 2, 1, 3, 9, 2, 5, 7, 1, 7, 6, 4, 7, 7, 8, 6, 2, 4, 2, 2, 4,\n",
      "        3, 9, 2, 2, 2, 1, 9, 3, 1, 1, 1, 8, 4, 8, 1, 7, 8, 3, 0, 8, 1, 5, 7, 0,\n",
      "        0, 2, 6, 5, 2, 7, 7, 7, 9, 0, 2, 8, 6, 3, 0, 8, 1, 0, 6, 6, 7, 9, 9, 4,\n",
      "        8, 0, 3, 5, 4, 8, 4, 3, 8, 8, 9, 7, 3, 5, 5, 9, 7, 8, 4, 9, 6, 1, 8, 2,\n",
      "        2, 5, 1, 3, 2, 2, 3, 8])\n",
      "tensor([1, 4, 6, 7, 7, 0, 2, 6, 8, 8, 9, 2, 4, 3, 6, 4, 3, 7, 7, 5, 1, 6, 4, 3,\n",
      "        4, 8, 1, 0, 2, 1, 3, 9, 2, 5, 7, 1, 7, 6, 4, 7, 7, 8, 6, 2, 4, 2, 2, 4,\n",
      "        3, 9, 2, 2, 2, 1, 9, 3, 1, 1, 1, 8, 4, 8, 1, 7, 8, 3, 0, 8, 1, 5, 7, 0,\n",
      "        0, 2, 6, 5, 2, 7, 7, 7, 9, 0, 2, 8, 6, 3, 0, 8, 1, 0, 6, 6, 7, 9, 9, 4,\n",
      "        8, 0, 3, 5, 4, 8, 4, 3, 8, 8, 9, 7, 3, 5, 5, 9, 7, 8, 4, 9, 6, 1, 8, 2,\n",
      "        2, 5, 1, 3, 2, 2, 3, 8])\n",
      "tensor([7, 9, 7, 3, 6, 7, 8, 9, 6, 3, 7, 1, 1, 5, 0, 4, 7, 2, 2, 5, 5, 5, 7, 7,\n",
      "        7, 4, 2, 5, 4, 7, 3, 1, 0, 9, 1, 1, 8, 2, 2, 8, 1, 2, 0, 9, 3, 7, 5, 3,\n",
      "        0, 0, 1, 2, 6, 8, 1, 8, 8, 8, 6, 9, 9, 2, 5, 1, 2, 4, 1, 4, 8, 2, 4, 1,\n",
      "        3, 6, 0, 5, 1, 6, 5, 2, 3, 7, 8, 4, 8, 3, 7, 3, 2, 4, 1, 2, 3, 0, 8, 2,\n",
      "        2, 8, 9, 5, 2, 3, 8, 3, 4, 6, 1, 4, 0, 1, 9, 7, 6, 8, 7, 0, 4, 5, 0, 2,\n",
      "        5, 5, 4, 3, 2, 2, 3, 5])\n",
      "tensor([9, 9, 7, 3, 6, 7, 8, 9, 6, 3, 7, 1, 1, 5, 0, 4, 2, 2, 2, 5, 5, 5, 7, 7,\n",
      "        7, 4, 2, 5, 4, 7, 3, 1, 0, 9, 1, 1, 8, 2, 2, 8, 1, 2, 0, 9, 3, 7, 5, 3,\n",
      "        0, 0, 1, 2, 6, 8, 1, 8, 8, 8, 6, 9, 9, 2, 5, 1, 2, 4, 1, 4, 8, 2, 4, 1,\n",
      "        7, 6, 0, 5, 1, 6, 5, 2, 3, 7, 8, 4, 8, 3, 7, 3, 2, 4, 1, 2, 3, 0, 8, 2,\n",
      "        2, 8, 9, 5, 2, 3, 8, 3, 4, 6, 1, 4, 0, 1, 9, 7, 6, 8, 7, 0, 4, 5, 0, 2,\n",
      "        5, 5, 4, 3, 2, 2, 3, 5])\n",
      "tensor([0, 4, 4, 8, 1, 1, 1, 6, 6, 9, 4, 6, 1, 2, 2, 9, 7, 6, 1, 0, 4, 3, 9, 3,\n",
      "        3, 3, 6, 2, 6, 8, 5, 9, 0, 9, 5, 2, 9, 1, 7, 9, 8, 5, 3, 8, 4, 9, 3, 8,\n",
      "        0, 7, 8, 4, 3, 3, 2, 1, 9, 1, 8, 1, 2, 8, 1, 0, 8, 9, 8, 5, 5, 1, 0, 3,\n",
      "        9, 5, 9, 0, 2, 8, 8, 5, 4, 5, 7, 3, 1, 8, 7, 8, 2, 7, 9, 6, 0, 0, 0, 2,\n",
      "        8, 2, 0, 4, 2, 2, 2, 4, 7, 0, 8, 5, 7, 3, 2, 1, 3, 9, 6, 4, 6, 0, 9, 9,\n",
      "        2, 1, 9, 2, 1, 0, 9, 4])\n",
      "tensor([0, 4, 4, 8, 1, 1, 1, 6, 0, 9, 4, 6, 1, 2, 2, 9, 7, 6, 1, 0, 4, 3, 9, 3,\n",
      "        3, 3, 6, 2, 6, 8, 5, 9, 0, 9, 5, 2, 9, 1, 7, 9, 8, 5, 3, 8, 4, 9, 3, 8,\n",
      "        0, 7, 8, 4, 3, 3, 2, 1, 9, 1, 8, 1, 2, 8, 1, 0, 8, 9, 8, 5, 5, 1, 0, 3,\n",
      "        9, 5, 9, 0, 2, 8, 8, 5, 4, 5, 7, 3, 1, 8, 7, 8, 2, 7, 9, 6, 0, 0, 0, 2,\n",
      "        8, 2, 0, 4, 2, 2, 2, 4, 7, 0, 8, 5, 7, 3, 2, 1, 3, 9, 6, 4, 6, 0, 9, 9,\n",
      "        2, 1, 9, 2, 1, 0, 9, 4])\n",
      "tensor([3, 8, 2, 2, 2, 7, 3, 0, 6, 8, 2, 3, 3, 5, 0, 9, 5, 8, 6, 0, 7, 4, 8, 1,\n",
      "        4, 8, 1, 1, 8, 1, 9, 7, 8, 8, 2, 6, 4, 8, 3, 2, 0, 4, 2, 1, 8, 0, 1, 9,\n",
      "        7, 3, 6, 8, 0, 6, 2, 2, 2, 1, 0, 9, 2, 0, 1, 0, 0, 1, 3, 3, 1, 9, 4, 2,\n",
      "        8, 9, 4, 2, 9, 3, 0, 4, 5, 4, 7, 7, 1, 7, 9, 1, 3, 8, 8, 3, 7, 4, 2, 4,\n",
      "        9, 5, 7, 7, 3, 2, 5, 1, 0, 1, 7, 9, 2, 2, 2, 5, 3, 4, 4, 4, 9, 1, 7, 7,\n",
      "        6, 8, 5, 6, 1, 1, 2, 1])\n",
      "tensor([3, 8, 2, 2, 2, 7, 3, 0, 6, 8, 2, 3, 3, 5, 0, 9, 5, 8, 6, 0, 7, 4, 8, 1,\n",
      "        4, 8, 1, 1, 8, 1, 9, 7, 8, 8, 2, 6, 4, 8, 3, 2, 0, 4, 2, 2, 8, 0, 1, 9,\n",
      "        7, 3, 6, 8, 0, 6, 2, 2, 2, 1, 0, 9, 2, 0, 1, 0, 0, 1, 3, 3, 1, 9, 4, 2,\n",
      "        8, 9, 4, 2, 9, 3, 0, 4, 5, 4, 7, 7, 1, 7, 9, 1, 3, 8, 8, 3, 7, 4, 2, 4,\n",
      "        9, 5, 7, 7, 3, 2, 5, 1, 0, 1, 7, 9, 2, 2, 2, 5, 3, 4, 4, 4, 9, 1, 7, 7,\n",
      "        6, 8, 5, 6, 1, 1, 2, 7])\n",
      "tensor([2, 4, 9, 8, 8, 0, 4, 3, 9, 0, 7, 1, 7, 0, 7, 4, 3, 6, 9, 8, 3, 8, 3, 8,\n",
      "        4, 2, 9, 2, 4, 7, 7, 0, 9, 2, 4, 0, 4, 2, 1, 8, 2, 8, 8, 9, 0, 8, 1, 1,\n",
      "        1, 7, 9, 5, 8, 8, 8, 2, 5, 0, 8, 5, 3, 4, 1, 7, 0, 3, 1, 7, 6, 7, 6, 7,\n",
      "        9, 0, 5, 0, 1, 7, 2, 1, 1, 9, 7, 5, 2, 5, 4, 7, 2, 4, 1, 9, 8, 3, 2, 7,\n",
      "        3, 5, 2, 2, 9, 9, 8, 8, 2, 2, 2, 2, 9, 8, 1, 0, 3, 5, 5, 8, 3, 9, 5, 3,\n",
      "        9, 6, 2, 8, 6, 3, 9, 9])\n",
      "tensor([2, 4, 9, 8, 8, 0, 4, 3, 4, 0, 7, 1, 7, 0, 7, 4, 3, 6, 9, 8, 3, 8, 3, 8,\n",
      "        4, 2, 9, 2, 4, 7, 7, 0, 9, 2, 4, 0, 4, 2, 1, 8, 2, 8, 8, 9, 0, 8, 1, 1,\n",
      "        1, 1, 9, 5, 8, 5, 8, 2, 5, 0, 8, 5, 3, 4, 1, 7, 0, 3, 1, 7, 6, 7, 6, 7,\n",
      "        9, 0, 5, 0, 1, 7, 2, 1, 1, 9, 7, 5, 2, 5, 4, 7, 2, 4, 1, 9, 8, 3, 2, 7,\n",
      "        3, 5, 2, 2, 9, 9, 8, 8, 2, 2, 2, 2, 9, 8, 1, 0, 3, 5, 5, 8, 3, 9, 5, 3,\n",
      "        9, 6, 2, 8, 6, 3, 9, 9])\n",
      "tensor([9, 5, 7, 3, 1, 2, 2, 0, 9, 0, 8, 7, 5, 1, 1, 1, 6, 6, 2, 2, 6, 2, 1, 5,\n",
      "        0, 6, 7, 1, 0, 7, 0, 5, 7, 0, 3, 8, 9, 5, 3, 7, 7, 6, 6, 8, 2, 2, 7, 5,\n",
      "        7, 4, 8, 6, 9, 9, 8, 4, 8, 6, 6, 2, 6, 8, 1, 8, 1, 1, 1, 0, 7, 5, 2, 6,\n",
      "        5, 4, 5, 1, 7, 9, 1, 3, 0, 1, 2, 3, 7, 9, 3, 6, 1, 7, 0, 0, 6, 2, 7, 1,\n",
      "        9, 7, 5, 7, 2, 0, 3, 9, 0, 9, 8, 0, 5, 3, 0, 8, 8, 0, 0, 9, 6, 0, 2, 5,\n",
      "        1, 6, 0, 3, 2, 0, 4, 1])\n",
      "tensor([9, 5, 7, 3, 1, 2, 2, 0, 9, 0, 8, 7, 5, 1, 1, 1, 6, 6, 2, 2, 6, 2, 1, 5,\n",
      "        0, 6, 7, 1, 0, 7, 0, 5, 7, 0, 3, 8, 9, 5, 3, 7, 7, 6, 6, 8, 2, 2, 7, 5,\n",
      "        7, 4, 8, 6, 9, 9, 8, 4, 8, 6, 6, 2, 6, 8, 1, 8, 1, 1, 1, 0, 7, 5, 2, 6,\n",
      "        5, 4, 5, 1, 7, 9, 1, 3, 0, 1, 2, 9, 7, 9, 3, 5, 1, 7, 0, 0, 6, 2, 7, 1,\n",
      "        9, 7, 5, 7, 2, 0, 3, 9, 0, 9, 8, 0, 5, 3, 0, 8, 8, 0, 0, 9, 6, 0, 2, 5,\n",
      "        1, 6, 0, 3, 2, 0, 4, 1])\n",
      "tensor([4, 0, 5, 4, 7, 0, 1, 1, 2, 0, 3, 2, 8, 9, 9, 4, 1, 4, 2, 9, 4, 3, 3, 1,\n",
      "        6, 1, 0, 0, 3, 0, 9, 8, 4, 4, 5, 6, 4, 4, 5, 3, 7, 6, 2, 1, 9, 4, 7, 0,\n",
      "        2, 7, 4, 0, 9, 1, 8, 7, 6, 4, 5, 6, 0, 6, 5, 6, 3, 4, 2, 6, 9, 2, 0, 1,\n",
      "        0, 0, 7, 7, 5, 9, 8, 4, 8, 2, 1, 2, 8, 9, 8, 7, 2, 9, 9, 4, 2, 2, 4, 9,\n",
      "        9, 8, 1, 1, 7, 1, 8, 7, 1, 9, 5, 4, 5, 5, 4, 5, 4, 0, 1, 2, 8, 2, 8, 2,\n",
      "        6, 2, 6, 7, 9, 4, 5, 7])\n",
      "tensor([4, 0, 5, 4, 7, 0, 1, 1, 2, 0, 3, 2, 8, 9, 9, 4, 1, 4, 2, 9, 4, 3, 3, 1,\n",
      "        6, 1, 0, 0, 3, 0, 9, 8, 4, 4, 5, 6, 4, 4, 5, 3, 7, 6, 2, 1, 9, 4, 7, 0,\n",
      "        2, 7, 4, 0, 9, 1, 8, 7, 6, 4, 5, 6, 0, 6, 5, 6, 3, 4, 2, 6, 9, 2, 0, 1,\n",
      "        0, 0, 7, 7, 5, 9, 8, 4, 8, 2, 1, 2, 8, 9, 3, 7, 2, 9, 9, 4, 2, 2, 4, 9,\n",
      "        9, 8, 1, 1, 7, 1, 8, 7, 1, 9, 8, 4, 5, 5, 4, 5, 4, 0, 1, 2, 8, 2, 8, 2,\n",
      "        6, 2, 1, 7, 9, 4, 5, 7])\n",
      "tensor([9, 3, 1, 8, 3, 7, 7, 7, 9, 4, 5, 0, 5, 0, 0, 5, 7, 0, 8, 2, 4, 6, 1, 2,\n",
      "        0, 9, 7, 0, 9, 7, 3, 4, 5, 5, 1, 5, 4, 0, 8, 4, 1, 2, 2, 6, 8, 3, 7, 3,\n",
      "        7, 1, 5, 6, 9, 2, 6, 1, 4, 4, 2, 2, 9, 1, 1, 1, 5, 6, 8, 2, 6, 1, 6, 0,\n",
      "        9, 7, 7, 2, 5, 8, 7, 2, 5, 1, 7, 0, 7, 9, 8, 0, 0, 7, 1, 5, 2, 5, 6, 2,\n",
      "        0, 3, 0, 0, 5, 7, 6, 8, 0, 8, 1, 4, 7, 2, 6, 6, 7, 1, 3, 3, 9, 3, 2, 7,\n",
      "        1, 5, 9, 7, 8, 1, 9, 6])\n",
      "tensor([9, 3, 1, 8, 3, 7, 7, 7, 9, 4, 5, 0, 5, 0, 0, 5, 7, 0, 8, 2, 4, 6, 1, 2,\n",
      "        0, 9, 8, 0, 9, 7, 3, 9, 5, 5, 1, 5, 4, 0, 8, 4, 1, 2, 2, 6, 8, 3, 7, 3,\n",
      "        7, 1, 5, 6, 9, 2, 6, 1, 4, 4, 2, 2, 9, 1, 1, 9, 5, 6, 8, 2, 6, 1, 6, 0,\n",
      "        9, 7, 7, 2, 5, 8, 7, 2, 5, 1, 7, 0, 7, 9, 8, 0, 0, 7, 1, 5, 2, 5, 6, 2,\n",
      "        0, 3, 0, 0, 5, 7, 6, 8, 0, 8, 1, 4, 7, 2, 6, 6, 7, 1, 3, 3, 9, 3, 2, 7,\n",
      "        1, 5, 9, 7, 8, 1, 9, 6])\n",
      "tensor([1, 8, 5, 7, 5, 9, 5, 6, 9, 1, 2, 8, 9, 3, 7, 5, 1, 6, 0, 5, 4, 6, 5, 8,\n",
      "        8, 6, 7, 1, 0, 6, 8, 2, 7, 1, 3, 1, 2, 5, 7, 0, 9, 6, 9, 7, 1, 4, 7, 2,\n",
      "        9, 0, 5, 9, 0, 9, 7, 2, 9, 7, 1, 3, 6, 7, 8, 6, 2, 1, 3, 1, 5, 9, 1, 2,\n",
      "        2, 6, 9, 2, 9, 1, 7, 1, 3, 7, 7, 2, 7, 0, 0, 0, 0, 0, 2, 9, 9, 2, 5, 4,\n",
      "        2, 3, 0, 8, 3, 5, 3, 6, 4, 2, 0, 4, 3, 3, 1, 1, 0, 2, 3, 1, 1, 5, 4, 1,\n",
      "        1, 2, 6, 6, 1, 4, 7, 1])\n",
      "tensor([1, 8, 5, 7, 5, 9, 5, 6, 9, 1, 2, 8, 9, 3, 7, 5, 1, 6, 0, 5, 4, 6, 5, 8,\n",
      "        8, 6, 7, 1, 0, 6, 8, 2, 7, 1, 3, 1, 2, 5, 7, 2, 9, 6, 3, 7, 1, 4, 7, 2,\n",
      "        9, 0, 5, 9, 0, 9, 7, 2, 9, 7, 1, 3, 6, 7, 8, 6, 2, 1, 3, 1, 5, 9, 1, 2,\n",
      "        2, 6, 9, 2, 9, 1, 7, 1, 3, 7, 7, 2, 7, 0, 0, 0, 0, 0, 2, 9, 9, 2, 5, 4,\n",
      "        2, 3, 0, 8, 3, 5, 3, 6, 4, 2, 0, 8, 3, 3, 1, 1, 0, 2, 3, 1, 1, 5, 4, 1,\n",
      "        1, 2, 6, 6, 1, 4, 7, 1])\n",
      "tensor([1, 2, 0, 7, 6, 4, 9, 9, 7, 8, 1, 0, 6, 9, 0, 8, 0, 2, 3, 9, 3, 4, 0, 3,\n",
      "        1, 8, 6, 1, 3, 8, 1, 7, 2, 3, 5, 9, 6, 6, 6, 7, 3, 4, 1, 7, 5, 6, 5, 3,\n",
      "        8, 8, 7, 1, 1, 9, 2, 1, 1, 3, 7, 8, 7, 4, 0, 0, 1, 9, 3, 3, 3, 3, 1, 6,\n",
      "        4, 0, 5, 5, 9, 4, 4, 5, 2, 2, 9, 0, 2, 1, 5, 7, 5, 1, 4, 8, 8, 3, 1, 8,\n",
      "        3, 4, 3, 4, 1, 9, 0, 2, 8, 8, 6, 2, 3, 8, 7, 1, 2, 0, 7, 4, 8, 7, 3, 8,\n",
      "        9, 3, 3, 6, 0, 9, 7, 5])\n",
      "tensor([1, 2, 0, 7, 6, 4, 9, 9, 7, 8, 1, 0, 6, 9, 0, 8, 0, 2, 3, 9, 3, 4, 0, 3,\n",
      "        1, 8, 6, 1, 3, 8, 1, 7, 2, 3, 5, 9, 6, 6, 6, 7, 3, 4, 1, 7, 5, 6, 5, 3,\n",
      "        8, 8, 7, 1, 1, 9, 2, 1, 1, 3, 7, 8, 7, 4, 0, 0, 1, 9, 3, 3, 3, 3, 1, 6,\n",
      "        4, 0, 5, 5, 9, 4, 4, 5, 2, 2, 9, 0, 2, 1, 5, 7, 5, 1, 4, 8, 8, 3, 1, 8,\n",
      "        3, 4, 3, 4, 1, 9, 0, 2, 8, 8, 6, 2, 3, 8, 7, 1, 2, 0, 7, 4, 8, 7, 3, 8,\n",
      "        9, 3, 3, 6, 0, 9, 7, 5])\n",
      "tensor([0, 8, 9, 0, 0, 4, 9, 5, 2, 0, 2, 2, 8, 3, 4, 2, 0, 2, 6, 2, 4, 4, 3, 5,\n",
      "        7, 9, 5, 7, 3, 4, 9, 9, 9, 8, 3, 6, 8, 7, 1, 5, 3, 3, 3, 2, 8, 7, 8, 6,\n",
      "        7, 1, 1, 0, 3, 4, 0, 3, 2, 0, 4, 0, 8, 8, 0, 0, 6, 4, 0, 3, 8, 7, 5, 6,\n",
      "        1, 6, 1, 8, 8, 7, 8, 4, 9, 6, 4, 5, 3, 1, 2, 8, 2, 4, 3, 7, 9, 5, 2, 0,\n",
      "        3, 9, 5, 7, 9, 5, 1, 1, 9, 8, 0, 6, 8, 8, 0, 4, 5, 4, 3, 1, 1, 0, 2, 8,\n",
      "        8, 9, 7, 6, 0, 6, 2, 5])\n"
     ]
    },
    {
     "name": "stdout",
     "output_type": "stream",
     "text": [
      "tensor([0, 8, 9, 0, 0, 4, 9, 5, 7, 0, 2, 2, 8, 3, 4, 2, 0, 2, 6, 2, 4, 4, 3, 5,\n",
      "        7, 9, 5, 7, 3, 4, 9, 9, 9, 8, 3, 6, 8, 7, 1, 5, 3, 3, 3, 2, 8, 7, 8, 6,\n",
      "        7, 1, 1, 0, 3, 4, 0, 3, 2, 0, 4, 0, 8, 8, 0, 0, 6, 4, 0, 3, 8, 7, 5, 6,\n",
      "        1, 6, 1, 8, 8, 7, 8, 4, 9, 6, 4, 5, 3, 1, 2, 8, 2, 4, 3, 7, 9, 5, 2, 0,\n",
      "        3, 9, 5, 7, 9, 5, 1, 1, 9, 8, 0, 6, 8, 8, 0, 4, 5, 4, 3, 1, 1, 0, 2, 8,\n",
      "        8, 9, 7, 6, 0, 6, 2, 5])\n",
      "tensor([5, 0, 6, 2, 7, 1, 3, 8, 4, 0, 3, 9, 4, 9, 6, 5, 8, 6, 4, 7, 0, 3, 6, 9,\n",
      "        6, 2, 0, 0, 2, 7, 4, 6, 8, 6, 6, 9, 4, 4, 6, 9, 9, 2, 7, 1, 8, 1, 6, 3,\n",
      "        2, 3, 2, 9, 6, 9, 3, 0, 7, 8, 9, 9, 5, 5, 7, 2, 6, 3, 4, 0, 5, 4, 6, 4,\n",
      "        4, 7, 1, 1, 7, 9, 2, 0, 4, 1, 4, 1, 5, 8, 8, 5, 0, 5, 4, 5, 7, 2, 4, 7,\n",
      "        6, 1, 6, 0, 9, 5, 2, 8, 3, 0, 8, 9, 1, 8, 5, 9, 3, 3, 7, 3, 5, 6, 7, 2,\n",
      "        5, 0, 6, 5, 0, 9, 4, 2])\n",
      "tensor([5, 0, 6, 2, 7, 1, 3, 8, 4, 0, 3, 9, 4, 9, 6, 5, 8, 6, 4, 7, 0, 3, 6, 9,\n",
      "        6, 2, 0, 0, 2, 7, 4, 6, 8, 6, 6, 9, 4, 4, 6, 9, 9, 2, 7, 1, 8, 1, 6, 3,\n",
      "        2, 3, 2, 9, 6, 9, 3, 0, 7, 8, 9, 9, 5, 5, 7, 2, 6, 3, 4, 0, 5, 4, 6, 4,\n",
      "        4, 7, 1, 1, 7, 9, 2, 0, 4, 1, 4, 1, 5, 8, 8, 5, 0, 5, 4, 5, 7, 2, 4, 7,\n",
      "        6, 1, 6, 0, 9, 5, 2, 8, 3, 0, 8, 9, 1, 8, 1, 9, 3, 3, 3, 3, 5, 6, 7, 2,\n",
      "        5, 0, 6, 5, 0, 9, 4, 2])\n",
      "tensor([8, 0, 7, 3, 6, 3, 9, 8, 6, 7, 7, 8, 6, 4, 7, 1, 3, 8, 0, 0, 0, 9, 3, 8,\n",
      "        7, 6, 4, 4, 3, 6, 0, 0, 1, 9, 9, 3, 4, 6, 1, 8, 5, 9, 3, 8, 0, 6, 1, 8,\n",
      "        1, 9, 9, 6, 9, 7, 6, 4, 9, 9, 3, 3, 0, 9, 2, 9, 1, 5, 8, 0, 6, 3, 0, 0,\n",
      "        4, 8, 6, 0, 9, 4, 3, 5, 7, 7, 4, 5, 6, 4, 5, 1, 4, 6, 5, 3, 5, 9, 1, 1,\n",
      "        1, 4, 9, 4, 1, 3, 7, 1, 8, 2, 5, 7, 9, 4, 3, 8, 7, 2, 4, 6, 1, 8, 1, 7,\n",
      "        4, 9, 1, 1, 2, 2, 7, 2])\n",
      "tensor([8, 0, 7, 3, 6, 3, 9, 8, 6, 7, 7, 8, 6, 4, 7, 1, 3, 8, 0, 0, 0, 9, 3, 8,\n",
      "        7, 6, 4, 4, 3, 6, 0, 0, 1, 9, 9, 3, 4, 6, 1, 8, 5, 9, 3, 8, 0, 6, 1, 8,\n",
      "        1, 9, 9, 6, 9, 7, 6, 4, 9, 9, 3, 3, 0, 9, 2, 9, 1, 5, 8, 0, 6, 3, 0, 0,\n",
      "        4, 8, 6, 0, 9, 4, 3, 5, 7, 7, 4, 5, 6, 4, 5, 1, 4, 6, 5, 3, 5, 9, 1, 1,\n",
      "        1, 4, 9, 4, 1, 3, 7, 7, 8, 2, 5, 7, 9, 4, 3, 8, 7, 2, 4, 6, 1, 8, 1, 7,\n",
      "        4, 9, 1, 1, 2, 2, 7, 2])\n",
      "tensor([6, 0, 4, 3, 1, 5, 8, 6, 3, 7, 6, 4, 1, 9, 6, 1, 2, 2, 4, 7, 3, 1, 0, 3,\n",
      "        5, 3, 6, 1, 3, 5, 2, 1, 4, 6, 9, 6, 6, 6, 8, 0, 6, 6, 6, 3, 7, 1, 1, 0,\n",
      "        2, 6, 1, 7, 9, 7, 5, 2, 1, 5, 5, 7, 6, 2, 9, 5, 4, 1, 8, 4, 8, 4, 5, 0,\n",
      "        6, 4, 7, 7, 8, 2, 6, 1, 7, 1, 2, 3, 0, 9, 7, 2, 0, 6, 1, 6, 5, 0, 5, 5,\n",
      "        7, 7, 4, 1, 1, 1, 5, 2, 9, 6, 1, 0, 0, 8, 5, 7, 6, 2, 7, 0, 2, 3, 8, 1,\n",
      "        9, 9, 6, 9, 9, 8, 1, 0])\n",
      "tensor([6, 0, 9, 3, 1, 5, 8, 6, 3, 7, 6, 4, 1, 9, 6, 1, 2, 2, 4, 7, 3, 1, 0, 3,\n",
      "        5, 3, 6, 1, 3, 5, 2, 1, 4, 6, 9, 8, 6, 6, 8, 0, 6, 6, 6, 3, 7, 1, 1, 0,\n",
      "        2, 6, 1, 7, 9, 7, 5, 2, 1, 5, 5, 7, 6, 2, 3, 5, 4, 1, 8, 4, 8, 4, 5, 0,\n",
      "        6, 4, 7, 7, 8, 2, 6, 1, 7, 1, 2, 3, 0, 9, 7, 2, 0, 6, 1, 6, 5, 0, 5, 5,\n",
      "        7, 7, 4, 1, 1, 1, 5, 2, 9, 6, 1, 0, 0, 8, 5, 7, 6, 2, 7, 0, 2, 3, 8, 1,\n",
      "        9, 9, 6, 9, 9, 8, 1, 0])\n",
      "tensor([9, 3, 2, 9, 4, 2, 2, 9, 0, 2, 6, 1, 4, 5, 8, 3, 9, 0, 3, 4, 6, 8, 4, 3,\n",
      "        5, 5, 8, 6, 8, 8, 0, 8, 1, 9, 7, 9, 6, 6, 3, 0, 0, 1, 8, 7, 9, 4, 4, 1,\n",
      "        6, 1, 3, 1, 5, 1, 8, 4, 6, 4, 7, 6, 8, 2, 6, 1, 7, 3, 5, 1, 0, 7, 1, 8,\n",
      "        4, 3, 0, 2, 2, 3, 0, 5, 5, 3, 6, 4, 6, 2, 6, 7, 4, 5, 6, 2, 7, 5, 1, 6,\n",
      "        9, 1, 6, 1, 4, 8, 7, 5, 6, 6, 0, 7, 9, 2, 6, 1, 9, 3, 0, 4, 9, 3, 2, 0,\n",
      "        5, 3, 8, 7, 6, 4, 1, 3])\n",
      "tensor([9, 3, 2, 9, 4, 2, 2, 9, 0, 2, 6, 1, 4, 5, 8, 3, 9, 0, 3, 4, 6, 8, 4, 3,\n",
      "        5, 5, 8, 6, 8, 8, 0, 8, 1, 9, 7, 9, 6, 6, 3, 0, 0, 1, 8, 7, 9, 4, 4, 1,\n",
      "        6, 1, 3, 1, 5, 1, 8, 4, 6, 4, 7, 6, 8, 2, 6, 1, 7, 3, 5, 1, 0, 7, 1, 8,\n",
      "        4, 3, 0, 2, 2, 3, 0, 5, 5, 3, 6, 4, 6, 2, 6, 5, 4, 5, 6, 2, 7, 5, 1, 6,\n",
      "        9, 1, 6, 1, 4, 8, 2, 5, 6, 6, 0, 7, 9, 2, 6, 1, 9, 3, 0, 4, 9, 3, 2, 0,\n",
      "        5, 3, 8, 7, 6, 4, 1, 3])\n",
      "tensor([8, 2, 6, 5, 6, 7, 1, 9, 8, 0, 1, 8, 3, 2, 3, 1, 6, 4, 8, 9, 0, 4, 4, 8,\n",
      "        8, 7, 0, 8, 4, 4, 7, 9, 8, 7, 1, 3, 0, 9, 6, 5, 4, 2, 4, 0, 3, 6, 0, 6,\n",
      "        4, 1, 4, 9, 6, 8, 2, 1, 1, 9, 8, 8, 5, 9, 2, 0, 2, 3, 9, 6, 5, 6, 6, 6,\n",
      "        6, 3, 3, 7, 1, 4, 1, 8, 9, 2, 8, 8, 7, 8, 6, 9, 0, 5, 3, 0, 8, 7, 3, 9,\n",
      "        7, 5, 1, 6, 8, 7, 0, 0, 6, 1, 5, 7, 0, 9, 3, 5, 8, 3, 4, 3, 4, 8, 2, 4,\n",
      "        0, 1, 5, 2, 2, 6, 7, 1])\n",
      "tensor([8, 2, 6, 5, 6, 7, 1, 9, 8, 0, 1, 8, 3, 2, 3, 1, 6, 4, 8, 9, 0, 4, 4, 8,\n",
      "        8, 7, 0, 8, 4, 4, 7, 9, 8, 7, 1, 3, 0, 9, 6, 5, 4, 2, 4, 0, 3, 6, 0, 6,\n",
      "        4, 1, 4, 9, 6, 8, 2, 1, 1, 9, 8, 8, 5, 9, 2, 0, 2, 3, 9, 6, 5, 6, 6, 5,\n",
      "        6, 3, 3, 7, 1, 4, 1, 8, 9, 2, 8, 8, 7, 8, 6, 9, 0, 5, 3, 0, 8, 7, 3, 9,\n",
      "        7, 5, 1, 6, 8, 7, 0, 0, 6, 1, 5, 7, 0, 9, 3, 5, 8, 3, 4, 3, 4, 8, 2, 4,\n",
      "        0, 1, 5, 2, 2, 6, 7, 1])\n",
      "tensor([5, 6, 0, 9, 7, 1, 4, 4, 4, 4, 6, 9, 5, 4, 5, 6, 5, 6, 0, 0, 8, 7, 3, 3,\n",
      "        7, 8, 5, 8, 4, 0, 8, 6, 7, 7, 5, 9, 7, 7, 8, 5, 0, 0, 7, 0, 4, 3, 7, 1,\n",
      "        6, 6, 2, 8, 3, 2, 9, 6, 1, 4, 3, 2, 0, 3, 7, 4, 1, 5, 0, 1, 2, 1, 3, 3,\n",
      "        8, 9, 2, 1, 7, 8, 5, 6, 4, 2, 3, 4, 9, 1, 3, 6, 8, 4, 1, 2, 4, 5, 8, 3,\n",
      "        4, 8, 0, 6, 5, 0, 2, 2, 2, 2, 4, 5, 2, 8, 2, 6, 0, 8, 0, 7, 1, 5, 1, 0,\n",
      "        9, 0, 1, 9, 5, 9, 2, 1])\n",
      "tensor([5, 6, 0, 9, 7, 1, 4, 4, 4, 4, 6, 9, 5, 4, 5, 6, 5, 6, 0, 0, 8, 7, 3, 3,\n",
      "        7, 6, 5, 8, 4, 0, 8, 6, 7, 7, 5, 9, 7, 7, 8, 5, 0, 0, 7, 0, 4, 3, 7, 1,\n",
      "        6, 6, 3, 1, 3, 2, 9, 6, 1, 4, 3, 2, 0, 3, 7, 4, 1, 5, 0, 1, 2, 1, 3, 3,\n",
      "        8, 9, 2, 1, 7, 8, 5, 6, 4, 2, 3, 4, 9, 1, 3, 6, 5, 4, 1, 2, 4, 5, 8, 3,\n",
      "        4, 8, 0, 6, 5, 0, 2, 2, 2, 2, 2, 5, 2, 8, 2, 6, 0, 8, 0, 7, 1, 5, 1, 0,\n",
      "        9, 0, 1, 9, 5, 9, 2, 1])\n",
      "tensor([1, 6, 5, 7, 3, 7, 7, 3, 1, 9, 2, 6, 7, 9, 2, 4, 2, 5, 3, 0, 6, 8, 4, 1,\n",
      "        5, 0, 7, 3, 1, 3, 4, 1, 6, 4, 2, 3, 2, 0, 0, 2, 7, 0, 7, 4, 4, 5, 9, 3,\n",
      "        7, 6, 4, 0, 1, 9, 7, 4, 9, 1, 1, 3, 0, 1, 2, 8, 4, 6, 6, 5, 0, 7, 7, 3,\n",
      "        4, 4, 9, 9, 4, 7, 2, 0, 5, 6, 0, 3, 1, 7, 1, 6, 0, 3, 4, 9, 8, 7, 8, 8,\n",
      "        2, 7, 3, 6, 3, 8, 0, 8, 0, 2, 9, 1, 1, 5, 2, 2, 2, 8, 0, 1, 5, 3, 7, 3,\n",
      "        0, 8, 9, 0, 5, 5, 0, 1])\n",
      "tensor([1, 6, 5, 7, 3, 7, 7, 3, 1, 9, 2, 6, 7, 9, 2, 4, 2, 5, 3, 0, 6, 8, 4, 1,\n",
      "        5, 0, 7, 3, 1, 3, 4, 1, 6, 4, 2, 3, 2, 0, 0, 2, 7, 0, 7, 4, 4, 5, 9, 3,\n",
      "        7, 6, 4, 0, 1, 9, 7, 4, 9, 1, 1, 5, 0, 1, 2, 8, 4, 6, 6, 5, 0, 7, 7, 3,\n",
      "        4, 4, 9, 9, 4, 7, 7, 0, 5, 6, 0, 3, 1, 7, 1, 6, 0, 3, 4, 9, 8, 7, 8, 8,\n",
      "        2, 7, 3, 6, 3, 8, 0, 8, 0, 2, 9, 1, 1, 5, 2, 2, 2, 8, 0, 1, 5, 3, 7, 3,\n",
      "        0, 8, 9, 0, 5, 5, 0, 1])\n",
      "tensor([3, 7, 0, 9, 1, 8, 1, 4, 8, 6, 3, 1, 5, 4, 2, 1, 5, 4, 3, 0, 1, 7, 2, 4,\n",
      "        9, 6, 0, 6, 7, 9, 5, 2, 6, 4, 9, 9, 9, 1, 1, 8, 0, 8, 4, 7, 3, 9, 9, 6,\n",
      "        0, 7, 9, 6, 1, 1, 1, 8, 5, 3, 8, 0, 5, 1, 2, 8, 0, 1, 9, 8, 8, 5, 5, 5,\n",
      "        6, 2, 3, 8, 6, 2, 9, 4, 5, 6, 4, 3, 9, 6, 9, 8, 1, 3, 3, 6, 9, 5, 7, 1,\n",
      "        5, 1, 0, 7, 5, 3, 0, 1, 3, 8, 8, 3, 9, 2, 5, 0, 2, 5, 4, 3, 5, 6, 0, 4,\n",
      "        9, 7, 1, 6, 5, 0, 5, 9])\n",
      "tensor([3, 7, 0, 9, 1, 8, 1, 4, 8, 6, 3, 1, 5, 4, 2, 1, 5, 4, 3, 0, 1, 7, 2, 4,\n",
      "        9, 6, 0, 6, 7, 9, 5, 2, 6, 4, 9, 9, 9, 1, 1, 8, 0, 8, 4, 7, 3, 9, 9, 6,\n",
      "        0, 7, 9, 6, 1, 1, 1, 8, 5, 3, 8, 0, 5, 1, 2, 8, 0, 1, 9, 8, 8, 5, 5, 5,\n",
      "        6, 2, 3, 8, 6, 2, 9, 4, 5, 6, 4, 3, 9, 6, 9, 8, 1, 9, 3, 6, 9, 5, 7, 1,\n",
      "        5, 1, 0, 7, 5, 3, 0, 1, 3, 8, 8, 2, 9, 2, 5, 0, 2, 5, 4, 5, 5, 6, 0, 4,\n",
      "        9, 7, 1, 6, 5, 0, 5, 9])\n",
      "tensor([5, 3, 1, 7, 5, 4, 0, 5, 9, 1, 7, 8, 8, 7, 7, 2, 5, 8, 3, 8, 7, 7, 7, 9,\n",
      "        7, 7, 2, 0, 3, 1, 2, 2, 8, 9, 6, 4, 6, 0, 4, 1, 1, 0, 1, 7, 3, 6, 5, 3,\n",
      "        8, 6, 8, 5, 5, 5, 8, 9, 5, 5, 1, 6, 9, 1, 1, 1, 3, 4, 9, 5, 6, 5, 2, 6,\n",
      "        2, 0, 3, 3, 1, 3, 3, 7, 1, 0, 8, 2, 3, 1, 1, 1, 7, 2, 9, 2, 1, 8, 1, 5,\n",
      "        9, 8, 6, 0, 4, 5, 7, 2, 1, 8, 9, 1, 9, 0, 3, 2, 7, 2, 9, 9, 7, 3, 6, 9,\n",
      "        5, 5, 6, 9, 7, 1, 1, 6])\n",
      "tensor([5, 3, 1, 7, 5, 4, 0, 5, 9, 1, 7, 8, 7, 7, 7, 2, 5, 8, 3, 8, 7, 7, 7, 9,\n",
      "        7, 7, 2, 0, 3, 1, 2, 2, 8, 9, 6, 4, 6, 0, 4, 1, 1, 0, 1, 7, 3, 0, 5, 3,\n",
      "        8, 6, 8, 5, 5, 5, 8, 9, 5, 5, 1, 6, 9, 1, 1, 1, 3, 4, 9, 5, 6, 5, 2, 6,\n",
      "        2, 0, 3, 3, 1, 3, 3, 7, 1, 0, 8, 2, 3, 1, 1, 1, 7, 2, 9, 2, 1, 8, 1, 5,\n",
      "        9, 8, 6, 0, 4, 5, 7, 2, 1, 8, 9, 9, 9, 0, 3, 2, 7, 2, 9, 9, 8, 3, 6, 9,\n",
      "        5, 5, 6, 9, 7, 1, 1, 6])\n",
      "tensor([3, 0, 2, 4, 3, 7, 8, 3, 7, 5, 3, 5, 5, 0, 6, 9, 2, 1, 3, 3, 9, 9, 6, 5,\n",
      "        7, 0, 1, 8, 4, 6, 1, 9, 1, 3, 9, 2, 0, 7, 5, 2, 5, 1, 4, 2, 0, 3, 6, 1,\n",
      "        6, 1, 1, 2, 0, 5, 3, 5, 1, 0, 4, 3, 4, 3, 6, 8, 8, 5, 4, 1, 2, 6, 2, 0,\n",
      "        3, 5, 8, 6, 8, 0, 2, 3, 9, 1, 1, 6, 3, 5, 1, 4, 0, 5, 4, 1, 7, 3, 8, 1,\n",
      "        7, 5, 2, 7, 8, 2, 1, 0, 2, 2, 5, 4, 5, 8, 7, 3, 9, 1, 3, 4, 1, 3, 8, 6,\n",
      "        2, 0, 0, 8, 2, 2, 6, 3])\n",
      "tensor([3, 0, 2, 4, 3, 7, 8, 3, 7, 5, 3, 5, 5, 0, 6, 9, 2, 1, 3, 3, 9, 9, 6, 5,\n",
      "        9, 0, 1, 8, 4, 6, 1, 9, 1, 3, 9, 2, 0, 7, 5, 2, 5, 1, 4, 2, 0, 5, 6, 1,\n",
      "        6, 1, 1, 4, 0, 5, 3, 5, 1, 0, 4, 3, 4, 3, 6, 8, 8, 5, 4, 1, 2, 6, 2, 9,\n",
      "        3, 5, 9, 6, 8, 0, 2, 3, 9, 1, 1, 6, 3, 5, 1, 4, 0, 5, 4, 1, 7, 3, 8, 1,\n",
      "        7, 5, 2, 7, 8, 2, 1, 0, 2, 2, 5, 4, 5, 8, 7, 3, 9, 1, 3, 4, 1, 3, 8, 6,\n",
      "        2, 0, 0, 8, 2, 2, 6, 3])\n",
      "tensor([0, 7, 5, 8, 9, 9, 3, 9, 6, 0, 2, 2, 9, 2, 3, 4, 8, 2, 1, 1, 0, 7, 4, 2,\n",
      "        7, 1, 8, 3, 2, 3, 0, 8, 7, 6, 1, 2, 2, 8, 0, 5, 5, 0, 8, 9, 0, 8, 2, 1,\n",
      "        8, 6, 6, 8, 0, 1, 0, 6, 8, 3, 8, 6, 4, 9, 4, 2, 0, 4, 1, 5, 1, 1, 7, 1,\n",
      "        8, 9, 0, 6, 2, 6, 2, 9, 7, 4, 7, 0, 7, 1, 1, 1, 3, 6, 6, 7, 4, 9, 4, 1,\n",
      "        1, 6, 0, 3, 4, 8, 2, 5, 8, 7, 2, 1, 6, 3, 3, 4, 4, 6, 5, 4, 3, 3, 5, 8,\n",
      "        0, 7, 8, 8, 7, 6, 4, 9])\n",
      "tensor([0, 7, 5, 8, 9, 9, 3, 9, 6, 0, 2, 2, 9, 2, 3, 9, 9, 2, 1, 1, 0, 7, 4, 2,\n",
      "        7, 1, 8, 3, 2, 3, 0, 8, 7, 6, 1, 2, 2, 8, 0, 5, 5, 0, 8, 9, 0, 8, 2, 1,\n",
      "        8, 6, 6, 8, 0, 1, 0, 6, 8, 3, 8, 6, 4, 9, 4, 2, 0, 4, 1, 5, 1, 1, 7, 1,\n",
      "        8, 9, 0, 6, 2, 6, 2, 9, 7, 4, 7, 0, 7, 1, 1, 1, 3, 6, 6, 7, 9, 9, 4, 1,\n",
      "        1, 6, 0, 3, 4, 8, 2, 5, 8, 7, 2, 1, 6, 3, 3, 4, 4, 6, 5, 4, 3, 3, 5, 8,\n",
      "        0, 7, 8, 8, 7, 6, 4, 9])\n",
      "tensor([8, 9, 4, 7, 6, 1, 2, 4, 1, 4, 7, 1, 6, 6, 1, 0, 3, 0, 3, 9, 9, 7, 5, 7,\n",
      "        2, 2, 1, 2, 0, 4, 9, 8, 1, 1, 0, 7, 7, 6, 3, 1, 8, 9, 9, 7, 0, 2, 1, 6,\n",
      "        6, 8, 9, 2, 6, 1, 9, 2, 7, 0, 1, 7, 9, 1, 0, 4, 3, 3, 8, 6, 4, 4, 5, 6,\n",
      "        2, 3, 4, 2, 9, 6, 1, 1, 3, 4, 7, 7, 9, 8, 9, 7, 8, 4, 0, 1, 7, 1, 0, 3,\n",
      "        4, 2, 8, 7, 5, 9, 7, 8, 7, 3, 9, 2, 0, 2, 9, 9, 2, 6, 9, 7, 1, 1, 9, 7,\n",
      "        4, 6, 1, 3, 9, 3, 4, 6])\n",
      "tensor([8, 9, 4, 7, 6, 1, 2, 4, 1, 4, 7, 1, 6, 6, 1, 0, 3, 0, 3, 9, 9, 7, 5, 7,\n",
      "        2, 2, 1, 2, 0, 4, 9, 8, 1, 1, 0, 7, 7, 6, 3, 1, 8, 9, 9, 7, 2, 2, 1, 6,\n",
      "        6, 8, 9, 2, 6, 1, 9, 2, 7, 0, 1, 7, 9, 1, 0, 4, 3, 5, 8, 6, 4, 4, 5, 6,\n",
      "        2, 3, 4, 2, 9, 6, 1, 1, 3, 4, 7, 7, 9, 8, 9, 7, 8, 4, 0, 1, 7, 1, 0, 3,\n",
      "        9, 2, 8, 7, 5, 9, 7, 8, 7, 3, 9, 2, 0, 2, 9, 9, 2, 6, 9, 7, 1, 1, 9, 7,\n",
      "        4, 6, 1, 3, 9, 3, 4, 6])\n",
      "tensor([3, 4, 5, 7, 9, 3, 9, 9, 9, 2, 6, 5, 5, 9, 3, 4, 1, 6, 8, 5, 6, 6, 9, 7,\n",
      "        1, 1, 2, 9, 1, 9, 6, 4, 9, 9, 6, 8, 0, 6, 6, 4, 4, 6, 3, 9, 1, 4, 9, 0,\n",
      "        4, 9, 4, 0, 7, 1, 5, 6, 9, 4, 6, 3, 4, 7, 9, 8, 2, 8, 6, 5, 3, 5, 7, 2,\n",
      "        6, 6, 3, 3, 5, 4, 3, 6, 1, 8, 8, 4, 3, 7, 4, 0, 4, 6, 4, 5, 1, 6, 5, 9,\n",
      "        2, 8, 1, 7, 8, 7, 0, 4, 7, 6, 1, 3, 5, 3, 0, 3, 5, 6, 1, 6, 8, 9, 0, 6,\n",
      "        0, 8, 1, 1, 4, 8, 2, 1])\n",
      "tensor([3, 4, 5, 7, 9, 3, 9, 9, 9, 2, 6, 5, 5, 9, 3, 4, 1, 6, 8, 5, 6, 6, 9, 7,\n",
      "        1, 1, 2, 9, 1, 9, 6, 4, 9, 9, 6, 8, 0, 6, 6, 4, 4, 6, 3, 9, 1, 4, 9, 0,\n",
      "        4, 9, 4, 0, 7, 1, 5, 6, 9, 4, 6, 3, 4, 7, 9, 8, 2, 8, 6, 5, 3, 5, 7, 2,\n",
      "        6, 6, 3, 3, 5, 4, 3, 6, 1, 8, 8, 4, 3, 7, 4, 0, 4, 6, 4, 5, 1, 6, 5, 9,\n",
      "        2, 8, 1, 7, 8, 7, 0, 4, 7, 6, 6, 3, 5, 3, 0, 3, 5, 6, 1, 6, 8, 9, 0, 6,\n",
      "        0, 8, 1, 1, 4, 8, 2, 1])\n",
      "tensor([9, 1, 3, 1, 3, 1, 0, 2, 8, 0, 2, 8, 9, 6, 0, 5, 0, 8, 4, 6, 3, 8, 2, 7,\n",
      "        2, 5, 9, 6, 6, 0, 5, 3, 2, 3, 8, 7, 1, 8, 6, 5, 3, 3, 1, 3, 2, 3, 1, 7,\n",
      "        3, 7, 1, 1, 2, 2, 6, 0, 8, 2, 3, 6, 1, 0, 6, 8, 0, 5, 4, 3, 1, 6, 4, 2,\n",
      "        3, 8, 6, 0, 1, 2, 9, 4, 6, 7, 1, 6, 9, 4, 2, 0, 6, 4, 7, 3, 1, 6, 7, 3,\n",
      "        2, 7, 3, 2, 0, 8, 1, 1, 3, 8, 1, 0, 9, 3, 1, 0, 9, 6, 4, 2, 3, 6, 7, 3,\n",
      "        8, 8, 6, 9, 4, 3, 2, 2])\n",
      "tensor([9, 1, 3, 1, 3, 1, 0, 2, 8, 0, 2, 8, 9, 6, 0, 5, 0, 8, 4, 6, 3, 8, 2, 7,\n",
      "        2, 5, 9, 6, 6, 0, 5, 3, 2, 3, 8, 7, 1, 8, 6, 5, 3, 3, 1, 3, 2, 3, 1, 7,\n",
      "        3, 7, 1, 1, 2, 2, 6, 0, 8, 2, 3, 6, 1, 0, 6, 8, 0, 5, 4, 3, 1, 6, 4, 2,\n",
      "        3, 8, 6, 0, 1, 2, 9, 4, 6, 7, 1, 6, 9, 4, 2, 0, 6, 4, 7, 3, 1, 6, 7, 3,\n",
      "        2, 2, 3, 2, 0, 7, 1, 1, 3, 8, 1, 0, 9, 3, 1, 0, 9, 6, 4, 2, 3, 6, 7, 3,\n",
      "        8, 8, 6, 9, 4, 3, 2, 2])\n",
      "tensor([9, 8, 4, 3, 0, 4, 7, 2, 2, 1, 0, 5, 9, 6, 8, 7, 1, 2, 5, 4, 1, 8, 4, 5,\n",
      "        8, 0, 0, 5, 5, 4, 4, 0, 4, 7, 7, 9, 1, 7, 0, 5, 9, 6, 4, 6, 3, 4, 3, 0,\n",
      "        9, 1, 9, 4, 8, 7, 5, 5, 3, 7, 6, 5, 1, 5, 1, 6, 0, 0, 5, 0, 1, 5, 4, 9,\n",
      "        9, 1, 2, 2, 3, 7, 7, 3, 7, 7, 8, 7, 4, 5, 0, 1, 5, 6, 1, 8, 2, 8, 9, 6,\n",
      "        7, 1, 4, 5, 4, 8, 1, 6, 3, 9, 3, 4, 8, 7, 6, 7, 8, 8, 5, 6, 6, 7, 6, 8,\n",
      "        7, 6, 5, 3, 3, 6, 6, 7])\n",
      "tensor([9, 8, 4, 3, 0, 4, 7, 2, 7, 1, 0, 5, 9, 6, 8, 7, 1, 2, 5, 4, 1, 8, 4, 5,\n",
      "        8, 0, 0, 5, 5, 4, 4, 0, 4, 7, 7, 9, 1, 7, 0, 5, 9, 6, 4, 6, 3, 4, 3, 0,\n",
      "        9, 1, 9, 4, 8, 7, 5, 5, 3, 7, 6, 5, 1, 5, 1, 6, 0, 0, 5, 0, 0, 5, 4, 9,\n",
      "        9, 1, 2, 2, 3, 7, 7, 3, 7, 7, 8, 7, 4, 5, 0, 1, 5, 6, 1, 8, 2, 8, 9, 6,\n",
      "        7, 1, 4, 5, 4, 8, 1, 6, 3, 9, 3, 4, 8, 7, 6, 7, 8, 8, 5, 6, 6, 7, 6, 8,\n",
      "        7, 6, 5, 3, 3, 6, 6, 7])\n",
      "tensor([8, 6, 9, 5, 2, 3, 6, 7, 7, 0, 3, 1, 8, 0, 9, 1, 6, 3, 4, 6, 4, 4, 1, 4,\n",
      "        1, 4, 8, 6, 8, 8, 8, 0, 4, 8, 7, 2, 5, 1, 8, 1, 1, 3, 3, 6, 8, 2, 6, 5,\n",
      "        5, 0, 3, 4, 2, 1, 8, 7, 8, 8, 8, 1, 6, 3, 0, 4, 3, 2, 8, 9, 7, 6, 7, 2,\n",
      "        3, 8, 0, 4, 6, 3, 6, 7, 9, 7, 6, 1, 7, 0, 0, 3, 4, 7, 5, 8, 5, 0, 2, 2,\n",
      "        2, 7, 4, 4, 7, 4, 8, 3, 4, 9, 5, 5, 7, 4, 9, 9, 0, 6, 6, 8, 5, 3, 3, 4,\n",
      "        8, 7, 7, 2, 8, 9, 9, 7])\n",
      "tensor([8, 6, 9, 5, 2, 3, 6, 7, 7, 0, 3, 1, 8, 0, 9, 1, 6, 3, 4, 6, 4, 4, 1, 4,\n",
      "        1, 4, 8, 6, 8, 8, 8, 0, 4, 8, 7, 2, 5, 1, 8, 1, 1, 3, 3, 6, 8, 2, 6, 5,\n",
      "        5, 0, 3, 4, 2, 1, 8, 7, 8, 8, 8, 1, 6, 3, 0, 4, 3, 2, 2, 9, 7, 6, 7, 2,\n",
      "        3, 8, 0, 4, 6, 3, 6, 7, 9, 7, 6, 1, 7, 0, 0, 3, 4, 7, 5, 8, 5, 0, 2, 2,\n",
      "        2, 7, 4, 4, 7, 4, 8, 3, 4, 9, 5, 5, 7, 9, 9, 9, 0, 6, 6, 8, 5, 3, 3, 4,\n",
      "        8, 7, 7, 2, 8, 9, 9, 7])\n",
      "tensor([6, 2, 6, 7, 1, 3, 2, 5, 2, 8, 2, 8, 9, 8, 2, 2, 5, 0, 4, 4, 4, 1, 5, 6,\n",
      "        0, 5, 7, 3, 5, 9, 9, 6, 7, 1, 1, 9, 0, 0, 4, 4, 8, 4, 3, 7, 3, 0, 9, 0,\n",
      "        9, 6, 0, 2, 1, 3, 6, 4, 7, 5, 1, 6, 2, 1, 4, 0, 4, 2, 0, 1, 3, 9, 2, 1,\n",
      "        4, 7, 8, 5, 3, 3, 8, 4, 4, 9, 8, 1, 6, 6, 0, 9, 0, 4, 5, 3, 7, 7, 1, 7,\n",
      "        0, 2, 2, 8, 8, 8, 2, 4, 8, 2, 5, 2, 1, 5, 0, 1, 2, 5, 1, 2, 4, 6, 9, 3,\n",
      "        4, 4, 6, 4, 7, 2, 1, 9])\n",
      "tensor([6, 2, 6, 7, 1, 3, 2, 5, 2, 8, 2, 1, 9, 8, 2, 2, 5, 0, 4, 4, 4, 1, 5, 6,\n",
      "        0, 5, 7, 3, 5, 9, 9, 6, 7, 1, 1, 9, 0, 0, 4, 4, 8, 4, 3, 7, 3, 0, 9, 0,\n",
      "        9, 6, 0, 2, 1, 1, 6, 4, 7, 5, 1, 6, 2, 1, 4, 0, 4, 2, 0, 1, 5, 9, 2, 1,\n",
      "        4, 7, 8, 5, 3, 3, 8, 4, 4, 9, 8, 1, 6, 6, 0, 9, 0, 4, 5, 3, 7, 7, 1, 7,\n",
      "        0, 2, 2, 8, 8, 8, 2, 4, 8, 2, 8, 2, 1, 5, 0, 1, 2, 5, 1, 2, 4, 6, 9, 3,\n",
      "        4, 4, 6, 4, 7, 2, 1, 9])\n",
      "tensor([2, 0, 6, 6, 0, 8, 0, 8, 3, 3, 2, 2, 7, 6, 8, 2, 9, 9, 9, 8, 7, 6, 4, 1,\n",
      "        2, 6, 4, 4, 2, 2, 3, 5, 2, 3, 2, 9, 4, 1, 0, 3, 8, 5, 1, 4, 4, 7, 5, 4,\n",
      "        0, 2, 9, 1, 4, 8, 7, 1, 4, 1, 1, 3, 8, 3, 4, 4, 3, 4, 9, 2, 1, 6, 2, 7,\n",
      "        5, 3, 0, 5, 5, 5, 5, 7, 7, 5, 4, 4, 4, 7, 6, 9, 4, 7, 2, 1, 5, 3, 7, 7,\n",
      "        2, 2, 8, 8, 9, 2, 7, 7, 3, 8, 5, 7, 0, 7, 9, 5, 4, 4, 7, 4, 8, 1, 9, 5,\n",
      "        7, 4, 9, 9, 1, 3, 3, 6])\n",
      "tensor([2, 0, 6, 6, 0, 8, 0, 8, 3, 3, 2, 2, 7, 6, 8, 2, 9, 9, 9, 8, 7, 6, 4, 1,\n",
      "        2, 6, 4, 4, 2, 2, 3, 5, 2, 3, 2, 9, 4, 1, 0, 3, 8, 5, 9, 4, 4, 7, 5, 4,\n",
      "        0, 2, 9, 1, 4, 8, 7, 1, 4, 1, 1, 3, 8, 3, 4, 4, 3, 4, 9, 2, 1, 6, 2, 7,\n",
      "        5, 3, 0, 5, 5, 5, 5, 7, 7, 5, 4, 4, 4, 7, 6, 9, 5, 7, 2, 1, 5, 3, 7, 7,\n",
      "        2, 2, 8, 8, 9, 2, 7, 7, 3, 8, 5, 7, 0, 7, 9, 5, 4, 4, 7, 4, 8, 1, 9, 5,\n",
      "        7, 4, 9, 9, 1, 3, 3, 6])\n",
      "tensor([7, 4, 0, 8, 1, 6, 1, 8, 1, 9, 6, 6, 2, 4, 5, 0, 4, 0, 1, 1, 8, 3, 2, 1,\n",
      "        7, 9, 7, 7, 4, 1, 5, 0, 8, 5, 2, 2, 0, 4, 7, 9, 4, 4, 3, 5, 8, 5, 4, 6,\n",
      "        5, 0, 3, 3, 8, 0, 2, 7, 0, 8, 0, 6, 7, 7, 5, 9, 3, 6, 8, 7, 1, 0, 1, 4,\n",
      "        3, 2, 3, 3, 9, 9, 3, 8, 8, 0, 8, 5, 2, 7, 7, 2, 3, 1, 7, 0, 6, 1, 3, 0,\n",
      "        0, 4, 2, 2, 8, 8, 2, 4, 4, 1, 0, 1, 0, 7, 7, 9, 3, 7, 2, 2, 3, 2, 3, 3,\n",
      "        1, 1, 2, 9, 3, 1, 7, 0])\n"
     ]
    },
    {
     "name": "stdout",
     "output_type": "stream",
     "text": [
      "tensor([7, 4, 0, 8, 1, 6, 1, 8, 1, 9, 6, 6, 2, 4, 5, 0, 4, 0, 1, 1, 8, 3, 2, 1,\n",
      "        7, 9, 7, 7, 4, 1, 5, 0, 8, 5, 2, 2, 0, 4, 7, 9, 4, 4, 3, 5, 8, 5, 4, 6,\n",
      "        5, 0, 3, 3, 8, 0, 1, 7, 0, 8, 0, 6, 7, 7, 5, 9, 3, 6, 8, 2, 1, 0, 1, 4,\n",
      "        3, 2, 3, 3, 9, 9, 3, 8, 8, 0, 8, 5, 2, 7, 7, 2, 3, 1, 7, 0, 6, 1, 3, 0,\n",
      "        0, 4, 2, 2, 8, 8, 2, 4, 4, 1, 0, 1, 0, 7, 7, 9, 3, 7, 2, 2, 3, 2, 5, 3,\n",
      "        1, 1, 2, 9, 3, 1, 7, 0])\n",
      "tensor([7, 6, 3, 9, 0, 8, 5, 0, 6, 7, 9, 7, 3, 2, 6, 0, 7, 4, 9, 2, 0, 8, 1, 0,\n",
      "        2, 0, 4, 3, 9, 0, 6, 3, 2, 3, 6, 7, 3, 2, 8, 1, 2, 4, 3, 8, 6, 0, 4, 6,\n",
      "        5, 4, 9, 3, 1, 9, 4, 7, 8, 5, 4, 7, 1, 3, 2, 5, 4, 2, 3, 2, 2, 2, 6, 4,\n",
      "        6, 8, 9, 9, 1, 4, 2, 7, 0, 6, 1, 9, 8, 6, 3, 6, 6, 4, 7, 4, 2, 6, 8, 8,\n",
      "        4, 8, 3, 1, 2, 4, 2, 4, 8, 6, 7, 4, 6, 6, 9, 0, 7, 2, 0, 1, 7, 5, 7, 5,\n",
      "        3, 1, 7, 9, 3, 6, 5, 6])\n",
      "tensor([7, 6, 3, 9, 0, 8, 5, 0, 6, 7, 9, 7, 3, 2, 6, 0, 7, 4, 9, 2, 0, 8, 1, 0,\n",
      "        2, 0, 4, 4, 9, 0, 1, 3, 2, 5, 6, 7, 3, 2, 8, 1, 2, 4, 3, 8, 6, 0, 4, 6,\n",
      "        5, 4, 9, 3, 1, 9, 9, 7, 8, 5, 4, 7, 1, 3, 2, 5, 4, 8, 3, 2, 2, 2, 6, 4,\n",
      "        6, 8, 9, 9, 1, 4, 2, 7, 0, 6, 1, 9, 8, 6, 3, 6, 6, 4, 7, 4, 2, 6, 8, 8,\n",
      "        4, 8, 3, 1, 2, 4, 2, 4, 8, 6, 7, 4, 6, 6, 9, 0, 7, 2, 8, 1, 7, 5, 7, 5,\n",
      "        3, 1, 7, 9, 3, 6, 5, 6])\n",
      "tensor([3, 9, 5, 2, 6, 7, 4, 3, 6, 3, 2, 1, 6, 1, 7, 7, 0, 8, 1, 5, 2, 5, 7, 3,\n",
      "        8, 3, 0, 6, 7, 6, 4, 4, 7, 5, 5, 5, 5, 9, 2, 5, 3, 6, 5, 8, 1, 9, 5, 3,\n",
      "        9, 0, 8, 6, 4, 9, 4, 3, 1, 7, 1, 6, 7, 2, 5, 4, 9, 9, 2, 1, 9, 7, 1, 4,\n",
      "        9, 3, 2, 4, 1, 2, 6, 2, 5, 9, 4, 9, 8, 2, 6, 7, 3, 9, 3, 7, 1, 1, 6, 5,\n",
      "        3, 1, 3, 0, 8, 8, 9, 1, 3, 2, 4, 3, 0, 2, 7, 3, 3, 9, 9, 1, 4, 9, 8, 9,\n",
      "        7, 8, 3, 0, 2, 1, 2, 3])\n",
      "tensor([3, 9, 5, 2, 6, 7, 4, 3, 6, 3, 2, 1, 6, 1, 7, 7, 0, 2, 1, 5, 2, 5, 7, 3,\n",
      "        8, 3, 0, 6, 7, 6, 4, 9, 7, 5, 5, 5, 5, 8, 2, 5, 3, 6, 5, 8, 1, 9, 5, 3,\n",
      "        9, 0, 2, 6, 4, 9, 4, 3, 1, 7, 1, 6, 7, 2, 5, 4, 9, 9, 2, 1, 9, 7, 1, 4,\n",
      "        9, 3, 2, 4, 1, 2, 6, 2, 5, 9, 4, 9, 8, 2, 6, 7, 3, 9, 3, 7, 1, 1, 6, 5,\n",
      "        3, 1, 3, 0, 8, 8, 9, 1, 3, 2, 4, 8, 0, 2, 7, 3, 3, 9, 9, 1, 4, 9, 8, 9,\n",
      "        7, 8, 3, 0, 2, 1, 2, 3])\n",
      "tensor([6, 0, 0, 9, 0, 3, 0, 9, 9, 7, 5, 0, 5, 8, 9, 3, 4, 5, 2, 1, 1, 8, 4, 0,\n",
      "        3, 6, 0, 2, 1, 9, 4, 8, 3, 0, 3, 5, 3, 9, 4, 6, 0, 9, 8, 0, 6, 7, 5, 5,\n",
      "        6, 4, 8, 2, 0, 2, 9, 3, 2, 7, 5, 1, 0, 4, 0, 2, 2, 9, 5, 0, 0, 8, 9, 1,\n",
      "        7, 6, 7, 2, 4, 5, 1, 8, 9, 1, 2, 5, 3, 9, 5, 8, 9, 3, 4, 4, 6, 3, 9, 4,\n",
      "        2, 7, 6, 8, 1, 6, 2, 6, 0, 8, 2, 2, 7, 1, 2, 5, 4, 3, 5, 3, 8, 4, 1, 7,\n",
      "        3, 4, 7, 2, 8, 8, 6, 3])\n",
      "tensor([6, 0, 0, 9, 0, 3, 0, 9, 9, 7, 5, 0, 5, 8, 9, 3, 4, 5, 2, 1, 1, 8, 4, 0,\n",
      "        3, 6, 0, 2, 1, 9, 4, 8, 2, 0, 3, 5, 3, 9, 4, 6, 0, 9, 8, 0, 6, 7, 5, 5,\n",
      "        6, 4, 8, 2, 0, 2, 9, 3, 2, 7, 5, 1, 0, 9, 0, 2, 2, 9, 5, 0, 0, 8, 9, 1,\n",
      "        7, 6, 7, 2, 4, 5, 1, 8, 9, 1, 2, 5, 3, 9, 5, 8, 4, 3, 4, 4, 6, 3, 9, 4,\n",
      "        2, 7, 6, 8, 1, 6, 2, 6, 0, 8, 2, 2, 7, 1, 2, 5, 4, 3, 5, 3, 8, 4, 1, 7,\n",
      "        3, 4, 7, 2, 8, 8, 6, 3])\n",
      "tensor([9, 4, 1, 4, 4, 9, 2, 7, 0, 4, 6, 1, 2, 7, 1, 2, 5, 5, 6, 6, 7, 1, 6, 3,\n",
      "        3, 9, 6, 1, 7, 5, 3, 4, 3, 4, 4, 7, 2, 1, 2, 1, 0, 9, 0, 8, 0, 8, 6, 8,\n",
      "        9, 8, 6, 3, 0, 1, 1, 3, 3, 0, 4, 2, 5, 4, 3, 4, 8, 8, 2, 9, 1, 7, 0, 2,\n",
      "        2, 1, 2, 8, 7, 3, 6, 0, 5, 6, 2, 9, 2, 3, 0, 3, 5, 7, 1, 6, 1, 7, 2, 5,\n",
      "        5, 3, 5, 6, 5, 2, 8, 7, 6, 4, 0, 7, 7, 5, 6, 2, 1, 5, 0, 9, 8, 0, 7, 4,\n",
      "        4, 6, 3, 9, 6, 6, 9, 0])\n",
      "tensor([9, 4, 1, 4, 4, 9, 2, 7, 0, 4, 6, 1, 2, 7, 1, 2, 5, 5, 6, 6, 7, 1, 6, 3,\n",
      "        3, 9, 6, 1, 7, 5, 3, 4, 3, 4, 4, 7, 2, 1, 2, 1, 0, 9, 0, 8, 0, 8, 6, 3,\n",
      "        9, 8, 6, 3, 0, 1, 1, 3, 3, 0, 4, 2, 5, 4, 3, 4, 8, 8, 2, 9, 1, 7, 0, 2,\n",
      "        2, 1, 2, 8, 7, 3, 6, 0, 5, 6, 2, 9, 2, 3, 0, 3, 5, 7, 1, 6, 1, 7, 2, 5,\n",
      "        5, 3, 5, 6, 5, 2, 8, 7, 6, 4, 0, 7, 7, 5, 6, 2, 1, 5, 0, 9, 8, 0, 7, 4,\n",
      "        4, 6, 3, 9, 6, 6, 9, 0])\n",
      "tensor([9, 9, 8, 1, 7, 1, 3, 9, 9, 3, 6, 9, 8, 3, 2, 9, 3, 0, 4, 2, 2, 7, 5, 6,\n",
      "        6, 3, 3, 3, 2, 8, 1, 5, 1, 0, 4, 9, 0, 1, 5, 5, 5, 3, 3, 0, 3, 9, 3, 2,\n",
      "        9, 4, 8, 0, 7, 1, 4, 4, 3, 3, 2, 7, 3, 5, 4, 4, 9, 3, 7, 4, 7, 5, 4, 5,\n",
      "        1, 2, 6, 5, 1, 1, 2, 6, 1, 9, 4, 2, 1, 2, 8, 7, 6, 5, 0, 3, 2, 3, 4, 7,\n",
      "        3, 1, 9, 3, 1, 1, 9, 4, 2, 9, 7, 3, 8, 6, 5, 3, 1, 6, 1, 9, 4, 6, 2, 4,\n",
      "        3, 3, 3, 8, 1, 7, 9, 8])\n",
      "tensor([9, 9, 8, 1, 7, 1, 3, 9, 9, 3, 6, 9, 8, 3, 2, 9, 3, 0, 4, 2, 2, 7, 5, 6,\n",
      "        6, 3, 3, 3, 2, 8, 1, 5, 1, 0, 4, 9, 0, 1, 5, 5, 5, 3, 3, 0, 3, 9, 3, 2,\n",
      "        9, 4, 8, 0, 7, 1, 4, 4, 3, 3, 2, 7, 3, 5, 4, 4, 9, 3, 7, 4, 7, 5, 4, 5,\n",
      "        1, 2, 6, 5, 1, 1, 2, 6, 1, 9, 4, 2, 1, 2, 8, 7, 6, 5, 0, 3, 2, 3, 4, 7,\n",
      "        3, 1, 9, 3, 1, 1, 9, 4, 2, 9, 7, 3, 2, 6, 5, 3, 1, 6, 1, 9, 4, 6, 2, 4,\n",
      "        3, 3, 3, 8, 1, 7, 9, 8])\n",
      "tensor([7, 1, 1, 5, 8, 3, 7, 7, 4, 1, 0, 9, 3, 0, 6, 4, 2, 6, 0, 7, 2, 7, 4, 4,\n",
      "        2, 8, 9, 8, 5, 1, 3, 5, 7, 6, 6, 0, 1, 3, 9, 0, 1, 6, 3, 7, 8, 0, 6, 7,\n",
      "        2, 5, 5, 6, 5, 8, 0, 3, 3, 0, 5, 9, 4, 8, 4, 9, 1, 0, 8, 4, 8, 6, 8, 8,\n",
      "        0, 1, 6, 0, 8, 0, 4, 6, 5, 2, 1, 0, 1, 4, 4, 3, 2, 3, 9, 4, 8, 6, 2, 7,\n",
      "        8, 3, 1, 3, 5, 4, 3, 0, 2, 2, 7, 6, 4, 3, 2, 6, 0, 7, 3, 8, 2, 8, 1, 9,\n",
      "        1, 9, 6, 0, 0, 8, 4, 4])\n",
      "tensor([7, 1, 1, 5, 8, 3, 7, 7, 4, 1, 0, 9, 3, 0, 6, 4, 2, 6, 0, 7, 2, 7, 4, 4,\n",
      "        2, 8, 9, 8, 5, 1, 3, 5, 7, 6, 6, 0, 1, 3, 9, 0, 6, 6, 3, 7, 8, 0, 6, 7,\n",
      "        2, 5, 5, 6, 5, 8, 0, 3, 3, 0, 5, 9, 4, 8, 4, 9, 1, 0, 8, 4, 8, 6, 8, 8,\n",
      "        0, 1, 6, 0, 8, 0, 4, 6, 5, 2, 1, 0, 1, 4, 4, 3, 2, 3, 9, 4, 8, 6, 2, 7,\n",
      "        8, 3, 1, 3, 5, 4, 3, 0, 2, 2, 7, 6, 4, 3, 2, 6, 0, 7, 3, 8, 2, 8, 1, 9,\n",
      "        1, 9, 6, 0, 0, 8, 4, 4])\n",
      "tensor([2, 4, 9, 5, 2, 6, 9, 1, 1, 1, 2, 4, 7, 9, 2, 0, 1, 7, 6, 3, 0, 2, 7, 7,\n",
      "        6, 1, 1, 7, 2, 1, 8, 1, 2, 5, 8, 4, 7, 3, 8, 3, 1, 2, 3, 4, 1, 8, 2, 8,\n",
      "        0, 2, 0, 1, 0, 1, 6, 8, 0, 8, 2, 8, 5, 1, 6, 4, 6, 7, 8, 7, 1, 0, 8, 6,\n",
      "        2, 7, 1, 6, 6, 7, 6, 5, 6, 5, 8, 4, 9, 8, 6, 9, 3, 3, 3, 9, 8, 4, 2, 3,\n",
      "        4, 0, 6, 7, 8, 9, 5, 5, 8, 2, 2, 5, 7, 8, 0, 7, 8, 9, 9, 9, 3, 1, 7, 2,\n",
      "        2, 5, 3, 7, 7, 9, 1, 2])\n",
      "tensor([2, 4, 9, 5, 2, 6, 9, 1, 1, 1, 2, 4, 7, 9, 2, 0, 1, 7, 6, 3, 0, 2, 7, 7,\n",
      "        6, 1, 1, 7, 2, 1, 8, 1, 2, 5, 8, 4, 7, 3, 8, 3, 1, 2, 3, 4, 1, 8, 2, 8,\n",
      "        0, 2, 0, 1, 0, 1, 6, 8, 0, 8, 2, 8, 5, 1, 6, 4, 6, 7, 8, 7, 1, 0, 8, 6,\n",
      "        2, 7, 1, 6, 6, 7, 6, 5, 6, 5, 8, 4, 9, 8, 6, 9, 3, 3, 3, 9, 8, 4, 2, 3,\n",
      "        4, 0, 6, 7, 8, 9, 5, 5, 8, 2, 2, 5, 7, 8, 0, 7, 8, 7, 9, 9, 3, 1, 7, 2,\n",
      "        2, 5, 3, 7, 7, 9, 1, 2])\n",
      "tensor([7, 3, 6, 8, 8, 1, 5, 9, 3, 9, 1, 5, 0, 7, 9, 0, 1, 6, 0, 9, 7, 5, 0, 7,\n",
      "        1, 7, 7, 2, 9, 6, 8, 6, 6, 3, 3, 6, 7, 5, 8, 3, 2, 2, 4, 7, 9, 0, 0, 8,\n",
      "        7, 2, 8, 3, 4, 1, 4, 4, 9, 9, 0, 9, 8, 9, 1, 0, 2, 6, 0, 3, 9, 7, 9, 6,\n",
      "        6, 6, 8, 5, 1, 5, 2, 3, 6, 7, 8, 3, 7, 7, 0, 8, 8, 4, 1, 6, 5, 6, 5, 3,\n",
      "        6, 9, 7, 4, 3, 0, 2, 9, 7, 7, 2, 8, 5, 7, 8, 0, 8, 7, 0, 5, 2, 8, 0, 4,\n",
      "        8, 6, 3, 2, 2, 2, 5, 7])\n",
      "tensor([7, 3, 6, 8, 8, 1, 5, 9, 3, 9, 1, 5, 0, 7, 9, 0, 1, 6, 0, 9, 7, 5, 0, 7,\n",
      "        1, 7, 7, 2, 9, 6, 8, 6, 6, 3, 3, 6, 7, 5, 8, 3, 2, 2, 4, 7, 9, 0, 0, 0,\n",
      "        7, 2, 8, 3, 4, 1, 4, 4, 0, 9, 0, 9, 8, 9, 1, 0, 4, 6, 0, 3, 9, 7, 9, 6,\n",
      "        6, 6, 8, 5, 1, 5, 2, 3, 6, 7, 8, 3, 7, 7, 0, 8, 8, 4, 1, 6, 5, 6, 5, 3,\n",
      "        6, 9, 7, 4, 3, 0, 2, 9, 7, 7, 3, 8, 5, 7, 8, 0, 8, 0, 0, 5, 2, 8, 0, 4,\n",
      "        8, 6, 3, 2, 2, 2, 5, 7])\n",
      "tensor([5, 0, 6, 2, 3, 4, 7, 2, 7, 9, 7, 5, 0, 3, 0, 6])\n",
      "tensor([5, 0, 6, 2, 3, 4, 7, 2, 7, 9, 7, 5, 0, 3, 0, 6])\n",
      "Test Accuracy: 98.03 %\n"
     ]
    }
   ],
   "source": [
    "model.eval()\n",
    "correct = 0\n",
    "total = 0\n",
    "for data in testloader:\n",
    "    # get the inputs\n",
    "    inputs, labels = data\n",
    "    outputs = model(inputs)\n",
    "    pred = outputs.argmax(1)\n",
    "    test_correct = ((pred == labels.squeeze(-1)).sum()).int()\n",
    "#     print(inputs)\n",
    "#     print(outputs)\n",
    "    print(pred)\n",
    "    print(labels)\n",
    "#     print(test_correct)\n",
    "#     print(labels.size()[0])\n",
    "    correct += test_correct\n",
    "    total += labels.size()[0]\n",
    "#     print((100.0 * correct) / total)\n",
    "\n",
    "# Compute the model accuracy on the test set\n",
    "\n",
    "\n",
    "\n",
    "# YOUR CODE HERE\n",
    "# raise NotImplementedError()\n",
    "\n",
    "print('Test Accuracy: %2.2f %%' % ((100.0 * correct) / total))"
   ]
  },
  {
   "cell_type": "markdown",
   "id": "72593b19",
   "metadata": {},
   "source": [
    "__In multi-class classification tasks it is often instructive to explore the accuracy of each class. Use the code block below to complete the function that produces the per-class accuracy:__"
   ]
  },
  {
   "cell_type": "code",
   "execution_count": 72,
   "id": "6a9bc1e7",
   "metadata": {},
   "outputs": [
    {
     "name": "stdout",
     "output_type": "stream",
     "text": [
      "Class 0 accuracy: 99.18 %\n",
      "Class 1 accuracy: 99.38 %\n",
      "Class 2 accuracy: 97.97 %\n",
      "Class 3 accuracy: 97.52 %\n",
      "Class 4 accuracy: 98.27 %\n",
      "Class 5 accuracy: 97.87 %\n",
      "Class 6 accuracy: 98.96 %\n",
      "Class 7 accuracy: 96.79 %\n",
      "Class 8 accuracy: 96.10 %\n",
      "Class 9 accuracy: 98.41 %\n"
     ]
    }
   ],
   "source": [
    "# Compute the model accuracy on the test set\n",
    "class_correct = torch.zeros(10)\n",
    "class_total = torch.zeros(10)\n",
    "\n",
    "for data in testloader:\n",
    "    # get the inputs\n",
    "    inputs, labels = data\n",
    "    outputs = model(inputs)\n",
    "    pred = outputs.argmax(1)\n",
    "    for i in range(labels.size()[0]):\n",
    "        a = pred[i]\n",
    "        b = labels[i]\n",
    "        for j in range(10):\n",
    "            if b==j:\n",
    "                class_total[j] += 1\n",
    "                if a==j:\n",
    "                    class_correct[j] += 1\n",
    "                else: \n",
    "                    continue\n",
    "            else:\n",
    "                continue\n",
    "#     for k in range(10):\n",
    "#         print('Class %d accuracy: %2.2f %%' % (k, 100.0*class_correct[k] / class_total[k]))\n",
    "\n",
    "# YOUR CODE HERE\n",
    "# raise NotImplementedError()\n",
    "\n",
    "for i in range(10):\n",
    "    print('Class %d accuracy: %2.2f %%' % (i, 100.0*class_correct[i] / class_total[i]))"
   ]
  },
  {
   "cell_type": "markdown",
   "id": "0311c780",
   "metadata": {},
   "source": [
    "# Part 3: Training and evaluating an MLP classifier with Torchbearer"
   ]
  },
  {
   "cell_type": "code",
   "execution_count": 73,
   "id": "e9187d6e",
   "metadata": {},
   "outputs": [],
   "source": [
    "# Execute this code block to install dependencies when running on colab\n",
    "try:\n",
    "    import torch\n",
    "except:\n",
    "    from os.path import exists\n",
    "    from wheel.pep425tags import get_abbr_impl, get_impl_ver, get_abi_tag\n",
    "    platform = '{}{}-{}'.format(get_abbr_impl(), get_impl_ver(), get_abi_tag())\n",
    "    cuda_output = !ldconfig -p|grep cudart.so|sed -e 's/.*\\.\\([0-9]*\\)\\.\\([0-9]*\\)$/cu\\1\\2/'\n",
    "    accelerator = cuda_output[0] if exists('/dev/nvidia0') else 'cpu'\n",
    "\n",
    "    !pip install -q http://download.pytorch.org/whl/{accelerator}/torch-1.0.0-{platform}-linux_x86_64.whl torchvision\n",
    "\n",
    "try: \n",
    "    import torchbearer\n",
    "except:\n",
    "    !pip install torchbearer"
   ]
  },
  {
   "cell_type": "markdown",
   "id": "f88e8b2d",
   "metadata": {},
   "source": [
    "## Introducing Torchbearer\n",
    "You've now got to a stage where you've successfully implemented, trained and evaluated a neural network in PyTorch. You will have noticed that whilst defining the model was done in very few lines of code, that you actually had to do quite a lot of work to train and evaluate the model. Whilst the ability to have complete control over training and evaluation is useful (you'll see examples in later labs, and for the coursework you might come across situations where this is an absolute necessity), it can become rather tedious if you just want to perform a standard training and evaluation run. \n",
    "\n",
    "The [Torchbearer](https://github.com/ecs-vlc/torchbearer) library, written and maintained by members of the VLC research group in ECS, can help. Torchbearer is a model training and evaluation library that is designed to massively reduce the amount of code you need to write whilst still allowing full control over the process. \n",
    "\n",
    "The following code just reproduces the baseline MLP model implementation and loads data as we did in part 2:"
   ]
  },
  {
   "cell_type": "code",
   "execution_count": 74,
   "id": "08e004e5",
   "metadata": {},
   "outputs": [],
   "source": [
    "import torch\n",
    "import torch.nn.functional as F\n",
    "import torchvision.transforms as transforms\n",
    "from torch import nn\n",
    "from torch import optim\n",
    "from torch.utils.data import DataLoader\n",
    "from torchvision.datasets import MNIST\n",
    "\n",
    "# fix random seed for reproducibility\n",
    "seed = 7\n",
    "torch.manual_seed(seed)\n",
    "torch.backends.cudnn.deterministic = True\n",
    "torch.backends.cudnn.benchmark = False\n",
    "import numpy as np\n",
    "np.random.seed(seed)\n",
    "\n",
    "# flatten 28*28 images to a 784 vector for each image\n",
    "transform = transforms.Compose([\n",
    "    transforms.ToTensor(),  # convert to tensor\n",
    "    transforms.Lambda(lambda x: x.view(-1))  # flatten into vector\n",
    "])\n",
    "\n",
    "# load data\n",
    "trainset = MNIST(\".\", train=True, download=True, transform=transform)\n",
    "testset = MNIST(\".\", train=False, download=True, transform=transform)\n",
    "\n",
    "# create data loaders\n",
    "trainloader = DataLoader(trainset, batch_size=128, shuffle=True)\n",
    "testloader = DataLoader(testset, batch_size=128, shuffle=True)\n",
    "\n",
    "# define baseline model\n",
    "class BaselineModel(nn.Module):\n",
    "    def __init__(self, input_size, hidden_size, num_classes):\n",
    "        super(BaselineModel, self).__init__()\n",
    "        self.fc1 = nn.Linear(input_size, hidden_size) \n",
    "        self.fc2 = nn.Linear(hidden_size, num_classes)  \n",
    "    \n",
    "    def forward(self, x):\n",
    "        out = self.fc1(x)\n",
    "        out = F.relu(out)\n",
    "        out = self.fc2(out)\n",
    "        if not self.training:\n",
    "            out = F.softmax(out, dim=1)\n",
    "        return out\n",
    "\n",
    "# build the model\n",
    "model = BaselineModel(784, 784, 10)"
   ]
  },
  {
   "cell_type": "markdown",
   "id": "bb859845",
   "metadata": {},
   "source": [
    "We can use the torchbearer `Trial` class to do all the hard work in training and evaluating for us:"
   ]
  },
  {
   "cell_type": "code",
   "execution_count": 75,
   "id": "9701eaf1",
   "metadata": {},
   "outputs": [
    {
     "data": {
      "application/vnd.jupyter.widget-view+json": {
       "model_id": "31863ac981164927b49d33c98c22c3d1",
       "version_major": 2,
       "version_minor": 0
      },
      "text/plain": [
       "0/10(t):   0%|          | 0/469 [00:00<?, ?it/s]"
      ]
     },
     "metadata": {},
     "output_type": "display_data"
    },
    {
     "data": {
      "application/vnd.jupyter.widget-view+json": {
       "model_id": "0e779b4cf9184ea6b04e8cc0f61561d3",
       "version_major": 2,
       "version_minor": 0
      },
      "text/plain": [
       "1/10(t):   0%|          | 0/469 [00:00<?, ?it/s]"
      ]
     },
     "metadata": {},
     "output_type": "display_data"
    },
    {
     "data": {
      "application/vnd.jupyter.widget-view+json": {
       "model_id": "1d151dd904d7426c97a00361a3e69d6d",
       "version_major": 2,
       "version_minor": 0
      },
      "text/plain": [
       "2/10(t):   0%|          | 0/469 [00:00<?, ?it/s]"
      ]
     },
     "metadata": {},
     "output_type": "display_data"
    },
    {
     "data": {
      "application/vnd.jupyter.widget-view+json": {
       "model_id": "cdefc571450c4b10adf69760815be493",
       "version_major": 2,
       "version_minor": 0
      },
      "text/plain": [
       "3/10(t):   0%|          | 0/469 [00:00<?, ?it/s]"
      ]
     },
     "metadata": {},
     "output_type": "display_data"
    },
    {
     "data": {
      "application/vnd.jupyter.widget-view+json": {
       "model_id": "3b720acb648a487f99a17a294dd23014",
       "version_major": 2,
       "version_minor": 0
      },
      "text/plain": [
       "4/10(t):   0%|          | 0/469 [00:00<?, ?it/s]"
      ]
     },
     "metadata": {},
     "output_type": "display_data"
    },
    {
     "data": {
      "application/vnd.jupyter.widget-view+json": {
       "model_id": "e909862abba3495ab560d4afe509c629",
       "version_major": 2,
       "version_minor": 0
      },
      "text/plain": [
       "5/10(t):   0%|          | 0/469 [00:00<?, ?it/s]"
      ]
     },
     "metadata": {},
     "output_type": "display_data"
    },
    {
     "data": {
      "application/vnd.jupyter.widget-view+json": {
       "model_id": "e4bccbb1da1246acaf53a0bfe3b747cc",
       "version_major": 2,
       "version_minor": 0
      },
      "text/plain": [
       "6/10(t):   0%|          | 0/469 [00:00<?, ?it/s]"
      ]
     },
     "metadata": {},
     "output_type": "display_data"
    },
    {
     "data": {
      "application/vnd.jupyter.widget-view+json": {
       "model_id": "b9864571a2344655a9535ae83338dd6b",
       "version_major": 2,
       "version_minor": 0
      },
      "text/plain": [
       "7/10(t):   0%|          | 0/469 [00:00<?, ?it/s]"
      ]
     },
     "metadata": {},
     "output_type": "display_data"
    },
    {
     "data": {
      "application/vnd.jupyter.widget-view+json": {
       "model_id": "78b11dccc6e24e638638eb2066882d7b",
       "version_major": 2,
       "version_minor": 0
      },
      "text/plain": [
       "8/10(t):   0%|          | 0/469 [00:00<?, ?it/s]"
      ]
     },
     "metadata": {},
     "output_type": "display_data"
    },
    {
     "data": {
      "application/vnd.jupyter.widget-view+json": {
       "model_id": "f45a1f54639d4a37b68b3a8796c84a4c",
       "version_major": 2,
       "version_minor": 0
      },
      "text/plain": [
       "9/10(t):   0%|          | 0/469 [00:00<?, ?it/s]"
      ]
     },
     "metadata": {},
     "output_type": "display_data"
    },
    {
     "data": {
      "application/vnd.jupyter.widget-view+json": {
       "model_id": "582c7594a1f449e9adc290a1a8e3ff59",
       "version_major": 2,
       "version_minor": 0
      },
      "text/plain": [
       "0/1(e):   0%|          | 0/79 [00:00<?, ?it/s]"
      ]
     },
     "metadata": {},
     "output_type": "display_data"
    },
    {
     "name": "stdout",
     "output_type": "stream",
     "text": [
      "{'test_loss': 1.4833106994628906, 'test_acc': 0.9803000092506409}\n"
     ]
    }
   ],
   "source": [
    "import torchbearer\n",
    "\n",
    "# define the loss function and the optimiser\n",
    "loss_function = nn.CrossEntropyLoss()\n",
    "optimiser = optim.Adam(model.parameters())\n",
    "\n",
    "# Construct a trial object with the model, optimiser and loss.\n",
    "# Also specify metrics we wish to compute.\n",
    "trial = torchbearer.Trial(model, optimiser, loss_function, metrics=['loss', 'accuracy'])\n",
    "\n",
    "# Provide the data to the trial\n",
    "trial.with_generators(trainloader, test_generator=testloader)\n",
    "\n",
    "# Run 10 epochs of training\n",
    "trial.run(epochs=10)\n",
    "\n",
    "# test the performance\n",
    "results = trial.evaluate(data_key=torchbearer.TEST_DATA)\n",
    "print(results)"
   ]
  },
  {
   "cell_type": "markdown",
   "id": "e75491e8",
   "metadata": {},
   "source": [
    "You can see that training and evaluating the model prints out much more informative information as the process runs - this is particularly useful for training big models as it enables you to keep an eye on progress. You should see the accuracy matches the one from the previous part of the lab.\n",
    "\n",
    "Take some time to have a look over the [Torchbearer documentation](https://torchbearer.readthedocs.io). Once you've had a look, __use the code block below to train the model (newly initialised) with a plain Stochastic Gradient Descent optimiser with a learning rate of 0.01 (keep all other SGD parameters at their default values). In addition to computing the loss and accuracy metrics, use Torchbearer to also compute the top-5 accuracy metric which was made popular by the ImageNet challenge.__"
   ]
  },
  {
   "cell_type": "code",
   "execution_count": 83,
   "id": "ca195ecd",
   "metadata": {},
   "outputs": [
    {
     "data": {
      "application/vnd.jupyter.widget-view+json": {
       "model_id": "040225769012482e88b2d203608da03e",
       "version_major": 2,
       "version_minor": 0
      },
      "text/plain": [
       "0/10(t):   0%|          | 0/469 [00:00<?, ?it/s]"
      ]
     },
     "metadata": {},
     "output_type": "display_data"
    },
    {
     "data": {
      "application/vnd.jupyter.widget-view+json": {
       "model_id": "1e498ee5e8434907b71d72ac25cbd2ab",
       "version_major": 2,
       "version_minor": 0
      },
      "text/plain": [
       "1/10(t):   0%|          | 0/469 [00:00<?, ?it/s]"
      ]
     },
     "metadata": {},
     "output_type": "display_data"
    },
    {
     "data": {
      "application/vnd.jupyter.widget-view+json": {
       "model_id": "ea0f8fc9f6754b6a85398eb4f09b2c9a",
       "version_major": 2,
       "version_minor": 0
      },
      "text/plain": [
       "2/10(t):   0%|          | 0/469 [00:00<?, ?it/s]"
      ]
     },
     "metadata": {},
     "output_type": "display_data"
    },
    {
     "data": {
      "application/vnd.jupyter.widget-view+json": {
       "model_id": "310f5b1c076842d0b448f2b8a041f144",
       "version_major": 2,
       "version_minor": 0
      },
      "text/plain": [
       "3/10(t):   0%|          | 0/469 [00:00<?, ?it/s]"
      ]
     },
     "metadata": {},
     "output_type": "display_data"
    },
    {
     "data": {
      "application/vnd.jupyter.widget-view+json": {
       "model_id": "1c46832b31c642348aef86f3786d03a2",
       "version_major": 2,
       "version_minor": 0
      },
      "text/plain": [
       "4/10(t):   0%|          | 0/469 [00:00<?, ?it/s]"
      ]
     },
     "metadata": {},
     "output_type": "display_data"
    },
    {
     "data": {
      "application/vnd.jupyter.widget-view+json": {
       "model_id": "49660e02434549d7be50a822ac193194",
       "version_major": 2,
       "version_minor": 0
      },
      "text/plain": [
       "5/10(t):   0%|          | 0/469 [00:00<?, ?it/s]"
      ]
     },
     "metadata": {},
     "output_type": "display_data"
    },
    {
     "data": {
      "application/vnd.jupyter.widget-view+json": {
       "model_id": "531a20222f794c2b934393fe24384f16",
       "version_major": 2,
       "version_minor": 0
      },
      "text/plain": [
       "6/10(t):   0%|          | 0/469 [00:00<?, ?it/s]"
      ]
     },
     "metadata": {},
     "output_type": "display_data"
    },
    {
     "data": {
      "application/vnd.jupyter.widget-view+json": {
       "model_id": "94a24483eb804d33b65e8ca4071e5eb8",
       "version_major": 2,
       "version_minor": 0
      },
      "text/plain": [
       "7/10(t):   0%|          | 0/469 [00:00<?, ?it/s]"
      ]
     },
     "metadata": {},
     "output_type": "display_data"
    },
    {
     "data": {
      "application/vnd.jupyter.widget-view+json": {
       "model_id": "81c9a21fa9694fbca1b1ac64dce23e4a",
       "version_major": 2,
       "version_minor": 0
      },
      "text/plain": [
       "8/10(t):   0%|          | 0/469 [00:00<?, ?it/s]"
      ]
     },
     "metadata": {},
     "output_type": "display_data"
    },
    {
     "data": {
      "application/vnd.jupyter.widget-view+json": {
       "model_id": "c2b37d763eda49ba9c29ed32ca2b985e",
       "version_major": 2,
       "version_minor": 0
      },
      "text/plain": [
       "9/10(t):   0%|          | 0/469 [00:00<?, ?it/s]"
      ]
     },
     "metadata": {},
     "output_type": "display_data"
    },
    {
     "data": {
      "application/vnd.jupyter.widget-view+json": {
       "model_id": "9dc6542259334549b2e09cc529e52cb9",
       "version_major": 2,
       "version_minor": 0
      },
      "text/plain": [
       "0/1(e):   0%|          | 0/79 [00:00<?, ?it/s]"
      ]
     },
     "metadata": {},
     "output_type": "display_data"
    },
    {
     "name": "stdout",
     "output_type": "stream",
     "text": [
      "{'test_loss': 1.604792833328247, 'test_acc': 0.917900025844574}\n"
     ]
    }
   ],
   "source": [
    "model = BaselineModel(784, 784, 10)\n",
    "\n",
    "import torchbearer\n",
    "\n",
    "# define the loss function and the optimiser\n",
    "loss_function = nn.CrossEntropyLoss()\n",
    "optimiser = optim.SGD(model.parameters(),lr=0.01)\n",
    "\n",
    "# Construct a trial object with the model, optimiser and loss.\n",
    "# Also specify metrics we wish to compute.\n",
    "trial = torchbearer.Trial(model, optimiser, loss_function, metrics=['loss', 'accuracy'])\n",
    "\n",
    "# Provide the data to the trial\n",
    "trial.with_generators(trainloader, test_generator=testloader)\n",
    "\n",
    "# raise NotImplementedError()\n",
    "\n",
    "trial.run(epochs=10)\n",
    "results = trial.evaluate(data_key=torchbearer.TEST_DATA)\n",
    "print(results)"
   ]
  },
  {
   "cell_type": "code",
   "execution_count": null,
   "id": "d1f2538a",
   "metadata": {},
   "outputs": [],
   "source": [
    "assert 'test_top_5_acc' in results"
   ]
  },
  {
   "cell_type": "markdown",
   "id": "d97af67a",
   "metadata": {},
   "source": [
    "# Part 4: Using GPU acceleration with PyTorch"
   ]
  },
  {
   "cell_type": "code",
   "execution_count": 85,
   "id": "b27f8f8a",
   "metadata": {},
   "outputs": [],
   "source": [
    "# Execute this code block to install dependencies when running on colab\n",
    "try:\n",
    "    import torch\n",
    "except:\n",
    "    from os.path import exists\n",
    "    from wheel.pep425tags import get_abbr_impl, get_impl_ver, get_abi_tag\n",
    "    platform = '{}{}-{}'.format(get_abbr_impl(), get_impl_ver(), get_abi_tag())\n",
    "    cuda_output = !ldconfig -p|grep cudart.so|sed -e 's/.*\\.\\([0-9]*\\)\\.\\([0-9]*\\)$/cu\\1\\2/'\n",
    "    accelerator = cuda_output[0] if exists('/dev/nvidia0') else 'cpu'\n",
    "\n",
    "    !pip install -q http://download.pytorch.org/whl/{accelerator}/torch-1.0.0-{platform}-linux_x86_64.whl torchvision\n",
    "\n",
    "try: \n",
    "    import torchbearer\n",
    "except:\n",
    "    !pip install torchbearer"
   ]
  },
  {
   "cell_type": "markdown",
   "id": "a94f338a",
   "metadata": {},
   "source": [
    "## Manual use of `.cuda()`\n",
    "\n",
    "Now the magic of PyTorch comes in. So far, we've only been using the CPU to do computation. When we want to scale to a bigger problem, that won't be feasible for very long.\n",
    "|\n",
    "PyTorch makes it really easy to use the GPU for accelerating computation. Consider the following code that computes the element-wise product of two large matrices:"
   ]
  },
  {
   "cell_type": "code",
   "execution_count": 89,
   "id": "2367a964",
   "metadata": {},
   "outputs": [
    {
     "name": "stdout",
     "output_type": "stream",
     "text": [
      "tensor([[-1.6484e-01,  2.3252e-01, -2.1696e-01,  ..., -4.5892e-01,\n",
      "         -5.9475e-01,  6.6404e-01],\n",
      "        [-2.0407e-01,  1.6821e+00, -4.2615e-01,  ...,  1.6458e+00,\n",
      "          7.5298e-03,  1.0569e+00],\n",
      "        [-1.9396e+00, -5.9453e-03, -6.3868e-01,  ..., -2.4617e-01,\n",
      "         -6.9171e-01, -2.1525e-01],\n",
      "        ...,\n",
      "        [-1.6236e-01,  5.1408e-01, -2.4478e-01,  ...,  2.1894e-01,\n",
      "          1.0766e+00,  1.1952e-03],\n",
      "        [ 2.2343e-01,  7.6868e-02,  2.2001e-02,  ..., -3.6203e-01,\n",
      "         -1.0679e+00,  1.2700e+00],\n",
      "        [ 4.7790e-01,  4.4935e-02,  2.7725e-02,  ...,  7.0565e-01,\n",
      "          1.5223e+00, -8.0436e-01]])\n"
     ]
    }
   ],
   "source": [
    "import torch\n",
    "\n",
    "t1 = torch.randn(1000, 1000)\n",
    "t2 = torch.randn(1000, 1000)\n",
    "t3 = t1*t2\n",
    "print(t3)"
   ]
  },
  {
   "cell_type": "markdown",
   "id": "98d6f128",
   "metadata": {},
   "source": [
    "By sending all the tensors that we are using to the GPU, all the operations on them will also run on the GPU without having to change anything else. If you're running a non-cuda enabled version of PyTorch the following will throw an error; if you have cuda available the following will create the input matrices, copy them to the GPU and perform the multiplication on the GPU itself:"
   ]
  },
  {
   "cell_type": "code",
   "execution_count": 90,
   "id": "ef85b724",
   "metadata": {},
   "outputs": [
    {
     "name": "stdout",
     "output_type": "stream",
     "text": [
      "tensor([[-1.2616, -0.3116,  2.7060,  ...,  0.1525,  0.0129, -0.1456],\n",
      "        [ 0.1018,  0.5369,  0.9776,  ...,  0.0701,  1.2108,  0.7350],\n",
      "        [-0.0094, -0.2527, -0.9634,  ...,  2.1062,  0.1521, -0.0636],\n",
      "        ...,\n",
      "        [ 0.0569,  0.1889, -0.2245,  ..., -0.0141,  3.1961,  0.0921],\n",
      "        [ 0.4837, -0.1430,  0.7373,  ...,  0.1614,  0.7192,  0.9106],\n",
      "        [ 1.5777, -0.5636,  0.4366,  ..., -0.1642, -0.1582,  0.0977]],\n",
      "       device='cuda:0')\n"
     ]
    }
   ],
   "source": [
    "t1 = torch.randn(1000, 1000).cuda()\n",
    "t2 = torch.randn(1000, 1000).cuda()\n",
    "t3 = t1*t2\n",
    "print(t3)"
   ]
  },
  {
   "cell_type": "markdown",
   "id": "85cbbdde",
   "metadata": {},
   "source": [
    "If you're running this workbook in colab, now enable GPU acceleration (`Runtime->Runtime Type` and add a `GPU` in the hardware accelerator pull-down). You'll then need to re-run all cells to this point.\n",
    "\n",
    "If you were able to run the above with hardware acceleration, the print-out of the result tensor would show that it was an instance of `cuda.FloatTensor` type on the the `(GPU 0)` GPU device. If your wanted to copy the tensor back to the CPU, you would use the `.cpu()` method."
   ]
  },
  {
   "cell_type": "markdown",
   "id": "abca80be",
   "metadata": {},
   "source": [
    "## Writing platform agnostic code\n",
    "\n",
    "Most of the time you'd like to write code that is device agnostic; that is it will run on a GPU if one is available, and otherwise it would fall back to the CPU. The recommended way to do this is as follows:"
   ]
  },
  {
   "cell_type": "code",
   "execution_count": 91,
   "id": "b1966ff9",
   "metadata": {},
   "outputs": [
    {
     "name": "stdout",
     "output_type": "stream",
     "text": [
      "tensor([[-3.1909e-02, -9.5337e-02,  1.2373e+00,  ..., -6.8906e-01,\n",
      "         -1.0202e-01, -4.1358e-01],\n",
      "        [-2.6960e-01, -8.9977e-01,  4.2768e-02,  ..., -3.9847e-01,\n",
      "         -9.1189e-01, -5.2213e-02],\n",
      "        [-4.9796e-01, -2.1806e-01, -6.0307e-02,  ..., -9.4614e-02,\n",
      "         -1.8332e+00,  8.1215e-02],\n",
      "        ...,\n",
      "        [ 3.4683e-02,  2.1868e-03, -1.3011e-02,  ...,  3.9992e-02,\n",
      "         -7.0146e-02, -1.6356e+00],\n",
      "        [ 2.5448e-02,  2.9004e+00,  5.9084e-01,  ..., -3.0651e+00,\n",
      "         -2.4663e-01, -6.1340e-01],\n",
      "        [ 1.5402e+00, -6.1012e-01,  3.1740e-01,  ...,  5.2992e-01,\n",
      "         -2.2852e-02,  1.3201e+00]], device='cuda:0')\n"
     ]
    }
   ],
   "source": [
    "device = \"cuda:0\" if torch.cuda.is_available() else \"cpu\"\n",
    "t1 = torch.randn(1000, 1000).to(device)\n",
    "t2 = torch.randn(1000, 1000).to(device)\n",
    "t3 = t1*t2\n",
    "print(t3)"
   ]
  },
  {
   "cell_type": "markdown",
   "id": "8d69c859",
   "metadata": {},
   "source": [
    "## Accelerating neural net training\n",
    "\n",
    "If you wanted to accelerate the training of a neural net using raw PyTorch, you would have to copy both the model and the training data to the GPU. Unless you were using a really small dataset like MNIST, you would typically _stream_ the batches of training data to the GPU as you used them in the training loop:\n",
    "\n",
    "```python\n",
    "device = \"cuda:0\" if torch.cuda.is_available() else \"cpu\"\n",
    "model = BaselineModel(784, 784, 10).to(device)\n",
    "\n",
    "loss_function = ...\n",
    "optimiser = ...\n",
    "\n",
    "for epoch in range(10):\n",
    "    for data in trainloader:\n",
    "        inputs, labels = data\n",
    "        inputs, labels = inputs.to(device), labels.to(device)\n",
    "\n",
    "        optimiser.zero_grad()\n",
    "        outputs = model(inputs)\n",
    "        loss = loss_function(outputs, labels)\n",
    "        loss.backward()\n",
    "        optimiser.step()\n",
    "```\n",
    "\n",
    "Using Torchbearer, this becomes much simpler - you just tell the `Trial` to run on the GPU and that's it!:\n",
    "\n",
    "```python\n",
    "model = BetterCNN()\n",
    "\n",
    "loss_function = ...\n",
    "optimiser = ...\n",
    "\n",
    "device = \"cuda:0\" if torch.cuda.is_available() else \"cpu\"\n",
    "\n",
    "trial = Trial(model, optimiser, loss_function, metrics=['loss', 'accuracy']).to(device)\n",
    "trial.with_generators(trainloader)\n",
    "trial.run(epochs=10)\n",
    "```"
   ]
  },
  {
   "cell_type": "markdown",
   "id": "4c37c538",
   "metadata": {},
   "source": [
    "## Multiple GPUs\n",
    "\n",
    "Using multiple GPUs is beyond the scope of the lab, but if you have multiple cuda devices, they can be referred to by index: `cuda:0`, `cuda:1`, `cuda:2`, etc. You have to be careful not to mix operations on different devices, and would need how to carefully orchestrate moving of data between the devices (which can really slow down your code to the point at which using the CPU would actually be faster)."
   ]
  },
  {
   "cell_type": "markdown",
   "id": "38b29448",
   "metadata": {},
   "source": [
    "## Questions\n",
    "\n",
    "__Answer the following questions (enter the answer in the box below each one):__\n",
    "\n",
    "__1.__ What features of GPUs allow them to perform computations faster than a typically CPU?"
   ]
  },
  {
   "cell_type": "markdown",
   "id": "cdb5b3f5",
   "metadata": {},
   "source": [
    "GPUs have a massively parallel processing architecture consisting of thousands of smaller, more efficient cores designed to handle multiple tasks simultaneously. It uses the CUDA(Compute Unified Device Architecture) technology to connect those internal processors together and become a thread processor to solve data-intensive calculations. Each processor can exchange, sync and share the data. GPUs have a parallel stream architecture that focuses on executing a large number of concurrent threads at a slower speed rather than executing a single thread rapidly. Whereas, the CPU just consists of several cores optimized for serial processing, does not have a strong capability in parallel processing."
   ]
  },
  {
   "cell_type": "markdown",
   "id": "62e803d0",
   "metadata": {},
   "source": [
    "__2.__ What is the biggest limiting factor for training large models with current generation GPUs?"
   ]
  },
  {
   "cell_type": "markdown",
   "id": "344b12aa",
   "metadata": {},
   "source": [
    "Training large models mean the data size is huge. The GPU memory capacity is the biggest limiting factor for training large models. The memory capacity limiting factor prevents GPU form handling terabyte-scale data. Due to limited by the bandwidth and latency of the PCIe bus, once the data size is bigger than the capacity of the GPU memory, the performance decreases significantly as the data transfers to the device become the primary bottleneck."
   ]
  }
 ],
 "metadata": {
  "kernelspec": {
   "display_name": "Python 3",
   "language": "python",
   "name": "python3"
  },
  "language_info": {
   "codemirror_mode": {
    "name": "ipython",
    "version": 3
   },
   "file_extension": ".py",
   "mimetype": "text/x-python",
   "name": "python",
   "nbconvert_exporter": "python",
   "pygments_lexer": "ipython3",
   "version": "3.8.8"
  }
 },
 "nbformat": 4,
 "nbformat_minor": 5
}
